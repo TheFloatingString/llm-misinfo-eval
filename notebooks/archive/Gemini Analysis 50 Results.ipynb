{
 "cells": [
  {
   "cell_type": "code",
   "execution_count": 1,
   "id": "3686c595-33bb-499f-ace8-34842e05d13c",
   "metadata": {},
   "outputs": [],
   "source": [
    "import pandas as pd"
   ]
  },
  {
   "cell_type": "code",
   "execution_count": 2,
   "id": "526865e0-2229-4299-919b-ca012696abdf",
   "metadata": {},
   "outputs": [],
   "source": [
    "df_x_fact = pd.read_csv(\"../data/x_fact_dataset/x-fact-including-en/train.all.tsv\", delimiter=\"\\t\", on_bad_lines=\"skip\")"
   ]
  },
  {
   "cell_type": "code",
   "execution_count": 4,
   "id": "377d837a-34bd-49c2-8b30-6a91e2f49c43",
   "metadata": {},
   "outputs": [
    {
     "data": {
      "text/html": [
       "<div>\n",
       "<style scoped>\n",
       "    .dataframe tbody tr th:only-of-type {\n",
       "        vertical-align: middle;\n",
       "    }\n",
       "\n",
       "    .dataframe tbody tr th {\n",
       "        vertical-align: top;\n",
       "    }\n",
       "\n",
       "    .dataframe thead th {\n",
       "        text-align: right;\n",
       "    }\n",
       "</style>\n",
       "<table border=\"1\" class=\"dataframe\">\n",
       "  <thead>\n",
       "    <tr style=\"text-align: right;\">\n",
       "      <th></th>\n",
       "      <th>language</th>\n",
       "      <th>site</th>\n",
       "      <th>evidence_1</th>\n",
       "      <th>evidence_2</th>\n",
       "      <th>evidence_3</th>\n",
       "      <th>evidence_4</th>\n",
       "      <th>evidence_5</th>\n",
       "      <th>link_1</th>\n",
       "      <th>link_2</th>\n",
       "      <th>link_3</th>\n",
       "      <th>link_4</th>\n",
       "      <th>link_5</th>\n",
       "      <th>claimDate</th>\n",
       "      <th>reviewDate</th>\n",
       "      <th>claimant</th>\n",
       "      <th>claim</th>\n",
       "      <th>label</th>\n",
       "    </tr>\n",
       "  </thead>\n",
       "  <tbody>\n",
       "    <tr>\n",
       "      <th>0</th>\n",
       "      <td>tr</td>\n",
       "      <td>dogrulukpayi.com</td>\n",
       "      <td>Son 50 yılın siyasi tarihine bakın, tek başına...</td>\n",
       "      <td>Son 50 yılın siyasi tarihine bakın, tek başına...</td>\n",
       "      <td>Türkiye potansiyelini doğru kullanıp yüzde 7 b...</td>\n",
       "      <td>2020/01/02 — Türkiye Cumhuriyeti tarihinde hiç...</td>\n",
       "      <td>2002/12/09 — Cumhuriyet tarihi boyunca tek par...</td>\n",
       "      <td>https://www.dogrulukpayi.com/iddia-kontrolu/so...</td>\n",
       "      <td>https://www.dogrulukpayi.com/yazar/furkan-demi...</td>\n",
       "      <td>https://businessht.bloomberght.com/yazarlar/ca...</td>\n",
       "      <td>https://www.mahfiegilmez.com/2020/01/turkiye-e...</td>\n",
       "      <td>https://www.hurriyet.com.tr/ekonomi/tek-parti-...</td>\n",
       "      <td>none</td>\n",
       "      <td>none</td>\n",
       "      <td>Binali  Yıldırım</td>\n",
       "      <td>Son 50 yılın siyasi tarihine bakın, tek başına...</td>\n",
       "      <td>false</td>\n",
       "    </tr>\n",
       "    <tr>\n",
       "      <th>1</th>\n",
       "      <td>ka</td>\n",
       "      <td>factcheck.ge</td>\n",
       "      <td>Oct 4, 2018 — იტალიის სამაშველო სამსახურებს მი...</td>\n",
       "      <td>ევროპული ღირებულებები - იტალიის სამაშველო სამს...</td>\n",
       "      <td>ევროპული ღირებულებები - იტალიის სამაშველო სამს...</td>\n",
       "      <td>&lt;DUMMY_EVIDENCE&gt;</td>\n",
       "      <td>&lt;DUMMY_EVIDENCE&gt;</td>\n",
       "      <td>https://factcheck.ge/ka/story/37352-evropuli-g...</td>\n",
       "      <td>https://factcheck.ge/ka/page/persons/thbilisi-24</td>\n",
       "      <td>http://142.93.167.204/ka/page/persons/thbilisi-24</td>\n",
       "      <td>NO_LINK</td>\n",
       "      <td>NO_LINK</td>\n",
       "      <td>none</td>\n",
       "      <td>none</td>\n",
       "      <td>თბილისი 24</td>\n",
       "      <td>ევროპული ღირებულებები - იტალიის სამაშველო სამს...</td>\n",
       "      <td>partly true/misleading</td>\n",
       "    </tr>\n",
       "    <tr>\n",
       "      <th>2</th>\n",
       "      <td>pt</td>\n",
       "      <td>piaui.folha.uol.com.br</td>\n",
       "      <td>03.11.2020 — “Aqui em São Paulo, nós estamos c...</td>\n",
       "      <td>03.11.2020 — ... França erra sobre creches, mo...</td>\n",
       "      <td>05.06.2020 — A lei aprovada pelo Congresso que...</td>\n",
       "      <td>Caixa paga auxílio emergencial de R$ 600 e R$ ...</td>\n",
       "      <td>7 de julho de 2020, 15:20h ... Porém, diferent...</td>\n",
       "      <td>https://piaui.folha.uol.com.br/lupa/2020/11/03...</td>\n",
       "      <td>https://www1.folha.uol.com.br/poder/2020/11/na...</td>\n",
       "      <td>https://g1.globo.com/economia/noticia/2020/06/...</td>\n",
       "      <td>https://jc.ne10.uol.com.br/economia/2020/11/11...</td>\n",
       "      <td>https://noticiasconcursos.com.br/direitos-trab...</td>\n",
       "      <td>2020-11-03T12:41:12Z</td>\n",
       "      <td>2020-11-03T12:41:12Z</td>\n",
       "      <td>Márcio França (PSB)</td>\n",
       "      <td>Aqui em São Paulo, nós estamos com 2,7 milhões...</td>\n",
       "      <td>partly true/misleading</td>\n",
       "    </tr>\n",
       "    <tr>\n",
       "      <th>3</th>\n",
       "      <td>ka</td>\n",
       "      <td>factcheck.ge</td>\n",
       "      <td>Sep 12, 2016 — ირაკლი ხახუბია, \"ნაციონალური მო...</td>\n",
       "      <td>ირაკლი ხახუბია, \"ნაციონალური მოძრაობის\" სპონსო...</td>\n",
       "      <td>ირაკლი ხახუბია, \"ნაციონალური მოძრაობის\" სპონსო...</td>\n",
       "      <td>ირაკლი ხახუბია, \"ნაციონალური მოძრაობის\" სპონსო...</td>\n",
       "      <td>&lt;DUMMY_EVIDENCE&gt;</td>\n",
       "      <td>https://factcheck.ge/ka/story/23935-irakli-kha...</td>\n",
       "      <td>https://factcheck.ge/ka/stories/archive?page=128</td>\n",
       "      <td>http://142.93.167.204/ka/stories/archive?page=140</td>\n",
       "      <td>http://142.93.167.204/ka/topics/%E1%83%9E%E1%8...</td>\n",
       "      <td>NO_LINK</td>\n",
       "      <td>none</td>\n",
       "      <td>none</td>\n",
       "      <td>შალვა ნათელაშვილი</td>\n",
       "      <td>ირაკლი ხახუბია, \"ნაციონალური მოძრაობის\" სპონსო...</td>\n",
       "      <td>true</td>\n",
       "    </tr>\n",
       "    <tr>\n",
       "      <th>4</th>\n",
       "      <td>id</td>\n",
       "      <td>cekfakta.com</td>\n",
       "      <td>Sep 18, 2018 — Akun @lambeturah memposting seb...</td>\n",
       "      <td>[SALAH] Zumi Zola Jalan-Jalan Di Bandara Soeka...</td>\n",
       "      <td>[DISINFORMASI] Zumi Zola Jalan-Jalan Di Bandar...</td>\n",
       "      <td>Sep 17, 2018 — JAKARTA, KOMPAS.com - Pengacara...</td>\n",
       "      <td>Sep 17, 2018 — Jakarta, CNN Indonesia -- Sebua...</td>\n",
       "      <td>https://turnbackhoax.id/2018/09/18/salah-zumi-...</td>\n",
       "      <td>https://ru-ru.facebook.com/groups/fafhh/permal...</td>\n",
       "      <td>https://cekfakta.com/focus/459</td>\n",
       "      <td>https://nasional.kompas.com/read/2018/09/17/10...</td>\n",
       "      <td>https://www.cnnindonesia.com/nasional/20180917...</td>\n",
       "      <td>none</td>\n",
       "      <td>2018-09-18T00:00:00Z</td>\n",
       "      <td>none</td>\n",
       "      <td>Zumi Zola Jalan-Jalan Di Bandara Soekarno-Hatta</td>\n",
       "      <td>false</td>\n",
       "    </tr>\n",
       "  </tbody>\n",
       "</table>\n",
       "</div>"
      ],
      "text/plain": [
       "  language                    site  \\\n",
       "0       tr        dogrulukpayi.com   \n",
       "1       ka            factcheck.ge   \n",
       "2       pt  piaui.folha.uol.com.br   \n",
       "3       ka            factcheck.ge   \n",
       "4       id            cekfakta.com   \n",
       "\n",
       "                                          evidence_1  \\\n",
       "0  Son 50 yılın siyasi tarihine bakın, tek başına...   \n",
       "1  Oct 4, 2018 — იტალიის სამაშველო სამსახურებს მი...   \n",
       "2  03.11.2020 — “Aqui em São Paulo, nós estamos c...   \n",
       "3  Sep 12, 2016 — ირაკლი ხახუბია, \"ნაციონალური მო...   \n",
       "4  Sep 18, 2018 — Akun @lambeturah memposting seb...   \n",
       "\n",
       "                                          evidence_2  \\\n",
       "0  Son 50 yılın siyasi tarihine bakın, tek başına...   \n",
       "1  ევროპული ღირებულებები - იტალიის სამაშველო სამს...   \n",
       "2  03.11.2020 — ... França erra sobre creches, mo...   \n",
       "3  ირაკლი ხახუბია, \"ნაციონალური მოძრაობის\" სპონსო...   \n",
       "4  [SALAH] Zumi Zola Jalan-Jalan Di Bandara Soeka...   \n",
       "\n",
       "                                          evidence_3  \\\n",
       "0  Türkiye potansiyelini doğru kullanıp yüzde 7 b...   \n",
       "1  ევროპული ღირებულებები - იტალიის სამაშველო სამს...   \n",
       "2  05.06.2020 — A lei aprovada pelo Congresso que...   \n",
       "3  ირაკლი ხახუბია, \"ნაციონალური მოძრაობის\" სპონსო...   \n",
       "4  [DISINFORMASI] Zumi Zola Jalan-Jalan Di Bandar...   \n",
       "\n",
       "                                          evidence_4  \\\n",
       "0  2020/01/02 — Türkiye Cumhuriyeti tarihinde hiç...   \n",
       "1                                   <DUMMY_EVIDENCE>   \n",
       "2  Caixa paga auxílio emergencial de R$ 600 e R$ ...   \n",
       "3  ირაკლი ხახუბია, \"ნაციონალური მოძრაობის\" სპონსო...   \n",
       "4  Sep 17, 2018 — JAKARTA, KOMPAS.com - Pengacara...   \n",
       "\n",
       "                                          evidence_5  \\\n",
       "0  2002/12/09 — Cumhuriyet tarihi boyunca tek par...   \n",
       "1                                   <DUMMY_EVIDENCE>   \n",
       "2  7 de julho de 2020, 15:20h ... Porém, diferent...   \n",
       "3                                   <DUMMY_EVIDENCE>   \n",
       "4  Sep 17, 2018 — Jakarta, CNN Indonesia -- Sebua...   \n",
       "\n",
       "                                              link_1  \\\n",
       "0  https://www.dogrulukpayi.com/iddia-kontrolu/so...   \n",
       "1  https://factcheck.ge/ka/story/37352-evropuli-g...   \n",
       "2  https://piaui.folha.uol.com.br/lupa/2020/11/03...   \n",
       "3  https://factcheck.ge/ka/story/23935-irakli-kha...   \n",
       "4  https://turnbackhoax.id/2018/09/18/salah-zumi-...   \n",
       "\n",
       "                                              link_2  \\\n",
       "0  https://www.dogrulukpayi.com/yazar/furkan-demi...   \n",
       "1   https://factcheck.ge/ka/page/persons/thbilisi-24   \n",
       "2  https://www1.folha.uol.com.br/poder/2020/11/na...   \n",
       "3   https://factcheck.ge/ka/stories/archive?page=128   \n",
       "4  https://ru-ru.facebook.com/groups/fafhh/permal...   \n",
       "\n",
       "                                              link_3  \\\n",
       "0  https://businessht.bloomberght.com/yazarlar/ca...   \n",
       "1  http://142.93.167.204/ka/page/persons/thbilisi-24   \n",
       "2  https://g1.globo.com/economia/noticia/2020/06/...   \n",
       "3  http://142.93.167.204/ka/stories/archive?page=140   \n",
       "4                     https://cekfakta.com/focus/459   \n",
       "\n",
       "                                              link_4  \\\n",
       "0  https://www.mahfiegilmez.com/2020/01/turkiye-e...   \n",
       "1                                            NO_LINK   \n",
       "2  https://jc.ne10.uol.com.br/economia/2020/11/11...   \n",
       "3  http://142.93.167.204/ka/topics/%E1%83%9E%E1%8...   \n",
       "4  https://nasional.kompas.com/read/2018/09/17/10...   \n",
       "\n",
       "                                              link_5             claimDate  \\\n",
       "0  https://www.hurriyet.com.tr/ekonomi/tek-parti-...                  none   \n",
       "1                                            NO_LINK                  none   \n",
       "2  https://noticiasconcursos.com.br/direitos-trab...  2020-11-03T12:41:12Z   \n",
       "3                                            NO_LINK                  none   \n",
       "4  https://www.cnnindonesia.com/nasional/20180917...                  none   \n",
       "\n",
       "             reviewDate             claimant  \\\n",
       "0                  none     Binali  Yıldırım   \n",
       "1                  none           თბილისი 24   \n",
       "2  2020-11-03T12:41:12Z  Márcio França (PSB)   \n",
       "3                  none    შალვა ნათელაშვილი   \n",
       "4  2018-09-18T00:00:00Z                 none   \n",
       "\n",
       "                                               claim                   label  \n",
       "0  Son 50 yılın siyasi tarihine bakın, tek başına...                   false  \n",
       "1  ევროპული ღირებულებები - იტალიის სამაშველო სამს...  partly true/misleading  \n",
       "2  Aqui em São Paulo, nós estamos com 2,7 milhões...  partly true/misleading  \n",
       "3  ირაკლი ხახუბია, \"ნაციონალური მოძრაობის\" სპონსო...                    true  \n",
       "4    Zumi Zola Jalan-Jalan Di Bandara Soekarno-Hatta                   false  "
      ]
     },
     "execution_count": 4,
     "metadata": {},
     "output_type": "execute_result"
    }
   ],
   "source": [
    "df_x_fact.head()"
   ]
  },
  {
   "cell_type": "code",
   "execution_count": 5,
   "id": "fa169f7b-abdc-4a61-be30-4ed15be712d1",
   "metadata": {},
   "outputs": [],
   "source": [
    "df_gemini_50 = pd.read_csv(\"Gemini Results - 50 - Sheet1.csv\")"
   ]
  },
  {
   "cell_type": "code",
   "execution_count": 6,
   "id": "9e09e927-8a99-475f-a1c4-5b9e7cbc6601",
   "metadata": {},
   "outputs": [
    {
     "data": {
      "text/html": [
       "<div>\n",
       "<style scoped>\n",
       "    .dataframe tbody tr th:only-of-type {\n",
       "        vertical-align: middle;\n",
       "    }\n",
       "\n",
       "    .dataframe tbody tr th {\n",
       "        vertical-align: top;\n",
       "    }\n",
       "\n",
       "    .dataframe thead th {\n",
       "        text-align: right;\n",
       "    }\n",
       "</style>\n",
       "<table border=\"1\" class=\"dataframe\">\n",
       "  <thead>\n",
       "    <tr style=\"text-align: right;\">\n",
       "      <th></th>\n",
       "      <th>Index</th>\n",
       "      <th>Prompt 1</th>\n",
       "      <th>Prompt 2</th>\n",
       "      <th>Processed label</th>\n",
       "    </tr>\n",
       "  </thead>\n",
       "  <tbody>\n",
       "    <tr>\n",
       "      <th>0</th>\n",
       "      <td>0</td>\n",
       "      <td>75</td>\n",
       "      <td>1</td>\n",
       "      <td>0.0</td>\n",
       "    </tr>\n",
       "    <tr>\n",
       "      <th>1</th>\n",
       "      <td>1</td>\n",
       "      <td>50</td>\n",
       "      <td>0</td>\n",
       "      <td>1.0</td>\n",
       "    </tr>\n",
       "    <tr>\n",
       "      <th>2</th>\n",
       "      <td>2</td>\n",
       "      <td>50</td>\n",
       "      <td>0</td>\n",
       "      <td>1.0</td>\n",
       "    </tr>\n",
       "    <tr>\n",
       "      <th>3</th>\n",
       "      <td>3</td>\n",
       "      <td>50</td>\n",
       "      <td>1</td>\n",
       "      <td>1.0</td>\n",
       "    </tr>\n",
       "    <tr>\n",
       "      <th>4</th>\n",
       "      <td>4</td>\n",
       "      <td>0</td>\n",
       "      <td>1</td>\n",
       "      <td>0.0</td>\n",
       "    </tr>\n",
       "  </tbody>\n",
       "</table>\n",
       "</div>"
      ],
      "text/plain": [
       "   Index  Prompt 1  Prompt 2  Processed label\n",
       "0      0        75         1              0.0\n",
       "1      1        50         0              1.0\n",
       "2      2        50         0              1.0\n",
       "3      3        50         1              1.0\n",
       "4      4         0         1              0.0"
      ]
     },
     "execution_count": 6,
     "metadata": {},
     "output_type": "execute_result"
    }
   ],
   "source": [
    "df_gemini_50.head()"
   ]
  },
  {
   "cell_type": "code",
   "execution_count": 8,
   "id": "91ab3301-aa06-44ca-a6b0-7392769a22a7",
   "metadata": {},
   "outputs": [],
   "source": [
    "from sklearn.metrics import classification_report"
   ]
  },
  {
   "cell_type": "code",
   "execution_count": 13,
   "id": "9c0ee21d-53cf-4b3c-80fa-17e58c440991",
   "metadata": {},
   "outputs": [
    {
     "name": "stdout",
     "output_type": "stream",
     "text": [
      "              precision    recall  f1-score   support\n",
      "\n",
      "           0       0.81      0.58      0.68        38\n",
      "           1       0.30      0.58      0.40        12\n",
      "\n",
      "    accuracy                           0.58        50\n",
      "   macro avg       0.56      0.58      0.54        50\n",
      "weighted avg       0.69      0.58      0.61        50\n",
      "\n"
     ]
    }
   ],
   "source": [
    "y_true_binary = []\n",
    "for i in range(50):\n",
    "    if df_x_fact['label'][i] == 'true':\n",
    "        y_true_binary.append(1)\n",
    "    else:\n",
    "        y_true_binary.append(0)\n",
    "print(classification_report(y_true_binary, df_gemini_50['Prompt 2'].values))"
   ]
  },
  {
   "cell_type": "markdown",
   "id": "d16e5a8b-0dd5-4285-943c-4cc4a0d5a58f",
   "metadata": {},
   "source": [
    "### Overall Performance"
   ]
  },
  {
   "cell_type": "code",
   "execution_count": 45,
   "id": "29179c8e-48c0-433f-b5c5-e6fd845c47cc",
   "metadata": {},
   "outputs": [],
   "source": [
    "y_pred_binary_prompt_1 = []\n",
    "for i in range(50):\n",
    "    if df_gemini_50['Prompt 1'][i] > 50:\n",
    "        y_pred_binary_prompt_1.append(1)\n",
    "    else:\n",
    "        y_pred_binary_prompt_1.append(0)"
   ]
  },
  {
   "cell_type": "code",
   "execution_count": 46,
   "id": "2ddbaedc-35a0-48f3-8cee-5f8b9120cca7",
   "metadata": {},
   "outputs": [
    {
     "name": "stdout",
     "output_type": "stream",
     "text": [
      "              precision    recall  f1-score   support\n",
      "\n",
      "           0       0.83      0.92      0.88        38\n",
      "           1       0.62      0.42      0.50        12\n",
      "\n",
      "    accuracy                           0.80        50\n",
      "   macro avg       0.73      0.67      0.69        50\n",
      "weighted avg       0.78      0.80      0.79        50\n",
      "\n"
     ]
    }
   ],
   "source": [
    "print(classification_report(y_true_binary, y_pred_binary_prompt_1))"
   ]
  },
  {
   "cell_type": "markdown",
   "id": "f6e845d9-0d97-4fb3-aa5b-f82cc2d3941f",
   "metadata": {},
   "source": [
    "## European vs Non-European"
   ]
  },
  {
   "cell_type": "code",
   "execution_count": 65,
   "id": "84911368-9011-43f6-b66f-c63dbb14819f",
   "metadata": {},
   "outputs": [],
   "source": [
    "def euro_or_not(lang):\n",
    "    if lang in [\"de\", \"es\", \"fr\", \"it\", \"no\", \"nl\", \"pl\", \"pt\", \"ro\", \"ru\", \"sr\", \"sq\"]: #german, spanish, french, italian, norwegian, dutch, polish\n",
    "        return True\n",
    "    else: #ar - arabic; az - azerbaijani; bn - bengali; fa - farsi; gu - gujarati; hi - hindi; id - indonesian\n",
    "        #ka - georgian; mr - marathi; pa - punjabi; si - sinhala; ta - tamil; tr - turkish\n",
    "        return False"
   ]
  },
  {
   "cell_type": "code",
   "execution_count": 66,
   "id": "77c4e2e4-c1e9-48ca-8d11-1604d112fafd",
   "metadata": {},
   "outputs": [],
   "source": [
    "euro_y_true = []\n",
    "euro_y_pred = []\n",
    "non_euro_y_true = []\n",
    "non_euro_y_pred = []\n",
    "for i in range(50):\n",
    "    if euro_or_not(df_x_fact['language'][i]):\n",
    "        euro_y_true.append(conservative_true(df_x_fact['label'][i]))\n",
    "        euro_y_pred.append(y_pred_binary_prompt_1[i])\n",
    "    else:\n",
    "        non_euro_y_true.append(conservative_true(df_x_fact['label'][i]))\n",
    "        non_euro_y_pred.append(y_pred_binary_prompt_1[i])"
   ]
  },
  {
   "cell_type": "code",
   "execution_count": 67,
   "id": "24ff34c1-364d-4dcc-acdb-32f318d4b66e",
   "metadata": {},
   "outputs": [
    {
     "name": "stdout",
     "output_type": "stream",
     "text": [
      "              precision    recall  f1-score   support\n",
      "\n",
      "           0       0.75      1.00      0.86        18\n",
      "           1       1.00      0.14      0.25         7\n",
      "\n",
      "    accuracy                           0.76        25\n",
      "   macro avg       0.88      0.57      0.55        25\n",
      "weighted avg       0.82      0.76      0.69        25\n",
      "\n"
     ]
    }
   ],
   "source": [
    "print(classification_report(euro_y_true, euro_y_pred))"
   ]
  },
  {
   "cell_type": "code",
   "execution_count": 68,
   "id": "02ae2f58-2b4e-4131-9b45-a42d650e11a4",
   "metadata": {},
   "outputs": [
    {
     "name": "stdout",
     "output_type": "stream",
     "text": [
      "              precision    recall  f1-score   support\n",
      "\n",
      "           0       0.94      0.85      0.89        20\n",
      "           1       0.57      0.80      0.67         5\n",
      "\n",
      "    accuracy                           0.84        25\n",
      "   macro avg       0.76      0.82      0.78        25\n",
      "weighted avg       0.87      0.84      0.85        25\n",
      "\n"
     ]
    }
   ],
   "source": [
    "print(classification_report(non_euro_y_true, non_euro_y_pred))"
   ]
  },
  {
   "cell_type": "markdown",
   "id": "4ecbc28b-6a11-4b00-9fd7-fd1c29ce7cc4",
   "metadata": {},
   "source": [
    "## Western vs Non-Western"
   ]
  },
  {
   "cell_type": "code",
   "execution_count": 28,
   "id": "deb96fa7-b73e-4a55-988b-d961b270132c",
   "metadata": {},
   "outputs": [],
   "source": [
    "def western(lang):\n",
    "    if lang in [\"de\", \"es\", \"fr\", \"it\", \"nl\", \"no\", \"pt\"]:\n",
    "        return True\n",
    "    else:\n",
    "        return False"
   ]
  },
  {
   "cell_type": "code",
   "execution_count": 24,
   "id": "25838f14-07e5-4504-ab60-b50df011b351",
   "metadata": {},
   "outputs": [],
   "source": [
    "def conservative_true(label):\n",
    "    if label==\"true\":\n",
    "        return 1\n",
    "    else:\n",
    "        return 0"
   ]
  },
  {
   "cell_type": "code",
   "execution_count": 25,
   "id": "bccf2de4-1a7f-4950-88aa-02be9cfb6796",
   "metadata": {},
   "outputs": [],
   "source": [
    "def prediction_class(score):\n",
    "    if score>50: return 1\n",
    "    else: return 0"
   ]
  },
  {
   "cell_type": "code",
   "execution_count": 56,
   "id": "8e14020e-cfdb-49ad-848a-5d0c76b76dd1",
   "metadata": {},
   "outputs": [],
   "source": [
    "western_y_true = []\n",
    "western_y_pred = []\n",
    "non_western_y_true = []\n",
    "non_western_y_pred = []\n",
    "for i in range(50):\n",
    "    if western(df_x_fact['language'][i]):\n",
    "        western_y_true.append(conservative_true(df_x_fact['label'][i]))\n",
    "        western_y_pred.append(y_pred_binary_prompt_1[i])\n",
    "    else:\n",
    "        non_western_y_true.append(conservative_true(df_x_fact['label'][i]))\n",
    "        non_western_y_pred.append(y_pred_binary_prompt_1[i])"
   ]
  },
  {
   "cell_type": "code",
   "execution_count": 55,
   "id": "2b5a98f0-fc03-4a14-a87a-d111760c7eb3",
   "metadata": {},
   "outputs": [
    {
     "data": {
      "text/plain": [
       "[0, 0, 0, 0, 0, 0, 0, 0, 0, 0, 0, 0, 0, 0, 0, 0, 0, 0]"
      ]
     },
     "execution_count": 55,
     "metadata": {},
     "output_type": "execute_result"
    }
   ],
   "source": [
    "western_y_pred"
   ]
  },
  {
   "cell_type": "code",
   "execution_count": 54,
   "id": "ae34c380-7f87-4e3f-ac6d-cdb0c5e6eea5",
   "metadata": {},
   "outputs": [
    {
     "name": "stdout",
     "output_type": "stream",
     "text": [
      "              precision    recall  f1-score   support\n",
      "\n",
      "           0       0.83      1.00      0.91        15\n",
      "           1       0.00      0.00      0.00         3\n",
      "\n",
      "    accuracy                           0.83        18\n",
      "   macro avg       0.42      0.50      0.45        18\n",
      "weighted avg       0.69      0.83      0.76        18\n",
      "\n"
     ]
    },
    {
     "name": "stderr",
     "output_type": "stream",
     "text": [
      "C:\\Users\\laure\\AppData\\Local\\Programs\\Python\\Python311\\Lib\\site-packages\\sklearn\\metrics\\_classification.py:1469: UndefinedMetricWarning: Precision and F-score are ill-defined and being set to 0.0 in labels with no predicted samples. Use `zero_division` parameter to control this behavior.\n",
      "  _warn_prf(average, modifier, msg_start, len(result))\n",
      "C:\\Users\\laure\\AppData\\Local\\Programs\\Python\\Python311\\Lib\\site-packages\\sklearn\\metrics\\_classification.py:1469: UndefinedMetricWarning: Precision and F-score are ill-defined and being set to 0.0 in labels with no predicted samples. Use `zero_division` parameter to control this behavior.\n",
      "  _warn_prf(average, modifier, msg_start, len(result))\n",
      "C:\\Users\\laure\\AppData\\Local\\Programs\\Python\\Python311\\Lib\\site-packages\\sklearn\\metrics\\_classification.py:1469: UndefinedMetricWarning: Precision and F-score are ill-defined and being set to 0.0 in labels with no predicted samples. Use `zero_division` parameter to control this behavior.\n",
      "  _warn_prf(average, modifier, msg_start, len(result))\n"
     ]
    }
   ],
   "source": [
    "print(classification_report(western_y_true, western_y_pred))"
   ]
  },
  {
   "cell_type": "code",
   "execution_count": 53,
   "id": "19aa3e39-d0f4-49a7-8389-c5a3c47278f8",
   "metadata": {},
   "outputs": [
    {
     "name": "stdout",
     "output_type": "stream",
     "text": [
      "              precision    recall  f1-score   support\n",
      "\n",
      "           0       0.83      0.87      0.85        23\n",
      "           1       0.62      0.56      0.59         9\n",
      "\n",
      "    accuracy                           0.78        32\n",
      "   macro avg       0.73      0.71      0.72        32\n",
      "weighted avg       0.77      0.78      0.78        32\n",
      "\n"
     ]
    }
   ],
   "source": [
    "print(classification_report(non_western_y_true, non_western_y_pred))"
   ]
  },
  {
   "cell_type": "markdown",
   "id": "15f1d919-b438-4902-8249-d87f58011c00",
   "metadata": {},
   "source": [
    "## Small vs Large"
   ]
  },
  {
   "cell_type": "code",
   "execution_count": 59,
   "id": "738b2af3-0e3a-46e4-afca-6a61546c669c",
   "metadata": {},
   "outputs": [],
   "source": [
    "def small(lang):\n",
    "    if lang in [\"no\", \"nl\", \"pl\", \"ro\", \"sr\", \"sq\", \"az\", \"ka\", \"si\"]:\n",
    "        return True\n",
    "    else: return False"
   ]
  },
  {
   "cell_type": "code",
   "execution_count": 62,
   "id": "392739e3-508e-45a0-b90d-f884ec71e900",
   "metadata": {},
   "outputs": [],
   "source": [
    "small_y_true = []\n",
    "small_y_pred = []\n",
    "large_y_true = []\n",
    "large_y_pred = []\n",
    "for i in range(50):\n",
    "    if small(df_x_fact['language'][i]):\n",
    "        small_y_true.append(conservative_true(df_x_fact['label'][i]))\n",
    "        small_y_pred.append(y_pred_binary_prompt_1[i])\n",
    "    else:\n",
    "        large_y_true.append(conservative_true(df_x_fact['label'][i]))\n",
    "        large_y_pred.append(y_pred_binary_prompt_1[i])"
   ]
  },
  {
   "cell_type": "code",
   "execution_count": 63,
   "id": "6c130cd0-2045-44c4-9e3d-a5b6cdef92c0",
   "metadata": {},
   "outputs": [
    {
     "name": "stdout",
     "output_type": "stream",
     "text": [
      "              precision    recall  f1-score   support\n",
      "\n",
      "           0       0.56      0.83      0.67         6\n",
      "           1       0.75      0.43      0.55         7\n",
      "\n",
      "    accuracy                           0.62        13\n",
      "   macro avg       0.65      0.63      0.61        13\n",
      "weighted avg       0.66      0.62      0.60        13\n",
      "\n"
     ]
    }
   ],
   "source": [
    "print(classification_report(small_y_true, small_y_pred))"
   ]
  },
  {
   "cell_type": "code",
   "execution_count": 64,
   "id": "d4569738-dafe-4383-924b-c9c61a6d3012",
   "metadata": {},
   "outputs": [
    {
     "name": "stdout",
     "output_type": "stream",
     "text": [
      "              precision    recall  f1-score   support\n",
      "\n",
      "           0       0.91      0.94      0.92        32\n",
      "           1       0.50      0.40      0.44         5\n",
      "\n",
      "    accuracy                           0.86        37\n",
      "   macro avg       0.70      0.67      0.68        37\n",
      "weighted avg       0.85      0.86      0.86        37\n",
      "\n"
     ]
    }
   ],
   "source": [
    "print(classification_report(large_y_true, large_y_pred))"
   ]
  }
 ],
 "metadata": {
  "kernelspec": {
   "display_name": "Python 3 (ipykernel)",
   "language": "python",
   "name": "python3"
  },
  "language_info": {
   "codemirror_mode": {
    "name": "ipython",
    "version": 3
   },
   "file_extension": ".py",
   "mimetype": "text/x-python",
   "name": "python",
   "nbconvert_exporter": "python",
   "pygments_lexer": "ipython3",
   "version": "3.11.4"
  }
 },
 "nbformat": 4,
 "nbformat_minor": 5
}
