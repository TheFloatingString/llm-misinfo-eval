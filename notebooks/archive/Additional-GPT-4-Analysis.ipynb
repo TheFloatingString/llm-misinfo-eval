{
 "cells": [
  {
   "cell_type": "code",
   "execution_count": 1,
   "id": "b8afaae6-b465-4bf9-b71a-01d58565f23d",
   "metadata": {},
   "outputs": [],
   "source": [
    "# import json\n",
    "# with open('prompt1.json', 'r') as file:\n",
    "#     openai_resp = json.load(file)"
   ]
  },
  {
   "cell_type": "code",
   "execution_count": 1,
   "id": "032d61a9-fc38-4af8-ae6d-4c2c0a2c785f",
   "metadata": {},
   "outputs": [],
   "source": [
    "import pandas as pd\n",
    "# df_resul\n",
    "# openai_resp=pd.DataFrame(openai_resp)"
   ]
  },
  {
   "cell_type": "code",
   "execution_count": 2,
   "id": "cb2dbec1-4d9d-45bc-9a2d-d3b99873c6ca",
   "metadata": {},
   "outputs": [],
   "source": [
    "# openai_resp"
   ]
  },
  {
   "cell_type": "code",
   "execution_count": 3,
   "id": "54b52104-c7a9-4853-96b5-d7b090e73cd0",
   "metadata": {},
   "outputs": [],
   "source": [
    "#remove other and complicated labels \n",
    "# df_results0 = openai_resp[~openai_resp['label'].isin(['complicated/hard to categorise', 'other'])]\n",
    "df_results0 = pd.read_csv('../data/naacl-woah-results/sample-500-run_gpt-4-0125-preview_naacl.csv')"
   ]
  },
  {
   "cell_type": "code",
   "execution_count": 5,
   "id": "8a5c8b70-9fb6-477c-8052-53cf8d9a067b",
   "metadata": {},
   "outputs": [
    {
     "data": {
      "text/html": [
       "<div>\n",
       "<style scoped>\n",
       "    .dataframe tbody tr th:only-of-type {\n",
       "        vertical-align: middle;\n",
       "    }\n",
       "\n",
       "    .dataframe tbody tr th {\n",
       "        vertical-align: top;\n",
       "    }\n",
       "\n",
       "    .dataframe thead th {\n",
       "        text-align: right;\n",
       "    }\n",
       "</style>\n",
       "<table border=\"1\" class=\"dataframe\">\n",
       "  <thead>\n",
       "    <tr style=\"text-align: right;\">\n",
       "      <th></th>\n",
       "      <th>original_id</th>\n",
       "      <th>original_input</th>\n",
       "      <th>label</th>\n",
       "      <th>openai_resp</th>\n",
       "      <th>language</th>\n",
       "      <th>task</th>\n",
       "    </tr>\n",
       "  </thead>\n",
       "  <tbody>\n",
       "    <tr>\n",
       "      <th>0</th>\n",
       "      <td>2619</td>\n",
       "      <td>რაც \"ნაციონალურმა მოძრაობამ\" 8 წელიწადში აჭარა...</td>\n",
       "      <td>true</td>\n",
       "      <td>50</td>\n",
       "      <td>ka</td>\n",
       "      <td>gpt-4-0125-zero-shot-100-threshold</td>\n",
       "    </tr>\n",
       "    <tr>\n",
       "      <th>1</th>\n",
       "      <td>456</td>\n",
       "      <td>Przez ostatni rok bezrobocie osiągnęło w Niemc...</td>\n",
       "      <td>true</td>\n",
       "      <td>50</td>\n",
       "      <td>pl</td>\n",
       "      <td>gpt-4-0125-zero-shot-100-threshold</td>\n",
       "    </tr>\n",
       "    <tr>\n",
       "      <th>2</th>\n",
       "      <td>102</td>\n",
       "      <td>Os estados onde você teve a maior piora no nív...</td>\n",
       "      <td>false</td>\n",
       "      <td>50</td>\n",
       "      <td>pt</td>\n",
       "      <td>gpt-4-0125-zero-shot-100-threshold</td>\n",
       "    </tr>\n",
       "    <tr>\n",
       "      <th>3</th>\n",
       "      <td>3037</td>\n",
       "      <td>Foto Unjuk Rasa Driver Go-Jek Hasil Suntingan</td>\n",
       "      <td>partly true/misleading</td>\n",
       "      <td>50</td>\n",
       "      <td>id</td>\n",
       "      <td>gpt-4-0125-zero-shot-100-threshold</td>\n",
       "    </tr>\n",
       "    <tr>\n",
       "      <th>4</th>\n",
       "      <td>1126</td>\n",
       "      <td>Orientações de prevenção ao corona vírus (sic)...</td>\n",
       "      <td>false</td>\n",
       "      <td>0</td>\n",
       "      <td>pt</td>\n",
       "      <td>gpt-4-0125-zero-shot-100-threshold</td>\n",
       "    </tr>\n",
       "  </tbody>\n",
       "</table>\n",
       "</div>"
      ],
      "text/plain": [
       "   original_id                                     original_input  \\\n",
       "0         2619  რაც \"ნაციონალურმა მოძრაობამ\" 8 წელიწადში აჭარა...   \n",
       "1          456  Przez ostatni rok bezrobocie osiągnęło w Niemc...   \n",
       "2          102  Os estados onde você teve a maior piora no nív...   \n",
       "3         3037      Foto Unjuk Rasa Driver Go-Jek Hasil Suntingan   \n",
       "4         1126  Orientações de prevenção ao corona vírus (sic)...   \n",
       "\n",
       "                    label openai_resp language  \\\n",
       "0                    true          50       ka   \n",
       "1                    true          50       pl   \n",
       "2                   false          50       pt   \n",
       "3  partly true/misleading          50       id   \n",
       "4                   false           0       pt   \n",
       "\n",
       "                                 task  \n",
       "0  gpt-4-0125-zero-shot-100-threshold  \n",
       "1  gpt-4-0125-zero-shot-100-threshold  \n",
       "2  gpt-4-0125-zero-shot-100-threshold  \n",
       "3  gpt-4-0125-zero-shot-100-threshold  \n",
       "4  gpt-4-0125-zero-shot-100-threshold  "
      ]
     },
     "execution_count": 5,
     "metadata": {},
     "output_type": "execute_result"
    }
   ],
   "source": [
    "# df_results0 = openai_resp.reset_index()\n",
    "df_results0.head()"
   ]
  },
  {
   "cell_type": "code",
   "execution_count": null,
   "id": "da91826a-01e0-4054-b375-a89f991a1583",
   "metadata": {},
   "outputs": [],
   "source": []
  },
  {
   "cell_type": "code",
   "execution_count": 6,
   "id": "6026cafb-16e7-45ae-a543-5d4ba8beb53e",
   "metadata": {},
   "outputs": [],
   "source": [
    "from sklearn.metrics import classification_report"
   ]
  },
  {
   "cell_type": "code",
   "execution_count": 7,
   "id": "34e8910a-b696-4f8d-bf0b-c255342fcf74",
   "metadata": {},
   "outputs": [],
   "source": [
    "import numpy as np\n",
    "def gpt_tv(row):\n",
    "    resp = row['openai_resp']\n",
    "    try:\n",
    "        resp = float(resp)\n",
    "    except ValueError:\n",
    "        return \"unknown\"\n",
    "    \n",
    "    if resp > 50: #TODO: tune this value?\n",
    "        return 1\n",
    "    \n",
    "    else:\n",
    "        return 0\n",
    "\n",
    "def conservative_true_row(row):\n",
    "    if row['label'] in ['false', 'mostly false', 'partly true/misleading']: #TODO: tune these\n",
    "        return 0\n",
    "    else:\n",
    "        return 1\n",
    "\n",
    "df_results0['openai_simple'] = df_results0.apply(gpt_tv, axis=1)\n",
    "df_results0['simple_truth'] = df_results0.apply(conservative_true_row, axis=1)\n",
    "\n",
    "# print(df_results0.shape)\n",
    "df_processed = df_results0.copy().drop(df_results0[(df_results0.openai_simple != 0) & (df_results0.openai_simple != 1)].index)\n",
    "df_processed = df_processed.drop(df_processed[df_processed.label.isin(['complicated/hard to categorise', 'other', np.nan])].index)\n",
    "df_processed = df_processed.reset_index()"
   ]
  },
  {
   "cell_type": "code",
   "execution_count": 8,
   "id": "cf523a53-da61-4b6e-ba86-7e7abc31dfe8",
   "metadata": {},
   "outputs": [
    {
     "name": "stdout",
     "output_type": "stream",
     "text": [
      "              precision    recall  f1-score   support\n",
      "\n",
      "           0       0.69      0.95      0.80       306\n",
      "           1       0.66      0.18      0.28       162\n",
      "\n",
      "    accuracy                           0.68       468\n",
      "   macro avg       0.67      0.56      0.54       468\n",
      "weighted avg       0.68      0.68      0.62       468\n",
      "\n"
     ]
    }
   ],
   "source": [
    "print(classification_report(df_processed['simple_truth'].values.tolist(), df_processed['openai_simple'].values.tolist()))"
   ]
  },
  {
   "cell_type": "code",
   "execution_count": 9,
   "id": "590066d4-99cf-412f-b6aa-f9392fd59533",
   "metadata": {},
   "outputs": [],
   "source": [
    "def euro_or_not(lang):\n",
    "    if lang in [\"de\", \"es\", \"fr\", \"it\", \"no\", \"nl\", \"pl\", \"pt\", \"ro\", \"ru\", \"sr\", \"sq\"]: #german, spanish, french, italian, norwegian, dutch, polish\n",
    "        return True\n",
    "    else: #ar - arabic; az - azerbaijani; bn - bengali; fa - farsi; gu - gujarati; hi - hindi; id - indonesian\n",
    "        #ka - georgian; mr - marathi; pa - punjabi; si - sinhala; ta - tamil; tr - turkish\n",
    "        return False"
   ]
  },
  {
   "cell_type": "code",
   "execution_count": 10,
   "id": "f33c53c2-d845-4945-8c70-5bb6a1eb1e9c",
   "metadata": {},
   "outputs": [],
   "source": [
    "def conservative_true(label):\n",
    "    if label in ['false', 'mostly false', 'partly true/misleading']: #TODO: tune these\n",
    "        return 0\n",
    "    else:\n",
    "        return 1"
   ]
  },
  {
   "cell_type": "code",
   "execution_count": 14,
   "id": "2640171b-e996-4c7b-966a-b20980988034",
   "metadata": {},
   "outputs": [],
   "source": [
    "euro_y_true = []\n",
    "euro_y_pred = []\n",
    "non_euro_y_true = []\n",
    "non_euro_y_pred = []\n",
    "for i in range(df_processed.shape[0]):\n",
    "    if euro_or_not(df_processed['language'][i]):\n",
    "        euro_y_true.append(conservative_true(df_processed['label'][i]))\n",
    "        euro_y_pred.append(df_processed['openai_simple'][i])\n",
    "    else:\n",
    "        non_euro_y_true.append(conservative_true(df_processed['label'][i]))\n",
    "        non_euro_y_pred.append(df_processed['openai_simple'][i])"
   ]
  },
  {
   "cell_type": "code",
   "execution_count": 15,
   "id": "4941bc92-3bf2-4d98-8a45-455f7a8720de",
   "metadata": {},
   "outputs": [
    {
     "name": "stdout",
     "output_type": "stream",
     "text": [
      "              precision    recall  f1-score   support\n",
      "\n",
      "           0       0.61      0.94      0.74       145\n",
      "           1       0.73      0.22      0.34       110\n",
      "\n",
      "    accuracy                           0.63       255\n",
      "   macro avg       0.67      0.58      0.54       255\n",
      "weighted avg       0.66      0.63      0.57       255\n",
      "\n"
     ]
    }
   ],
   "source": [
    "print(classification_report(euro_y_true, euro_y_pred))"
   ]
  },
  {
   "cell_type": "code",
   "execution_count": 16,
   "id": "86bf0c49-806f-4f75-beed-ebeccb95bf10",
   "metadata": {},
   "outputs": [
    {
     "name": "stdout",
     "output_type": "stream",
     "text": [
      "              precision    recall  f1-score   support\n",
      "\n",
      "           0       0.77      0.96      0.85       161\n",
      "           1       0.45      0.10      0.16        52\n",
      "\n",
      "    accuracy                           0.75       213\n",
      "   macro avg       0.61      0.53      0.51       213\n",
      "weighted avg       0.69      0.75      0.68       213\n",
      "\n"
     ]
    }
   ],
   "source": [
    "print(classification_report(non_euro_y_true, non_euro_y_pred))"
   ]
  },
  {
   "cell_type": "code",
   "execution_count": 17,
   "id": "1e706dd7-fde9-40a9-9992-41b17da46f38",
   "metadata": {},
   "outputs": [],
   "source": [
    "def western(lang):\n",
    "    if lang in [\"de\", \"es\", \"fr\", \"it\", \"nl\", \"no\", \"pt\"]:\n",
    "        return True\n",
    "    else:\n",
    "        return False"
   ]
  },
  {
   "cell_type": "code",
   "execution_count": 19,
   "id": "2a37b1ef-6315-4fdf-a9fe-e019c93ebd95",
   "metadata": {},
   "outputs": [],
   "source": [
    "western_y_true = []\n",
    "western_y_pred = []\n",
    "non_western_y_true = []\n",
    "non_western_y_pred = []\n",
    "for i in range(df_processed.shape[0]):\n",
    "    if western(df_processed['language'][i]):\n",
    "        western_y_true.append(conservative_true(df_processed['label'][i]))\n",
    "        western_y_pred.append(df_processed['openai_simple'][i])\n",
    "    else:\n",
    "        non_western_y_true.append(conservative_true(df_processed['label'][i]))\n",
    "        non_western_y_pred.append(df_processed['openai_simple'][i])"
   ]
  },
  {
   "cell_type": "code",
   "execution_count": 20,
   "id": "02f8f9de-c07b-48a7-9f42-6aace4b578b5",
   "metadata": {},
   "outputs": [
    {
     "name": "stdout",
     "output_type": "stream",
     "text": [
      "              precision    recall  f1-score   support\n",
      "\n",
      "           0       0.62      0.94      0.75       108\n",
      "           1       0.68      0.17      0.27        76\n",
      "\n",
      "    accuracy                           0.62       184\n",
      "   macro avg       0.65      0.56      0.51       184\n",
      "weighted avg       0.65      0.62      0.55       184\n",
      "\n"
     ]
    }
   ],
   "source": [
    "print(classification_report(western_y_true, western_y_pred))"
   ]
  },
  {
   "cell_type": "code",
   "execution_count": 21,
   "id": "3ae735d7-1f2a-4a69-bc3f-56f92f6a1007",
   "metadata": {},
   "outputs": [
    {
     "name": "stdout",
     "output_type": "stream",
     "text": [
      "              precision    recall  f1-score   support\n",
      "\n",
      "           0       0.73      0.95      0.83       198\n",
      "           1       0.64      0.19      0.29        86\n",
      "\n",
      "    accuracy                           0.72       284\n",
      "   macro avg       0.68      0.57      0.56       284\n",
      "weighted avg       0.70      0.72      0.66       284\n",
      "\n"
     ]
    }
   ],
   "source": [
    "print(classification_report(non_western_y_true, non_western_y_pred))"
   ]
  },
  {
   "cell_type": "code",
   "execution_count": 22,
   "id": "9b5899be-25a2-4c7a-9f57-18f511a94e5c",
   "metadata": {},
   "outputs": [],
   "source": [
    "def small(lang):\n",
    "    if lang in [\"no\", \"nl\", \"pl\", \"ro\", \"sr\", \"sq\", \"az\", \"ka\", \"si\"]:\n",
    "        return True\n",
    "    else: return False"
   ]
  },
  {
   "cell_type": "code",
   "execution_count": 23,
   "id": "f18ebf88-83fc-40c1-9248-063d4d27612c",
   "metadata": {},
   "outputs": [],
   "source": [
    "small_y_true = []\n",
    "small_y_pred = []\n",
    "large_y_true = []\n",
    "large_y_pred = []\n",
    "for i in range(df_processed.shape[0]):\n",
    "    if small(df_processed['language'][i]):\n",
    "        small_y_true.append(conservative_true(df_processed['label'][i]))\n",
    "        small_y_pred.append(df_processed['openai_simple'][i])\n",
    "    else:\n",
    "        large_y_true.append(conservative_true(df_processed['label'][i]))\n",
    "        large_y_pred.append(df_processed['openai_simple'][i])"
   ]
  },
  {
   "cell_type": "code",
   "execution_count": 24,
   "id": "ac04ca8f-85dd-4590-b0d9-428be713b8a8",
   "metadata": {},
   "outputs": [
    {
     "name": "stdout",
     "output_type": "stream",
     "text": [
      "              precision    recall  f1-score   support\n",
      "\n",
      "           0       0.55      0.95      0.70        59\n",
      "           1       0.81      0.22      0.35        58\n",
      "\n",
      "    accuracy                           0.59       117\n",
      "   macro avg       0.68      0.59      0.53       117\n",
      "weighted avg       0.68      0.59      0.53       117\n",
      "\n"
     ]
    }
   ],
   "source": [
    "print(classification_report(small_y_true, small_y_pred))"
   ]
  },
  {
   "cell_type": "code",
   "execution_count": 25,
   "id": "89331c3b-63ec-40be-943f-efe6b5ecc06f",
   "metadata": {},
   "outputs": [
    {
     "name": "stdout",
     "output_type": "stream",
     "text": [
      "              precision    recall  f1-score   support\n",
      "\n",
      "           0       0.73      0.95      0.82       247\n",
      "           1       0.57      0.15      0.24       104\n",
      "\n",
      "    accuracy                           0.72       351\n",
      "   macro avg       0.65      0.55      0.53       351\n",
      "weighted avg       0.68      0.72      0.65       351\n",
      "\n"
     ]
    }
   ],
   "source": [
    "print(classification_report(large_y_true, large_y_pred))"
   ]
  },
  {
   "cell_type": "code",
   "execution_count": 31,
   "id": "b7802bf2-9cac-4515-ac6b-2ecaac1a308e",
   "metadata": {},
   "outputs": [
    {
     "data": {
      "image/png": "[encoded data removed]",
      "text/plain": [
       "<Figure size 640x480 with 1 Axes>"
      ]
     },
     "metadata": {},
     "output_type": "display_data"
    }
   ],
   "source": [
    "import matplotlib.pyplot as plt\n",
    "plt.hist(df_processed['openai_resp'].map(float).values,bins=20)\n",
    "plt.title(\"GPT-4 Truthfulness Score Distribution\")\n",
    "plt.xlim(0,100)\n",
    "plt.ylabel(\"Frequency\")\n",
    "# plt.yscale('log')\n",
    "plt.xlabel(\"Truthfulness Score\")\n",
    "plt.show()"
   ]
  }
 ],
 "metadata": {
  "kernelspec": {
   "display_name": "Python 3 (ipykernel)",
   "language": "python",
   "name": "python3"
  },
  "language_info": {
   "codemirror_mode": {
    "name": "ipython",
    "version": 3
   },
   "file_extension": ".py",
   "mimetype": "text/x-python",
   "name": "python",
   "nbconvert_exporter": "python",
   "pygments_lexer": "ipython3",
   "version": "3.11.4"
  }
 },
 "nbformat": 4,
 "nbformat_minor": 5
}
