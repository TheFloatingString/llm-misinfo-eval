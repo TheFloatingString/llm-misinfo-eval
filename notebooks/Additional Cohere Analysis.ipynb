{
 "cells": [
  {
   "cell_type": "code",
   "execution_count": 242,
   "id": "e0edcb86-1ee7-45ff-b4bf-9dcfc6d22ce0",
   "metadata": {},
   "outputs": [],
   "source": [
    "import pandas as pd"
   ]
  },
  {
   "cell_type": "code",
   "execution_count": 243,
   "id": "c63aaaf8-b4d5-48b6-97b2-24aaaaf0c585",
   "metadata": {},
   "outputs": [],
   "source": [
    "df_results0 = pd.read_csv(r\"../data/cohere_results\", delimiter=\",\", on_bad_lines=\"skip\")"
   ]
  },
  {
   "cell_type": "code",
   "execution_count": 244,
   "id": "f086a42d-0232-4287-98b1-f980cb3e4391",
   "metadata": {},
   "outputs": [
    {
     "data": {
      "text/html": [
       "<div>\n",
       "<style scoped>\n",
       "    .dataframe tbody tr th:only-of-type {\n",
       "        vertical-align: middle;\n",
       "    }\n",
       "\n",
       "    .dataframe tbody tr th {\n",
       "        vertical-align: top;\n",
       "    }\n",
       "\n",
       "    .dataframe thead th {\n",
       "        text-align: right;\n",
       "    }\n",
       "</style>\n",
       "<table border=\"1\" class=\"dataframe\">\n",
       "  <thead>\n",
       "    <tr style=\"text-align: right;\">\n",
       "      <th></th>\n",
       "      <th>cohere_resp</th>\n",
       "      <th>index</th>\n",
       "      <th>label</th>\n",
       "    </tr>\n",
       "  </thead>\n",
       "  <tbody>\n",
       "    <tr>\n",
       "      <th>0</th>\n",
       "      <td>56</td>\n",
       "      <td>0</td>\n",
       "      <td>false</td>\n",
       "    </tr>\n",
       "    <tr>\n",
       "      <th>1</th>\n",
       "      <td>15</td>\n",
       "      <td>1</td>\n",
       "      <td>partly true/misleading</td>\n",
       "    </tr>\n",
       "    <tr>\n",
       "      <th>2</th>\n",
       "      <td>85</td>\n",
       "      <td>2</td>\n",
       "      <td>partly true/misleading</td>\n",
       "    </tr>\n",
       "    <tr>\n",
       "      <th>3</th>\n",
       "      <td>85</td>\n",
       "      <td>3</td>\n",
       "      <td>true</td>\n",
       "    </tr>\n",
       "    <tr>\n",
       "      <th>4</th>\n",
       "      <td>I'm sorry but I was unable to find any relevan...</td>\n",
       "      <td>4</td>\n",
       "      <td>false</td>\n",
       "    </tr>\n",
       "  </tbody>\n",
       "</table>\n",
       "</div>"
      ],
      "text/plain": [
       "                                         cohere_resp  index  \\\n",
       "0                                                 56      0   \n",
       "1                                                 15      1   \n",
       "2                                                 85      2   \n",
       "3                                                 85      3   \n",
       "4  I'm sorry but I was unable to find any relevan...      4   \n",
       "\n",
       "                    label  \n",
       "0                   false  \n",
       "1  partly true/misleading  \n",
       "2  partly true/misleading  \n",
       "3                    true  \n",
       "4                   false  "
      ]
     },
     "execution_count": 244,
     "metadata": {},
     "output_type": "execute_result"
    }
   ],
   "source": [
    "df_results0.head()"
   ]
  },
  {
   "cell_type": "code",
   "execution_count": 245,
   "id": "3ec4f2d0-ffc8-40a7-9b28-01aa834e4de2",
   "metadata": {},
   "outputs": [],
   "source": [
    "#remove other and complicated labels \n",
    "# df_results0 = df_results0[~df_results0['label'].isin(['complicated/hard to categorise', 'other'])]\n"
   ]
  },
  {
   "cell_type": "code",
   "execution_count": 246,
   "id": "7b4e9942-0d4c-46a9-a0d2-1bb9a4cc0855",
   "metadata": {},
   "outputs": [
    {
     "data": {
      "text/plain": [
       "(996, 3)"
      ]
     },
     "execution_count": 246,
     "metadata": {},
     "output_type": "execute_result"
    }
   ],
   "source": [
    "df_results0.shape"
   ]
  },
  {
   "cell_type": "code",
   "execution_count": 303,
   "id": "90f74177-c5d0-446b-9708-778b3e42660c",
   "metadata": {},
   "outputs": [
    {
     "data": {
      "text/plain": [
       "simple_truth\n",
       "0    792\n",
       "1    204\n",
       "Name: count, dtype: int64"
      ]
     },
     "execution_count": 303,
     "metadata": {},
     "output_type": "execute_result"
    }
   ],
   "source": [
    "def simplify_truth(row):\n",
    "    if row['label']=='true':\n",
    "        return 1\n",
    "    else: return 0\n",
    "    # if row['label'] in ['false', 'mostly false', 'partly true/misleading']: #TODO: tune these\n",
    "    #     return 'false'\n",
    "    # else:\n",
    "    #     return 'true'\n",
    "    \n",
    "\n",
    "df_results0['simple_truth'] = df_results0.apply(simplify_truth, axis=1)\n",
    "\n",
    "df_results0[\"simple_truth\"].value_counts() #much more false than true"
   ]
  },
  {
   "cell_type": "code",
   "execution_count": 304,
   "id": "b36f614d-67cf-4166-8bac-939a3b3cbbba",
   "metadata": {},
   "outputs": [],
   "source": [
    "def cohere_tv(row):\n",
    "    resp = row['cohere_resp']\n",
    "    try:\n",
    "        resp = float(resp)\n",
    "    except ValueError:\n",
    "        return \"unknown\"\n",
    "    \n",
    "    if resp > 50: #TODO: tune this value?\n",
    "        return 1\n",
    "    \n",
    "    else:\n",
    "        return 0\n",
    "    \n",
    "\n",
    "df_results0['cohere_simple'] = df_results0.apply(cohere_tv, axis=1)\n",
    "# print(df_results0.shape)\n",
    "df_processed = df_results0.copy().drop(df_results0[(df_results0.cohere_simple != 0) & (df_results0.cohere_simple != 1)].index)\n",
    "df_processed = df_processed.drop(df_processed[df_processed.label.isin(['complicated/hard to categorise', 'other', np.nan])].index)\n",
    "df_processed = df_processed.reset_index()"
   ]
  },
  {
   "cell_type": "code",
   "execution_count": 305,
   "id": "69c859ed-1ddf-4a5f-9372-c29f0930f913",
   "metadata": {},
   "outputs": [
    {
     "data": {
      "text/html": [
       "<div>\n",
       "<style scoped>\n",
       "    .dataframe tbody tr th:only-of-type {\n",
       "        vertical-align: middle;\n",
       "    }\n",
       "\n",
       "    .dataframe tbody tr th {\n",
       "        vertical-align: top;\n",
       "    }\n",
       "\n",
       "    .dataframe thead th {\n",
       "        text-align: right;\n",
       "    }\n",
       "</style>\n",
       "<table border=\"1\" class=\"dataframe\">\n",
       "  <thead>\n",
       "    <tr style=\"text-align: right;\">\n",
       "      <th></th>\n",
       "      <th>level_0</th>\n",
       "      <th>cohere_resp</th>\n",
       "      <th>index</th>\n",
       "      <th>label</th>\n",
       "      <th>simple_truth</th>\n",
       "      <th>cohere_simple</th>\n",
       "    </tr>\n",
       "  </thead>\n",
       "  <tbody>\n",
       "    <tr>\n",
       "      <th>0</th>\n",
       "      <td>0</td>\n",
       "      <td>56</td>\n",
       "      <td>0</td>\n",
       "      <td>false</td>\n",
       "      <td>0</td>\n",
       "      <td>1</td>\n",
       "    </tr>\n",
       "    <tr>\n",
       "      <th>1</th>\n",
       "      <td>1</td>\n",
       "      <td>15</td>\n",
       "      <td>1</td>\n",
       "      <td>partly true/misleading</td>\n",
       "      <td>0</td>\n",
       "      <td>0</td>\n",
       "    </tr>\n",
       "    <tr>\n",
       "      <th>2</th>\n",
       "      <td>2</td>\n",
       "      <td>85</td>\n",
       "      <td>2</td>\n",
       "      <td>partly true/misleading</td>\n",
       "      <td>0</td>\n",
       "      <td>1</td>\n",
       "    </tr>\n",
       "    <tr>\n",
       "      <th>3</th>\n",
       "      <td>3</td>\n",
       "      <td>85</td>\n",
       "      <td>3</td>\n",
       "      <td>true</td>\n",
       "      <td>1</td>\n",
       "      <td>1</td>\n",
       "    </tr>\n",
       "    <tr>\n",
       "      <th>4</th>\n",
       "      <td>5</td>\n",
       "      <td>85</td>\n",
       "      <td>5</td>\n",
       "      <td>mostly true</td>\n",
       "      <td>0</td>\n",
       "      <td>1</td>\n",
       "    </tr>\n",
       "  </tbody>\n",
       "</table>\n",
       "</div>"
      ],
      "text/plain": [
       "   level_0 cohere_resp  index                   label  simple_truth  \\\n",
       "0        0          56      0                   false             0   \n",
       "1        1          15      1  partly true/misleading             0   \n",
       "2        2          85      2  partly true/misleading             0   \n",
       "3        3          85      3                    true             1   \n",
       "4        5          85      5             mostly true             0   \n",
       "\n",
       "  cohere_simple  \n",
       "0             1  \n",
       "1             0  \n",
       "2             1  \n",
       "3             1  \n",
       "4             1  "
      ]
     },
     "execution_count": 305,
     "metadata": {},
     "output_type": "execute_result"
    }
   ],
   "source": [
    "df_processed.head()"
   ]
  },
  {
   "cell_type": "code",
   "execution_count": 306,
   "id": "c7bdf4c1-3311-403a-9a49-84ea95003ff8",
   "metadata": {},
   "outputs": [
    {
     "data": {
      "text/plain": [
       "(885,)"
      ]
     },
     "execution_count": 306,
     "metadata": {},
     "output_type": "execute_result"
    }
   ],
   "source": [
    "df_processed['simple_truth'].values.shape"
   ]
  },
  {
   "cell_type": "code",
   "execution_count": 307,
   "id": "1e930436-ca7a-4051-979f-7cc1bb4a04c5",
   "metadata": {},
   "outputs": [],
   "source": [
    "from sklearn.metrics import classification_report"
   ]
  },
  {
   "cell_type": "markdown",
   "id": "de797ab6-9ee3-4e28-a438-919254067ba5",
   "metadata": {},
   "source": [
    "### Overall Performance"
   ]
  },
  {
   "cell_type": "code",
   "execution_count": 308,
   "id": "f8c173a5-659d-4499-930c-4107d9beeb52",
   "metadata": {},
   "outputs": [
    {
     "name": "stdout",
     "output_type": "stream",
     "text": [
      "              precision    recall  f1-score   support\n",
      "\n",
      "           0       0.83      0.32      0.47       699\n",
      "           1       0.23      0.76      0.35       186\n",
      "\n",
      "    accuracy                           0.42       885\n",
      "   macro avg       0.53      0.54      0.41       885\n",
      "weighted avg       0.71      0.42      0.44       885\n",
      "\n"
     ]
    }
   ],
   "source": [
    "print(classification_report(df_processed['simple_truth'].values.tolist(), df_processed['cohere_simple'].values.tolist()))"
   ]
  },
  {
   "cell_type": "code",
   "execution_count": 255,
   "id": "44b0047c-3855-4702-8c28-d9b018128d11",
   "metadata": {},
   "outputs": [],
   "source": [
    "def euro_or_not(lang):\n",
    "    if lang in [\"de\", \"es\", \"fr\", \"it\", \"no\", \"nl\", \"pl\", \"pt\", \"ro\", \"ru\", \"sr\", \"sq\"]: #german, spanish, french, italian, norwegian, dutch, polish\n",
    "        return True\n",
    "    else: #ar - arabic; az - azerbaijani; bn - bengali; fa - farsi; gu - gujarati; hi - hindi; id - indonesian\n",
    "        #ka - georgian; mr - marathi; pa - punjabi; si - sinhala; ta - tamil; tr - turkish\n",
    "        return False"
   ]
  },
  {
   "cell_type": "code",
   "execution_count": 256,
   "id": "a0f6e39c-6940-441d-be47-d78d2e717735",
   "metadata": {},
   "outputs": [],
   "source": [
    "def conservative_true(label):\n",
    "    if label==\"true\":\n",
    "        return 1\n",
    "    else:\n",
    "        return 0"
   ]
  },
  {
   "cell_type": "code",
   "execution_count": 257,
   "id": "615e6aba-fe5f-442e-bb02-9aaeeea895e8",
   "metadata": {},
   "outputs": [],
   "source": [
    "df_x_fact = pd.read_csv(\"../data/x_fact_dataset/x-fact-including-en/train.all.tsv\", delimiter=\"\\t\", on_bad_lines=\"skip\")"
   ]
  },
  {
   "cell_type": "code",
   "execution_count": 258,
   "id": "4e17914f-6915-4209-9b7f-60d9a4646e44",
   "metadata": {},
   "outputs": [
    {
     "data": {
      "text/plain": [
       "0"
      ]
     },
     "execution_count": 258,
     "metadata": {},
     "output_type": "execute_result"
    }
   ],
   "source": [
    "df_processed['index'][0]"
   ]
  },
  {
   "cell_type": "code",
   "execution_count": 259,
   "id": "220d0c2c-9531-416f-a27c-a6354e9674a5",
   "metadata": {},
   "outputs": [
    {
     "data": {
      "text/html": [
       "<div>\n",
       "<style scoped>\n",
       "    .dataframe tbody tr th:only-of-type {\n",
       "        vertical-align: middle;\n",
       "    }\n",
       "\n",
       "    .dataframe tbody tr th {\n",
       "        vertical-align: top;\n",
       "    }\n",
       "\n",
       "    .dataframe thead th {\n",
       "        text-align: right;\n",
       "    }\n",
       "</style>\n",
       "<table border=\"1\" class=\"dataframe\">\n",
       "  <thead>\n",
       "    <tr style=\"text-align: right;\">\n",
       "      <th></th>\n",
       "      <th>cohere_resp</th>\n",
       "      <th>index</th>\n",
       "      <th>label</th>\n",
       "      <th>simple_truth</th>\n",
       "      <th>cohere_simple</th>\n",
       "    </tr>\n",
       "  </thead>\n",
       "  <tbody>\n",
       "    <tr>\n",
       "      <th>0</th>\n",
       "      <td>56</td>\n",
       "      <td>0</td>\n",
       "      <td>false</td>\n",
       "      <td>0</td>\n",
       "      <td>1</td>\n",
       "    </tr>\n",
       "    <tr>\n",
       "      <th>1</th>\n",
       "      <td>15</td>\n",
       "      <td>1</td>\n",
       "      <td>partly true/misleading</td>\n",
       "      <td>0</td>\n",
       "      <td>0</td>\n",
       "    </tr>\n",
       "    <tr>\n",
       "      <th>2</th>\n",
       "      <td>85</td>\n",
       "      <td>2</td>\n",
       "      <td>partly true/misleading</td>\n",
       "      <td>0</td>\n",
       "      <td>1</td>\n",
       "    </tr>\n",
       "    <tr>\n",
       "      <th>3</th>\n",
       "      <td>85</td>\n",
       "      <td>3</td>\n",
       "      <td>true</td>\n",
       "      <td>1</td>\n",
       "      <td>1</td>\n",
       "    </tr>\n",
       "    <tr>\n",
       "      <th>4</th>\n",
       "      <td>I'm sorry but I was unable to find any relevan...</td>\n",
       "      <td>4</td>\n",
       "      <td>false</td>\n",
       "      <td>0</td>\n",
       "      <td>unknown</td>\n",
       "    </tr>\n",
       "    <tr>\n",
       "      <th>...</th>\n",
       "      <td>...</td>\n",
       "      <td>...</td>\n",
       "      <td>...</td>\n",
       "      <td>...</td>\n",
       "      <td>...</td>\n",
       "    </tr>\n",
       "    <tr>\n",
       "      <th>991</th>\n",
       "      <td>85</td>\n",
       "      <td>995</td>\n",
       "      <td>partly true/misleading</td>\n",
       "      <td>0</td>\n",
       "      <td>1</td>\n",
       "    </tr>\n",
       "    <tr>\n",
       "      <th>992</th>\n",
       "      <td>95</td>\n",
       "      <td>996</td>\n",
       "      <td>partly true/misleading</td>\n",
       "      <td>0</td>\n",
       "      <td>1</td>\n",
       "    </tr>\n",
       "    <tr>\n",
       "      <th>993</th>\n",
       "      <td>95</td>\n",
       "      <td>997</td>\n",
       "      <td>false</td>\n",
       "      <td>0</td>\n",
       "      <td>1</td>\n",
       "    </tr>\n",
       "    <tr>\n",
       "      <th>994</th>\n",
       "      <td>This statement is mostly true, albeit with som...</td>\n",
       "      <td>998</td>\n",
       "      <td>complicated/hard to categorise</td>\n",
       "      <td>0</td>\n",
       "      <td>unknown</td>\n",
       "    </tr>\n",
       "    <tr>\n",
       "      <th>995</th>\n",
       "      <td>84</td>\n",
       "      <td>999</td>\n",
       "      <td>partly true/misleading</td>\n",
       "      <td>0</td>\n",
       "      <td>1</td>\n",
       "    </tr>\n",
       "  </tbody>\n",
       "</table>\n",
       "<p>996 rows × 5 columns</p>\n",
       "</div>"
      ],
      "text/plain": [
       "                                           cohere_resp  index  \\\n",
       "0                                                   56      0   \n",
       "1                                                   15      1   \n",
       "2                                                   85      2   \n",
       "3                                                   85      3   \n",
       "4    I'm sorry but I was unable to find any relevan...      4   \n",
       "..                                                 ...    ...   \n",
       "991                                                 85    995   \n",
       "992                                                 95    996   \n",
       "993                                                 95    997   \n",
       "994  This statement is mostly true, albeit with som...    998   \n",
       "995                                                 84    999   \n",
       "\n",
       "                              label  simple_truth cohere_simple  \n",
       "0                             false             0             1  \n",
       "1            partly true/misleading             0             0  \n",
       "2            partly true/misleading             0             1  \n",
       "3                              true             1             1  \n",
       "4                             false             0       unknown  \n",
       "..                              ...           ...           ...  \n",
       "991          partly true/misleading             0             1  \n",
       "992          partly true/misleading             0             1  \n",
       "993                           false             0             1  \n",
       "994  complicated/hard to categorise             0       unknown  \n",
       "995          partly true/misleading             0             1  \n",
       "\n",
       "[996 rows x 5 columns]"
      ]
     },
     "execution_count": 259,
     "metadata": {},
     "output_type": "execute_result"
    }
   ],
   "source": [
    "df_results0"
   ]
  },
  {
   "cell_type": "code",
   "execution_count": 260,
   "id": "383a337c-3e91-47f5-a271-a9c79e8dd609",
   "metadata": {},
   "outputs": [
    {
     "data": {
      "text/html": [
       "<div>\n",
       "<style scoped>\n",
       "    .dataframe tbody tr th:only-of-type {\n",
       "        vertical-align: middle;\n",
       "    }\n",
       "\n",
       "    .dataframe tbody tr th {\n",
       "        vertical-align: top;\n",
       "    }\n",
       "\n",
       "    .dataframe thead th {\n",
       "        text-align: right;\n",
       "    }\n",
       "</style>\n",
       "<table border=\"1\" class=\"dataframe\">\n",
       "  <thead>\n",
       "    <tr style=\"text-align: right;\">\n",
       "      <th></th>\n",
       "      <th>level_0</th>\n",
       "      <th>cohere_resp</th>\n",
       "      <th>index</th>\n",
       "      <th>label</th>\n",
       "      <th>simple_truth</th>\n",
       "      <th>cohere_simple</th>\n",
       "    </tr>\n",
       "  </thead>\n",
       "  <tbody>\n",
       "    <tr>\n",
       "      <th>0</th>\n",
       "      <td>0</td>\n",
       "      <td>56</td>\n",
       "      <td>0</td>\n",
       "      <td>false</td>\n",
       "      <td>0</td>\n",
       "      <td>1</td>\n",
       "    </tr>\n",
       "    <tr>\n",
       "      <th>1</th>\n",
       "      <td>1</td>\n",
       "      <td>15</td>\n",
       "      <td>1</td>\n",
       "      <td>partly true/misleading</td>\n",
       "      <td>0</td>\n",
       "      <td>0</td>\n",
       "    </tr>\n",
       "    <tr>\n",
       "      <th>2</th>\n",
       "      <td>2</td>\n",
       "      <td>85</td>\n",
       "      <td>2</td>\n",
       "      <td>partly true/misleading</td>\n",
       "      <td>0</td>\n",
       "      <td>1</td>\n",
       "    </tr>\n",
       "    <tr>\n",
       "      <th>3</th>\n",
       "      <td>3</td>\n",
       "      <td>85</td>\n",
       "      <td>3</td>\n",
       "      <td>true</td>\n",
       "      <td>1</td>\n",
       "      <td>1</td>\n",
       "    </tr>\n",
       "    <tr>\n",
       "      <th>4</th>\n",
       "      <td>5</td>\n",
       "      <td>85</td>\n",
       "      <td>5</td>\n",
       "      <td>mostly true</td>\n",
       "      <td>0</td>\n",
       "      <td>1</td>\n",
       "    </tr>\n",
       "    <tr>\n",
       "      <th>...</th>\n",
       "      <td>...</td>\n",
       "      <td>...</td>\n",
       "      <td>...</td>\n",
       "      <td>...</td>\n",
       "      <td>...</td>\n",
       "      <td>...</td>\n",
       "    </tr>\n",
       "    <tr>\n",
       "      <th>880</th>\n",
       "      <td>990</td>\n",
       "      <td>92</td>\n",
       "      <td>994</td>\n",
       "      <td>true</td>\n",
       "      <td>1</td>\n",
       "      <td>1</td>\n",
       "    </tr>\n",
       "    <tr>\n",
       "      <th>881</th>\n",
       "      <td>991</td>\n",
       "      <td>85</td>\n",
       "      <td>995</td>\n",
       "      <td>partly true/misleading</td>\n",
       "      <td>0</td>\n",
       "      <td>1</td>\n",
       "    </tr>\n",
       "    <tr>\n",
       "      <th>882</th>\n",
       "      <td>992</td>\n",
       "      <td>95</td>\n",
       "      <td>996</td>\n",
       "      <td>partly true/misleading</td>\n",
       "      <td>0</td>\n",
       "      <td>1</td>\n",
       "    </tr>\n",
       "    <tr>\n",
       "      <th>883</th>\n",
       "      <td>993</td>\n",
       "      <td>95</td>\n",
       "      <td>997</td>\n",
       "      <td>false</td>\n",
       "      <td>0</td>\n",
       "      <td>1</td>\n",
       "    </tr>\n",
       "    <tr>\n",
       "      <th>884</th>\n",
       "      <td>995</td>\n",
       "      <td>84</td>\n",
       "      <td>999</td>\n",
       "      <td>partly true/misleading</td>\n",
       "      <td>0</td>\n",
       "      <td>1</td>\n",
       "    </tr>\n",
       "  </tbody>\n",
       "</table>\n",
       "<p>885 rows × 6 columns</p>\n",
       "</div>"
      ],
      "text/plain": [
       "     level_0 cohere_resp  index                   label  simple_truth  \\\n",
       "0          0          56      0                   false             0   \n",
       "1          1          15      1  partly true/misleading             0   \n",
       "2          2          85      2  partly true/misleading             0   \n",
       "3          3          85      3                    true             1   \n",
       "4          5          85      5             mostly true             0   \n",
       "..       ...         ...    ...                     ...           ...   \n",
       "880      990          92    994                    true             1   \n",
       "881      991          85    995  partly true/misleading             0   \n",
       "882      992          95    996  partly true/misleading             0   \n",
       "883      993          95    997                   false             0   \n",
       "884      995          84    999  partly true/misleading             0   \n",
       "\n",
       "    cohere_simple  \n",
       "0               1  \n",
       "1               0  \n",
       "2               1  \n",
       "3               1  \n",
       "4               1  \n",
       "..            ...  \n",
       "880             1  \n",
       "881             1  \n",
       "882             1  \n",
       "883             1  \n",
       "884             1  \n",
       "\n",
       "[885 rows x 6 columns]"
      ]
     },
     "execution_count": 260,
     "metadata": {},
     "output_type": "execute_result"
    }
   ],
   "source": [
    "df_processed"
   ]
  },
  {
   "cell_type": "code",
   "execution_count": 264,
   "id": "6c592230-ce71-4503-b737-46106b83f979",
   "metadata": {},
   "outputs": [
    {
     "data": {
      "text/plain": [
       "level_0           446\n",
       "cohere_resp        95\n",
       "index             447\n",
       "label            true\n",
       "simple_truth        1\n",
       "cohere_simple       1\n",
       "Name: 389, dtype: object"
      ]
     },
     "execution_count": 264,
     "metadata": {},
     "output_type": "execute_result"
    }
   ],
   "source": [
    "df_processed.iloc[389]"
   ]
  },
  {
   "cell_type": "code",
   "execution_count": 266,
   "id": "f7a76023-7ea5-4737-9e14-9546c772ea1b",
   "metadata": {},
   "outputs": [
    {
     "data": {
      "text/plain": [
       "language                                                     ka\n",
       "site                                               factcheck.ge\n",
       "evidence_1    Oct 6, 2015 — ფოთში, მოზარდებისთვის ძალადობის ...\n",
       "evidence_2    თინა ბოკუჩავა: ფოთში, მოზარდებისთვის ძალადობის...\n",
       "evidence_3    Jul 12, 2019 — თინა ბოკუჩავა: ფოთში, მოზარდები...\n",
       "evidence_4    ფილმის ჩვენება არასამთავრობო ... ფოთში ფილმის ...\n",
       "evidence_5    ფოთში, მოზარდებისთვის ძალადობის შემცველი სცენე...\n",
       "link_1        https://factcheck.ge/ka/story/19588-thina-boku...\n",
       "link_2        https://fr-fr.facebook.com/Factcheck.ge/posts/...\n",
       "link_3        https://hi-in.facebook.com/Factcheck.ge/posts/...\n",
       "link_4        https://www.transparency.ge/ge/post/general-an...\n",
       "link_5        http://142.93.167.204/ka/page/persons/thina-bo...\n",
       "claimDate                                                  none\n",
       "reviewDate                                                 none\n",
       "claimant                                          თინა ბოკუჩავა\n",
       "claim         ფოთში, მოზარდებისთვის ძალადობის შემცველი სცენე...\n",
       "label                                                      true\n",
       "Name: 447, dtype: object"
      ]
     },
     "execution_count": 266,
     "metadata": {},
     "output_type": "execute_result"
    }
   ],
   "source": [
    "df_x_fact.iloc[447]"
   ]
  },
  {
   "cell_type": "code",
   "execution_count": 329,
   "id": "201fc727-4520-488e-bcae-88d379e95902",
   "metadata": {
    "scrolled": true
   },
   "outputs": [],
   "source": [
    "euro_y_true = []\n",
    "euro_y_pred = []\n",
    "non_euro_y_true = []\n",
    "non_euro_y_pred = []\n",
    "for i in range(df_processed.shape[0]):\n",
    "    init_index = df_processed['index'][i]\n",
    "    if df_processed['label'][i]!=df_x_fact['label'][init_index]:\n",
    "        print(i, init_index)\n",
    "    if euro_or_not(df_x_fact['language'][init_index]):\n",
    "        euro_y_true.append(conservative_true(df_x_fact['label'][init_index]))\n",
    "        euro_y_pred.append(df_processed['cohere_simple'][i])\n",
    "    else:\n",
    "        non_euro_y_true.append(conservative_true(df_x_fact['label'][init_index]))\n",
    "        non_euro_y_pred.append(df_processed['cohere_simple'][i])"
   ]
  },
  {
   "cell_type": "markdown",
   "id": "b411f9f8-57fa-4c17-8b69-78a91fca9076",
   "metadata": {},
   "source": [
    "### Non-European vs European"
   ]
  },
  {
   "cell_type": "code",
   "execution_count": 330,
   "id": "a596b820-935f-45a6-a3d7-7ffb6c1d8624",
   "metadata": {},
   "outputs": [
    {
     "name": "stdout",
     "output_type": "stream",
     "text": [
      "              precision    recall  f1-score   support\n",
      "\n",
      "           0       0.77      0.27      0.40       360\n",
      "           1       0.29      0.79      0.43       136\n",
      "\n",
      "    accuracy                           0.41       496\n",
      "   macro avg       0.53      0.53      0.41       496\n",
      "weighted avg       0.64      0.41      0.40       496\n",
      "\n"
     ]
    }
   ],
   "source": [
    "print(classification_report(euro_y_true, euro_y_pred))"
   ]
  },
  {
   "cell_type": "code",
   "execution_count": 331,
   "id": "a3b5463c-95f4-4d75-8b0f-97d6be0c5ea3",
   "metadata": {},
   "outputs": [
    {
     "name": "stdout",
     "output_type": "stream",
     "text": [
      "              precision    recall  f1-score   support\n",
      "\n",
      "           0       0.89      0.39      0.54       339\n",
      "           1       0.14      0.66      0.23        50\n",
      "\n",
      "    accuracy                           0.42       389\n",
      "   macro avg       0.51      0.52      0.38       389\n",
      "weighted avg       0.79      0.42      0.50       389\n",
      "\n"
     ]
    }
   ],
   "source": [
    "print(classification_report(non_euro_y_true, non_euro_y_pred))"
   ]
  },
  {
   "cell_type": "markdown",
   "id": "c2c6aea5-0d25-461a-bd91-1aaa96b5efdc",
   "metadata": {},
   "source": [
    "### Western vs Non-Western"
   ]
  },
  {
   "cell_type": "code",
   "execution_count": 312,
   "id": "0680ae08-b9cc-433c-8fc8-57514994402f",
   "metadata": {},
   "outputs": [],
   "source": [
    "def western(lang):\n",
    "    if lang in [\"de\", \"es\", \"fr\", \"it\", \"nl\", \"no\", \"pt\"]:\n",
    "        return True\n",
    "    else:\n",
    "        return False"
   ]
  },
  {
   "cell_type": "code",
   "execution_count": 323,
   "id": "f7200d16-60d2-48ce-8584-7e587cf09d18",
   "metadata": {},
   "outputs": [],
   "source": [
    "western_y_true = []\n",
    "western_y_pred = []\n",
    "non_western_y_true = []\n",
    "non_western_y_pred = []\n",
    "for i in range(df_processed.shape[0]):\n",
    "    init_index = df_processed['index'].values[i]\n",
    "    if df_processed['label'][i]!=df_x_fact['label'][init_index]:\n",
    "        print(i, init_index)\n",
    "    if western(df_x_fact['language'][init_index]):\n",
    "        western_y_true.append(conservative_true(df_x_fact['label'][init_index]))\n",
    "        western_y_pred.append(df_processed['cohere_simple'][i])\n",
    "    else:\n",
    "        non_western_y_true.append(conservative_true(df_x_fact['label'][init_index]))\n",
    "        non_western_y_pred.append(df_processed['cohere_simple'][i])"
   ]
  },
  {
   "cell_type": "code",
   "execution_count": 324,
   "id": "56d8875b-97ed-48b1-a98c-b5edf7b54990",
   "metadata": {},
   "outputs": [
    {
     "name": "stdout",
     "output_type": "stream",
     "text": [
      "              precision    recall  f1-score   support\n",
      "\n",
      "           0       0.79      0.30      0.44       286\n",
      "           1       0.25      0.74      0.38        90\n",
      "\n",
      "    accuracy                           0.41       376\n",
      "   macro avg       0.52      0.52      0.41       376\n",
      "weighted avg       0.66      0.41      0.42       376\n",
      "\n"
     ]
    }
   ],
   "source": [
    "print(classification_report(western_y_true, western_y_pred))"
   ]
  },
  {
   "cell_type": "code",
   "execution_count": 325,
   "id": "6ff51b92-d5a3-4e53-8e79-20bcde71fbb5",
   "metadata": {},
   "outputs": [
    {
     "name": "stdout",
     "output_type": "stream",
     "text": [
      "              precision    recall  f1-score   support\n",
      "\n",
      "           0       0.86      0.34      0.49       413\n",
      "           1       0.21      0.77      0.33        96\n",
      "\n",
      "    accuracy                           0.42       509\n",
      "   macro avg       0.54      0.55      0.41       509\n",
      "weighted avg       0.74      0.42      0.46       509\n",
      "\n"
     ]
    }
   ],
   "source": [
    "print(classification_report(non_western_y_true, non_western_y_pred))"
   ]
  },
  {
   "cell_type": "markdown",
   "id": "cb6fb361-f09e-46d0-b311-59d015d0aeaa",
   "metadata": {},
   "source": [
    "### Small vs Large"
   ]
  },
  {
   "cell_type": "code",
   "execution_count": 287,
   "id": "507d79e6-b24b-4926-8f7a-119217b6f31c",
   "metadata": {},
   "outputs": [],
   "source": [
    "def small(lang):\n",
    "    if lang in [\"no\", \"nl\", \"pl\", \"ro\", \"sr\", \"sq\", \"az\", \"ka\", \"si\"]:\n",
    "        return True\n",
    "    else: return False"
   ]
  },
  {
   "cell_type": "code",
   "execution_count": 320,
   "id": "3615a97e-1742-453e-8cdd-d1ebb3043e0a",
   "metadata": {},
   "outputs": [],
   "source": [
    "small_y_true = []\n",
    "small_y_pred = []\n",
    "large_y_true = []\n",
    "large_y_pred = []\n",
    "for i in range(df_processed.shape[0]):\n",
    "    # if df_results0['cohere_simple'][i] not in [0,1]:\n",
    "    #     continue\n",
    "    init_index = df_processed['index'].values[i]\n",
    "    if df_processed['label'][i]!=df_x_fact['label'][init_index]:\n",
    "        print(i, init_index)\n",
    "    if small(df_x_fact['language'][init_index]):\n",
    "        small_y_true.append(conservative_true(df_x_fact['label'][init_index]))\n",
    "        small_y_pred.append(df_processed['cohere_simple'][i])\n",
    "    else:\n",
    "        large_y_true.append(conservative_true(df_x_fact['label'][init_index]))\n",
    "        large_y_pred.append(df_processed['cohere_simple'][i])"
   ]
  },
  {
   "cell_type": "code",
   "execution_count": 321,
   "id": "d5d191b3-246e-48ec-9e76-837454d8cfb5",
   "metadata": {},
   "outputs": [
    {
     "name": "stdout",
     "output_type": "stream",
     "text": [
      "              precision    recall  f1-score   support\n",
      "\n",
      "           0       0.73      0.13      0.22       126\n",
      "           1       0.35      0.91      0.50        64\n",
      "\n",
      "    accuracy                           0.39       190\n",
      "   macro avg       0.54      0.52      0.36       190\n",
      "weighted avg       0.60      0.39      0.31       190\n",
      "\n"
     ]
    }
   ],
   "source": [
    "print(classification_report(small_y_true, small_y_pred))"
   ]
  },
  {
   "cell_type": "code",
   "execution_count": 322,
   "id": "75f654dd-e1e7-43e8-a929-8b642511e708",
   "metadata": {},
   "outputs": [
    {
     "name": "stdout",
     "output_type": "stream",
     "text": [
      "              precision    recall  f1-score   support\n",
      "\n",
      "           0       0.84      0.37      0.51       573\n",
      "           1       0.19      0.68      0.29       122\n",
      "\n",
      "    accuracy                           0.42       695\n",
      "   macro avg       0.52      0.52      0.40       695\n",
      "weighted avg       0.73      0.42      0.47       695\n",
      "\n"
     ]
    }
   ],
   "source": [
    "print(classification_report(large_y_true, large_y_pred))"
   ]
  },
  {
   "cell_type": "code",
   "execution_count": 345,
   "id": "24aa633e-009a-423a-bfd4-5a2ee194ef91",
   "metadata": {
    "scrolled": true
   },
   "outputs": [
    {
     "name": "stdout",
     "output_type": "stream",
     "text": [
      "15\n",
      "25\n",
      "8\n",
      "25\n",
      "19\n",
      "22\n",
      "10\n",
      "16\n",
      "16\n",
      "10\n",
      "20\n",
      "16\n",
      "15\n",
      "25\n",
      "0\n",
      "10\n",
      "15\n",
      "25\n",
      "16\n",
      "15\n",
      "16\n",
      "20\n",
      "8\n",
      "8\n",
      "12\n",
      "15\n",
      "10\n",
      "16\n",
      "16\n",
      "25\n",
      "22\n",
      "10\n",
      "10\n",
      "8\n",
      "25\n",
      "25\n",
      "22\n",
      "12\n",
      "0\n",
      "15\n",
      "16\n",
      "12\n",
      "0\n",
      "15\n",
      "25\n",
      "28\n",
      "25\n",
      "15\n",
      "23\n",
      "16\n",
      "25\n",
      "0\n",
      "0\n",
      "8\n",
      "8\n",
      "12\n",
      "12\n",
      "15\n",
      "16\n",
      "12\n",
      "25\n",
      "15\n",
      "15\n",
      "15\n",
      "16\n",
      "10\n",
      "10\n",
      "15\n",
      "10\n",
      "0\n",
      "15\n",
      "23\n",
      "25\n",
      "0\n",
      "15\n",
      "15\n",
      "23\n",
      "12\n",
      "25\n",
      "15\n",
      "16\n",
      "15\n",
      "25\n",
      "12\n",
      "12\n",
      "16\n",
      "16\n",
      "15\n",
      "25\n",
      "10\n",
      "12\n",
      "15\n",
      "16\n",
      "16\n",
      "12\n",
      "25\n",
      "15\n",
      "25\n",
      "8\n",
      "8\n",
      "12\n",
      "12\n",
      "28\n",
      "15\n",
      "15\n",
      "15\n",
      "10\n",
      "12\n",
      "12\n",
      "15\n",
      "0\n",
      "12\n",
      "15\n",
      "12\n",
      "10\n",
      "8\n",
      "16\n",
      "16\n",
      "25\n",
      "22.5\n",
      "15\n",
      "12\n",
      "8\n",
      "15\n",
      "10\n",
      "25\n",
      "25\n",
      "25\n",
      "25\n",
      "15\n",
      "10\n",
      "16\n",
      "16\n",
      "15\n",
      "8\n",
      "0\n",
      "25\n",
      "25\n",
      "15\n",
      "8\n",
      "22\n",
      "15\n",
      "12\n",
      "10\n",
      "15\n",
      "10\n",
      "16\n",
      "25\n",
      "25\n",
      "15\n",
      "25\n",
      "10\n",
      "15\n",
      "10\n",
      "10\n",
      "16\n",
      "1\n",
      "25\n",
      "15\n",
      "25\n",
      "0\n",
      "25\n",
      "16\n",
      "8\n",
      "15\n",
      "25\n",
      "12\n",
      "13\n",
      "12\n",
      "15\n",
      "10\n",
      "25\n",
      "10\n",
      "25\n",
      "25\n",
      "0\n",
      "16\n",
      "15\n",
      "25\n",
      "16\n",
      "25\n",
      "15\n",
      "25\n",
      "16\n",
      "15\n",
      "23\n",
      "10\n",
      "25\n",
      "22.3\n",
      "22\n",
      "15\n",
      "15\n",
      "15\n",
      "25\n",
      "10\n",
      "25\n",
      "22\n",
      "25\n",
      "25\n",
      "15\n",
      "12\n",
      "25\n",
      "10\n",
      "10\n",
      "23\n",
      "16\n",
      "10\n",
      "20\n",
      "12\n",
      "12\n",
      "15\n",
      "25\n",
      "15\n",
      "12\n",
      "25\n",
      "8\n"
     ]
    }
   ],
   "source": [
    "for i in df_processed['cohere_resp'].values:\n",
    "    if float(i)<30:\n",
    "        print(i)"
   ]
  },
  {
   "cell_type": "code",
   "execution_count": 356,
   "id": "2fc224c9-39f2-4aaf-82f2-edc674fa6147",
   "metadata": {},
   "outputs": [
    {
     "data": {
      "image/png": "[encoded data removed]",
      "text/plain": [
       "<Figure size 640x480 with 1 Axes>"
      ]
     },
     "metadata": {},
     "output_type": "display_data"
    }
   ],
   "source": [
    "import matplotlib.pyplot as plt\n",
    "plt.hist(df_processed['cohere_resp'].map(float).values,bins=20)\n",
    "plt.xlim(0,100)\n",
    "plt.title(\"Cohere Chat Truthfulness Score Distribution\")\n",
    "plt.xlim(0,100)\n",
    "plt.ylabel(\"Frequency\")\n",
    "plt.xlabel(\"Truthfulness Score\")\n",
    "plt.show()"
   ]
  }
 ],
 "metadata": {
  "kernelspec": {
   "display_name": "Python 3 (ipykernel)",
   "language": "python",
   "name": "python3"
  },
  "language_info": {
   "codemirror_mode": {
    "name": "ipython",
    "version": 3
   },
   "file_extension": ".py",
   "mimetype": "text/x-python",
   "name": "python",
   "nbconvert_exporter": "python",
   "pygments_lexer": "ipython3",
   "version": "3.11.4"
  }
 },
 "nbformat": 4,
 "nbformat_minor": 5
}
