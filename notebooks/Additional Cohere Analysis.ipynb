{
 "cells": [
  {
   "cell_type": "markdown",
   "id": "bb2330d3",
   "metadata": {},
   "source": [
    "# LOAD IN PACKAGES AND DATA"
   ]
  },
  {
   "cell_type": "code",
   "execution_count": 18,
   "id": "e0edcb86-1ee7-45ff-b4bf-9dcfc6d22ce0",
   "metadata": {},
   "outputs": [],
   "source": [
    "import pandas as pd\n",
    "import numpy as np"
   ]
  },
  {
   "cell_type": "code",
   "execution_count": 26,
   "id": "c63aaaf8-b4d5-48b6-97b2-24aaaaf0c585",
   "metadata": {},
   "outputs": [],
   "source": [
    "df_results0 = pd.read_csv(r\"../data/naacl-woah-results/full_test_run_cohere_naacl.csv\", delimiter=\",\", on_bad_lines=\"skip\")"
   ]
  },
  {
   "cell_type": "code",
   "execution_count": 27,
   "id": "f086a42d-0232-4287-98b1-f980cb3e4391",
   "metadata": {},
   "outputs": [
    {
     "data": {
      "text/html": [
       "<div>\n",
       "<style scoped>\n",
       "    .dataframe tbody tr th:only-of-type {\n",
       "        vertical-align: middle;\n",
       "    }\n",
       "\n",
       "    .dataframe tbody tr th {\n",
       "        vertical-align: top;\n",
       "    }\n",
       "\n",
       "    .dataframe thead th {\n",
       "        text-align: right;\n",
       "    }\n",
       "</style>\n",
       "<table border=\"1\" class=\"dataframe\">\n",
       "  <thead>\n",
       "    <tr style=\"text-align: right;\">\n",
       "      <th></th>\n",
       "      <th>original_id</th>\n",
       "      <th>original_input</th>\n",
       "      <th>label</th>\n",
       "      <th>cohere_resp</th>\n",
       "      <th>language</th>\n",
       "      <th>task</th>\n",
       "    </tr>\n",
       "  </thead>\n",
       "  <tbody>\n",
       "    <tr>\n",
       "      <th>0</th>\n",
       "      <td>0</td>\n",
       "      <td>Augusto Santos Silva perguntou na Convenção Eu...</td>\n",
       "      <td>Em publicação partilhada viralmente nas redes ...</td>\n",
       "      <td>75</td>\n",
       "      <td>pt</td>\n",
       "      <td>cohere-zero-shot-100-threshold</td>\n",
       "    </tr>\n",
       "    <tr>\n",
       "      <th>1</th>\n",
       "      <td>2</td>\n",
       "      <td>Isto nunca tinha sido feito na História, escre...</td>\n",
       "      <td>false</td>\n",
       "      <td>60</td>\n",
       "      <td>pt</td>\n",
       "      <td>cohere-zero-shot-100-threshold</td>\n",
       "    </tr>\n",
       "    <tr>\n",
       "      <th>2</th>\n",
       "      <td>4</td>\n",
       "      <td>SERÁ VERDADE. OLHA A SAFADEZA PRA DIZER QUE O ...</td>\n",
       "      <td>false</td>\n",
       "      <td>10</td>\n",
       "      <td>pt</td>\n",
       "      <td>cohere-zero-shot-100-threshold</td>\n",
       "    </tr>\n",
       "    <tr>\n",
       "      <th>3</th>\n",
       "      <td>3</td>\n",
       "      <td>Cortou a suntuosa verba do Carnaval e outros e...</td>\n",
       "      <td>false</td>\n",
       "      <td>40</td>\n",
       "      <td>pt</td>\n",
       "      <td>cohere-zero-shot-100-threshold</td>\n",
       "    </tr>\n",
       "    <tr>\n",
       "      <th>4</th>\n",
       "      <td>7</td>\n",
       "      <td>Nunca aconteceram incidentes graves [durante m...</td>\n",
       "      <td>partly true/misleading</td>\n",
       "      <td>40</td>\n",
       "      <td>pt</td>\n",
       "      <td>cohere-zero-shot-100-threshold</td>\n",
       "    </tr>\n",
       "  </tbody>\n",
       "</table>\n",
       "</div>"
      ],
      "text/plain": [
       "   original_id                                     original_input  \\\n",
       "0            0  Augusto Santos Silva perguntou na Convenção Eu...   \n",
       "1            2  Isto nunca tinha sido feito na História, escre...   \n",
       "2            4  SERÁ VERDADE. OLHA A SAFADEZA PRA DIZER QUE O ...   \n",
       "3            3  Cortou a suntuosa verba do Carnaval e outros e...   \n",
       "4            7  Nunca aconteceram incidentes graves [durante m...   \n",
       "\n",
       "                                               label cohere_resp language  \\\n",
       "0  Em publicação partilhada viralmente nas redes ...          75       pt   \n",
       "1                                              false          60       pt   \n",
       "2                                              false          10       pt   \n",
       "3                                              false          40       pt   \n",
       "4                             partly true/misleading          40       pt   \n",
       "\n",
       "                             task  \n",
       "0  cohere-zero-shot-100-threshold  \n",
       "1  cohere-zero-shot-100-threshold  \n",
       "2  cohere-zero-shot-100-threshold  \n",
       "3  cohere-zero-shot-100-threshold  \n",
       "4  cohere-zero-shot-100-threshold  "
      ]
     },
     "execution_count": 27,
     "metadata": {},
     "output_type": "execute_result"
    }
   ],
   "source": [
    "df_results0.head()"
   ]
  },
  {
   "cell_type": "markdown",
   "id": "d53866e7",
   "metadata": {},
   "source": [
    "# PRE-PROCESSING?"
   ]
  },
  {
   "cell_type": "code",
   "execution_count": 28,
   "id": "3ec4f2d0-ffc8-40a7-9b28-01aa834e4de2",
   "metadata": {},
   "outputs": [],
   "source": [
    "#remove other and complicated labels \n",
    "df_results0 = df_results0[df_results0['label'].isin(['true', 'mostly true', 'partly true/misleading', 'complicated/hard to categorise', 'other', 'mostly false', 'false'])]\n",
    "df_results0 = df_results0[pd.to_numeric(df_results0['cohere_resp'], errors='coerce').notnull()]\n",
    "#TODO look at these values"
   ]
  },
  {
   "cell_type": "code",
   "execution_count": 29,
   "id": "b6a056e7",
   "metadata": {},
   "outputs": [
    {
     "data": {
      "text/html": [
       "<div>\n",
       "<style scoped>\n",
       "    .dataframe tbody tr th:only-of-type {\n",
       "        vertical-align: middle;\n",
       "    }\n",
       "\n",
       "    .dataframe tbody tr th {\n",
       "        vertical-align: top;\n",
       "    }\n",
       "\n",
       "    .dataframe thead th {\n",
       "        text-align: right;\n",
       "    }\n",
       "</style>\n",
       "<table border=\"1\" class=\"dataframe\">\n",
       "  <thead>\n",
       "    <tr style=\"text-align: right;\">\n",
       "      <th></th>\n",
       "      <th>original_id</th>\n",
       "      <th>original_input</th>\n",
       "      <th>label</th>\n",
       "      <th>cohere_resp</th>\n",
       "      <th>language</th>\n",
       "      <th>task</th>\n",
       "    </tr>\n",
       "  </thead>\n",
       "  <tbody>\n",
       "    <tr>\n",
       "      <th>1</th>\n",
       "      <td>2</td>\n",
       "      <td>Isto nunca tinha sido feito na História, escre...</td>\n",
       "      <td>false</td>\n",
       "      <td>60</td>\n",
       "      <td>pt</td>\n",
       "      <td>cohere-zero-shot-100-threshold</td>\n",
       "    </tr>\n",
       "    <tr>\n",
       "      <th>2</th>\n",
       "      <td>4</td>\n",
       "      <td>SERÁ VERDADE. OLHA A SAFADEZA PRA DIZER QUE O ...</td>\n",
       "      <td>false</td>\n",
       "      <td>10</td>\n",
       "      <td>pt</td>\n",
       "      <td>cohere-zero-shot-100-threshold</td>\n",
       "    </tr>\n",
       "    <tr>\n",
       "      <th>3</th>\n",
       "      <td>3</td>\n",
       "      <td>Cortou a suntuosa verba do Carnaval e outros e...</td>\n",
       "      <td>false</td>\n",
       "      <td>40</td>\n",
       "      <td>pt</td>\n",
       "      <td>cohere-zero-shot-100-threshold</td>\n",
       "    </tr>\n",
       "    <tr>\n",
       "      <th>4</th>\n",
       "      <td>7</td>\n",
       "      <td>Nunca aconteceram incidentes graves [durante m...</td>\n",
       "      <td>partly true/misleading</td>\n",
       "      <td>40</td>\n",
       "      <td>pt</td>\n",
       "      <td>cohere-zero-shot-100-threshold</td>\n",
       "    </tr>\n",
       "    <tr>\n",
       "      <th>5</th>\n",
       "      <td>6</td>\n",
       "      <td>مقطع فيديو يوثق اعتداء شبان على الشرطة المصرية...</td>\n",
       "      <td>partly true/misleading</td>\n",
       "      <td>20</td>\n",
       "      <td>ar</td>\n",
       "      <td>cohere-zero-shot-100-threshold</td>\n",
       "    </tr>\n",
       "  </tbody>\n",
       "</table>\n",
       "</div>"
      ],
      "text/plain": [
       "   original_id                                     original_input  \\\n",
       "1            2  Isto nunca tinha sido feito na História, escre...   \n",
       "2            4  SERÁ VERDADE. OLHA A SAFADEZA PRA DIZER QUE O ...   \n",
       "3            3  Cortou a suntuosa verba do Carnaval e outros e...   \n",
       "4            7  Nunca aconteceram incidentes graves [durante m...   \n",
       "5            6  مقطع فيديو يوثق اعتداء شبان على الشرطة المصرية...   \n",
       "\n",
       "                    label cohere_resp language                            task  \n",
       "1                   false          60       pt  cohere-zero-shot-100-threshold  \n",
       "2                   false          10       pt  cohere-zero-shot-100-threshold  \n",
       "3                   false          40       pt  cohere-zero-shot-100-threshold  \n",
       "4  partly true/misleading          40       pt  cohere-zero-shot-100-threshold  \n",
       "5  partly true/misleading          20       ar  cohere-zero-shot-100-threshold  "
      ]
     },
     "execution_count": 29,
     "metadata": {},
     "output_type": "execute_result"
    }
   ],
   "source": [
    "df_results0.head()"
   ]
  },
  {
   "cell_type": "markdown",
   "id": "dda5ddcd",
   "metadata": {},
   "source": [
    "# PRELIMINARY LOOK AT THE DATA"
   ]
  },
  {
   "cell_type": "code",
   "execution_count": 30,
   "id": "7b4e9942-0d4c-46a9-a0d2-1bb9a4cc0855",
   "metadata": {},
   "outputs": [
    {
     "data": {
      "text/plain": [
       "(3546, 6)"
      ]
     },
     "execution_count": 30,
     "metadata": {},
     "output_type": "execute_result"
    }
   ],
   "source": [
    "df_results0.shape"
   ]
  },
  {
   "cell_type": "code",
   "execution_count": 31,
   "id": "bea4b583",
   "metadata": {},
   "outputs": [
    {
     "data": {
      "image/png": "[encoded data removed]",
      "text/plain": [
       "<Figure size 640x480 with 1 Axes>"
      ]
     },
     "metadata": {},
     "output_type": "display_data"
    }
   ],
   "source": [
    "import matplotlib.pyplot as plt\n",
    "plt.hist(df_results0['cohere_resp'].map(float).values,bins=50)\n",
    "plt.xlim(0,100)\n",
    "plt.title(\"Cohere Chat Truthfulness Score Distribution\")\n",
    "plt.xlim(0,100)\n",
    "plt.ylabel(\"Frequency\")\n",
    "plt.xlabel(\"Truthfulness Score\")\n",
    "plt.show()"
   ]
  },
  {
   "cell_type": "code",
   "execution_count": 21,
   "id": "90f74177-c5d0-446b-9708-778b3e42660c",
   "metadata": {},
   "outputs": [
    {
     "data": {
      "text/plain": [
       "simple_truth\n",
       "0    2339\n",
       "1    1310\n",
       "Name: count, dtype: int64"
      ]
     },
     "execution_count": 21,
     "metadata": {},
     "output_type": "execute_result"
    }
   ],
   "source": [
    "#function to get a rough idea of the distribution of different values in the dataset: looks like there are more false or questionable \n",
    "#than definitively true\n",
    "def simplify_truth(row):\n",
    "    if row['label'] in ['false', 'mostly false', 'partly true/misleading']: #TODO: tune these\n",
    "        return 0\n",
    "    else:\n",
    "        return 1\n",
    "\n",
    "df_results0['simple_truth'] = df_results0.apply(simplify_truth, axis=1)\n",
    "\n",
    "df_results0[\"simple_truth\"].value_counts() #much more false than true"
   ]
  },
  {
   "cell_type": "markdown",
   "id": "02652bca",
   "metadata": {},
   "source": [
    "# ACCURACY METRICS"
   ]
  },
  {
   "cell_type": "code",
   "execution_count": 32,
   "id": "b36f614d-67cf-4166-8bac-939a3b3cbbba",
   "metadata": {},
   "outputs": [],
   "source": [
    "#this function is a helper to calculate accuracy according to the x-fact and concrete papers\n",
    "def cohere_tv(row):\n",
    "    resp = row['cohere_resp']\n",
    "    try:\n",
    "        resp = float(resp)\n",
    "    except ValueError:\n",
    "        return \"unknown\"\n",
    "    \n",
    "    if resp < 20: #TODO: tune this value?\n",
    "        return \"false\"\n",
    "    \n",
    "    elif resp < 40:\n",
    "        return \"mostly false\"\n",
    "    \n",
    "    elif resp < 60:\n",
    "        return \"partly true/misleading\"\n",
    "    \n",
    "    elif resp < 80:\n",
    "        return \"mostly true\"\n",
    "    \n",
    "    else:\n",
    "        return \"true\"\n",
    "    \n",
    "\n",
    "df_results0['cohere_simple'] = df_results0.apply(cohere_tv, axis=1)\n",
    "# print(df_results0.shape)\n",
    "df_processed = df_results0.copy()#.drop(df_results0[(df_results0.cohere_simple != 0) & (df_results0.cohere_simple != 1)].index)\n",
    "#df_processed = df_processed.drop(df_processed[df_processed.label.isin(['complicated/hard to categorise', 'other', np.nan])].index) #TODO: labels other than what's in the dict\n",
    "df_processed = df_processed.reset_index()"
   ]
  },
  {
   "cell_type": "code",
   "execution_count": 33,
   "id": "69c859ed-1ddf-4a5f-9372-c29f0930f913",
   "metadata": {},
   "outputs": [
    {
     "data": {
      "text/html": [
       "<div>\n",
       "<style scoped>\n",
       "    .dataframe tbody tr th:only-of-type {\n",
       "        vertical-align: middle;\n",
       "    }\n",
       "\n",
       "    .dataframe tbody tr th {\n",
       "        vertical-align: top;\n",
       "    }\n",
       "\n",
       "    .dataframe thead th {\n",
       "        text-align: right;\n",
       "    }\n",
       "</style>\n",
       "<table border=\"1\" class=\"dataframe\">\n",
       "  <thead>\n",
       "    <tr style=\"text-align: right;\">\n",
       "      <th></th>\n",
       "      <th>index</th>\n",
       "      <th>original_id</th>\n",
       "      <th>original_input</th>\n",
       "      <th>label</th>\n",
       "      <th>cohere_resp</th>\n",
       "      <th>language</th>\n",
       "      <th>task</th>\n",
       "      <th>cohere_simple</th>\n",
       "    </tr>\n",
       "  </thead>\n",
       "  <tbody>\n",
       "    <tr>\n",
       "      <th>0</th>\n",
       "      <td>1</td>\n",
       "      <td>2</td>\n",
       "      <td>Isto nunca tinha sido feito na História, escre...</td>\n",
       "      <td>false</td>\n",
       "      <td>60</td>\n",
       "      <td>pt</td>\n",
       "      <td>cohere-zero-shot-100-threshold</td>\n",
       "      <td>mostly true</td>\n",
       "    </tr>\n",
       "    <tr>\n",
       "      <th>1</th>\n",
       "      <td>2</td>\n",
       "      <td>4</td>\n",
       "      <td>SERÁ VERDADE. OLHA A SAFADEZA PRA DIZER QUE O ...</td>\n",
       "      <td>false</td>\n",
       "      <td>10</td>\n",
       "      <td>pt</td>\n",
       "      <td>cohere-zero-shot-100-threshold</td>\n",
       "      <td>false</td>\n",
       "    </tr>\n",
       "    <tr>\n",
       "      <th>2</th>\n",
       "      <td>3</td>\n",
       "      <td>3</td>\n",
       "      <td>Cortou a suntuosa verba do Carnaval e outros e...</td>\n",
       "      <td>false</td>\n",
       "      <td>40</td>\n",
       "      <td>pt</td>\n",
       "      <td>cohere-zero-shot-100-threshold</td>\n",
       "      <td>partly true/misleading</td>\n",
       "    </tr>\n",
       "    <tr>\n",
       "      <th>3</th>\n",
       "      <td>4</td>\n",
       "      <td>7</td>\n",
       "      <td>Nunca aconteceram incidentes graves [durante m...</td>\n",
       "      <td>partly true/misleading</td>\n",
       "      <td>40</td>\n",
       "      <td>pt</td>\n",
       "      <td>cohere-zero-shot-100-threshold</td>\n",
       "      <td>partly true/misleading</td>\n",
       "    </tr>\n",
       "    <tr>\n",
       "      <th>4</th>\n",
       "      <td>5</td>\n",
       "      <td>6</td>\n",
       "      <td>مقطع فيديو يوثق اعتداء شبان على الشرطة المصرية...</td>\n",
       "      <td>partly true/misleading</td>\n",
       "      <td>20</td>\n",
       "      <td>ar</td>\n",
       "      <td>cohere-zero-shot-100-threshold</td>\n",
       "      <td>mostly false</td>\n",
       "    </tr>\n",
       "  </tbody>\n",
       "</table>\n",
       "</div>"
      ],
      "text/plain": [
       "   index  original_id                                     original_input  \\\n",
       "0      1            2  Isto nunca tinha sido feito na História, escre...   \n",
       "1      2            4  SERÁ VERDADE. OLHA A SAFADEZA PRA DIZER QUE O ...   \n",
       "2      3            3  Cortou a suntuosa verba do Carnaval e outros e...   \n",
       "3      4            7  Nunca aconteceram incidentes graves [durante m...   \n",
       "4      5            6  مقطع فيديو يوثق اعتداء شبان على الشرطة المصرية...   \n",
       "\n",
       "                    label cohere_resp language  \\\n",
       "0                   false          60       pt   \n",
       "1                   false          10       pt   \n",
       "2                   false          40       pt   \n",
       "3  partly true/misleading          40       pt   \n",
       "4  partly true/misleading          20       ar   \n",
       "\n",
       "                             task           cohere_simple  \n",
       "0  cohere-zero-shot-100-threshold             mostly true  \n",
       "1  cohere-zero-shot-100-threshold                   false  \n",
       "2  cohere-zero-shot-100-threshold  partly true/misleading  \n",
       "3  cohere-zero-shot-100-threshold  partly true/misleading  \n",
       "4  cohere-zero-shot-100-threshold            mostly false  "
      ]
     },
     "execution_count": 33,
     "metadata": {},
     "output_type": "execute_result"
    }
   ],
   "source": [
    "df_processed.head()"
   ]
  },
  {
   "cell_type": "code",
   "execution_count": 12,
   "id": "1e930436-ca7a-4051-979f-7cc1bb4a04c5",
   "metadata": {},
   "outputs": [],
   "source": [
    "from sklearn.metrics import classification_report\n",
    "#TODO: use the 'naive' metric to present another measure of accuracy\n"
   ]
  },
  {
   "cell_type": "markdown",
   "id": "de797ab6-9ee3-4e28-a438-919254067ba5",
   "metadata": {},
   "source": [
    "### Overall Performance"
   ]
  },
  {
   "cell_type": "code",
   "execution_count": 34,
   "id": "8808ec5a",
   "metadata": {},
   "outputs": [],
   "source": [
    "def calculate_row_score(row): #according to concrete and x-fact code, available at https://github.com/khuangaf/CONCRETE/blob/master/src/xfact_eval.py\n",
    "    score_mat = {\n",
    "\n",
    "    'true':\n",
    "            {\n",
    "                'true':1.0,\n",
    "                'mostly true':0.75,\n",
    "                'partly true/misleading': 0.5,\n",
    "                'complicated/hard to categorise': 0.0,\n",
    "                'other': 0.0,\n",
    "                'mostly false': 0.0,\n",
    "                'false': 0.0\n",
    "            },\n",
    "\n",
    "\n",
    "    'mostly true':\n",
    "            {\n",
    "                'true':0.75,\n",
    "                'mostly true':1.0,\n",
    "                'partly true/misleading': 0.75,\n",
    "                'complicated/hard to categorise': 0.0,\n",
    "                'other': 0.0,\n",
    "                'mostly false': 0.0,\n",
    "                'false': 0.0\n",
    "            },\n",
    "\n",
    "    'partly true/misleading':\n",
    "            {\n",
    "                'true':0.25,\n",
    "                'mostly true':0.50,\n",
    "                'partly true/misleading': 1.0,\n",
    "                'complicated/hard to categorise': 0.5,\n",
    "                'other': 0.5,\n",
    "                'mostly false': 0.50,\n",
    "                'false': 0.25\n",
    "            },\n",
    "\n",
    "\n",
    "\n",
    "    'complicated/hard to categorise':\n",
    "            {\n",
    "                'true':0.0,\n",
    "                'mostly true':0.0,\n",
    "                'partly true/misleading': 0.0,\n",
    "                'complicated/hard to categorise': 1.0,\n",
    "                'other': 0.0,\n",
    "                'mostly false': 0.0,\n",
    "                'false': 0.0\n",
    "            },\n",
    "\n",
    "\n",
    "    'other':\n",
    "            {\n",
    "                'true':0.0,\n",
    "                'mostly true':0.0,\n",
    "                'partly true/misleading': 0,\n",
    "                'complicated/hard to categorise': 0,\n",
    "                'other': 1.0,\n",
    "                'mostly false': 0.0,\n",
    "                'false': 0.0\n",
    "            },\n",
    "\n",
    "\n",
    "    'mostly false':\n",
    "            {\n",
    "                'true':0.25,\n",
    "                'mostly true':0.5,\n",
    "                'partly true/misleading': 0.5,\n",
    "                'complicated/hard to categorise': 0.5,\n",
    "                'other': 0.5,\n",
    "                'mostly false': 1.00,\n",
    "                'false': 0.75\n",
    "            },\n",
    "\n",
    "\n",
    "    'false':\n",
    "            {\n",
    "                'true':0.0,\n",
    "                'mostly true':0.25,\n",
    "                'partly true/misleading': 0.5,\n",
    "                'complicated/hard to categorise': 0.5,\n",
    "                'other': 0.5,\n",
    "                'mostly false': 0.75,\n",
    "                'false': 1.0\n",
    "            }\n",
    "\n",
    "\n",
    "    }\n",
    "    try:\n",
    "        return score_mat[row[\"label\"]][row[\"cohere_simple\"]]\n",
    "    except KeyError: #shouldn't happen - TODO do some testing\n",
    "        return 0\n",
    "    \n",
    "df_processed['score'] = df_processed.apply(calculate_row_score, axis=1)  \n"
   ]
  },
  {
   "cell_type": "code",
   "execution_count": 35,
   "id": "b0ed1d8a",
   "metadata": {},
   "outputs": [
    {
     "data": {
      "text/html": [
       "<div>\n",
       "<style scoped>\n",
       "    .dataframe tbody tr th:only-of-type {\n",
       "        vertical-align: middle;\n",
       "    }\n",
       "\n",
       "    .dataframe tbody tr th {\n",
       "        vertical-align: top;\n",
       "    }\n",
       "\n",
       "    .dataframe thead th {\n",
       "        text-align: right;\n",
       "    }\n",
       "</style>\n",
       "<table border=\"1\" class=\"dataframe\">\n",
       "  <thead>\n",
       "    <tr style=\"text-align: right;\">\n",
       "      <th></th>\n",
       "      <th>index</th>\n",
       "      <th>original_id</th>\n",
       "      <th>original_input</th>\n",
       "      <th>label</th>\n",
       "      <th>cohere_resp</th>\n",
       "      <th>language</th>\n",
       "      <th>task</th>\n",
       "      <th>cohere_simple</th>\n",
       "      <th>score</th>\n",
       "    </tr>\n",
       "  </thead>\n",
       "  <tbody>\n",
       "    <tr>\n",
       "      <th>0</th>\n",
       "      <td>1</td>\n",
       "      <td>2</td>\n",
       "      <td>Isto nunca tinha sido feito na História, escre...</td>\n",
       "      <td>false</td>\n",
       "      <td>60</td>\n",
       "      <td>pt</td>\n",
       "      <td>cohere-zero-shot-100-threshold</td>\n",
       "      <td>mostly true</td>\n",
       "      <td>0.25</td>\n",
       "    </tr>\n",
       "    <tr>\n",
       "      <th>1</th>\n",
       "      <td>2</td>\n",
       "      <td>4</td>\n",
       "      <td>SERÁ VERDADE. OLHA A SAFADEZA PRA DIZER QUE O ...</td>\n",
       "      <td>false</td>\n",
       "      <td>10</td>\n",
       "      <td>pt</td>\n",
       "      <td>cohere-zero-shot-100-threshold</td>\n",
       "      <td>false</td>\n",
       "      <td>1.00</td>\n",
       "    </tr>\n",
       "    <tr>\n",
       "      <th>2</th>\n",
       "      <td>3</td>\n",
       "      <td>3</td>\n",
       "      <td>Cortou a suntuosa verba do Carnaval e outros e...</td>\n",
       "      <td>false</td>\n",
       "      <td>40</td>\n",
       "      <td>pt</td>\n",
       "      <td>cohere-zero-shot-100-threshold</td>\n",
       "      <td>partly true/misleading</td>\n",
       "      <td>0.50</td>\n",
       "    </tr>\n",
       "    <tr>\n",
       "      <th>3</th>\n",
       "      <td>4</td>\n",
       "      <td>7</td>\n",
       "      <td>Nunca aconteceram incidentes graves [durante m...</td>\n",
       "      <td>partly true/misleading</td>\n",
       "      <td>40</td>\n",
       "      <td>pt</td>\n",
       "      <td>cohere-zero-shot-100-threshold</td>\n",
       "      <td>partly true/misleading</td>\n",
       "      <td>1.00</td>\n",
       "    </tr>\n",
       "    <tr>\n",
       "      <th>4</th>\n",
       "      <td>5</td>\n",
       "      <td>6</td>\n",
       "      <td>مقطع فيديو يوثق اعتداء شبان على الشرطة المصرية...</td>\n",
       "      <td>partly true/misleading</td>\n",
       "      <td>20</td>\n",
       "      <td>ar</td>\n",
       "      <td>cohere-zero-shot-100-threshold</td>\n",
       "      <td>mostly false</td>\n",
       "      <td>0.50</td>\n",
       "    </tr>\n",
       "  </tbody>\n",
       "</table>\n",
       "</div>"
      ],
      "text/plain": [
       "   index  original_id                                     original_input  \\\n",
       "0      1            2  Isto nunca tinha sido feito na História, escre...   \n",
       "1      2            4  SERÁ VERDADE. OLHA A SAFADEZA PRA DIZER QUE O ...   \n",
       "2      3            3  Cortou a suntuosa verba do Carnaval e outros e...   \n",
       "3      4            7  Nunca aconteceram incidentes graves [durante m...   \n",
       "4      5            6  مقطع فيديو يوثق اعتداء شبان على الشرطة المصرية...   \n",
       "\n",
       "                    label cohere_resp language  \\\n",
       "0                   false          60       pt   \n",
       "1                   false          10       pt   \n",
       "2                   false          40       pt   \n",
       "3  partly true/misleading          40       pt   \n",
       "4  partly true/misleading          20       ar   \n",
       "\n",
       "                             task           cohere_simple  score  \n",
       "0  cohere-zero-shot-100-threshold             mostly true   0.25  \n",
       "1  cohere-zero-shot-100-threshold                   false   1.00  \n",
       "2  cohere-zero-shot-100-threshold  partly true/misleading   0.50  \n",
       "3  cohere-zero-shot-100-threshold  partly true/misleading   1.00  \n",
       "4  cohere-zero-shot-100-threshold            mostly false   0.50  "
      ]
     },
     "execution_count": 35,
     "metadata": {},
     "output_type": "execute_result"
    }
   ],
   "source": [
    "df_processed.head()"
   ]
  },
  {
   "cell_type": "code",
   "execution_count": 36,
   "id": "450fdabd",
   "metadata": {},
   "outputs": [
    {
     "name": "stdout",
     "output_type": "stream",
     "text": [
      "0.5615482233502538\n"
     ]
    }
   ],
   "source": [
    "print(df_processed[\"score\"].sum() / len(df_processed[\"score\"])) #note that concrete does this step inside the above function and produces a single score instead of a row-by-row score"
   ]
  },
  {
   "cell_type": "code",
   "execution_count": 37,
   "id": "f8c173a5-659d-4499-930c-4107d9beeb52",
   "metadata": {},
   "outputs": [
    {
     "name": "stdout",
     "output_type": "stream",
     "text": [
      "                                precision    recall  f1-score   support\n",
      "\n",
      "complicated/hard to categorise       0.00      0.00      0.00       100\n",
      "                         false       0.53      0.30      0.39      1366\n",
      "                  mostly false       0.06      0.39      0.11       143\n",
      "                   mostly true       0.12      0.18      0.15       273\n",
      "                         other       0.00      0.00      0.00        84\n",
      "        partly true/misleading       0.25      0.29      0.27       808\n",
      "                          true       0.36      0.27      0.31       772\n",
      "\n",
      "                      accuracy                           0.27      3546\n",
      "                     macro avg       0.19      0.20      0.17      3546\n",
      "                  weighted avg       0.35      0.27      0.29      3546\n",
      "\n"
     ]
    },
    {
     "name": "stderr",
     "output_type": "stream",
     "text": [
      "c:\\Users\\annal\\AppData\\Local\\Programs\\Python\\Python311\\Lib\\site-packages\\sklearn\\metrics\\_classification.py:1469: UndefinedMetricWarning: Precision and F-score are ill-defined and being set to 0.0 in labels with no predicted samples. Use `zero_division` parameter to control this behavior.\n",
      "  _warn_prf(average, modifier, msg_start, len(result))\n",
      "c:\\Users\\annal\\AppData\\Local\\Programs\\Python\\Python311\\Lib\\site-packages\\sklearn\\metrics\\_classification.py:1469: UndefinedMetricWarning: Precision and F-score are ill-defined and being set to 0.0 in labels with no predicted samples. Use `zero_division` parameter to control this behavior.\n",
      "  _warn_prf(average, modifier, msg_start, len(result))\n",
      "c:\\Users\\annal\\AppData\\Local\\Programs\\Python\\Python311\\Lib\\site-packages\\sklearn\\metrics\\_classification.py:1469: UndefinedMetricWarning: Precision and F-score are ill-defined and being set to 0.0 in labels with no predicted samples. Use `zero_division` parameter to control this behavior.\n",
      "  _warn_prf(average, modifier, msg_start, len(result))\n"
     ]
    }
   ],
   "source": [
    "print(classification_report(df_processed['label'].values.tolist(), df_processed['cohere_simple'].values.tolist()))"
   ]
  },
  {
   "cell_type": "markdown",
   "id": "04c8f46d",
   "metadata": {},
   "source": [
    "# PERFORMANCE DIFFERENCES ON DIFFERENT SUBSETS"
   ]
  },
  {
   "cell_type": "code",
   "execution_count": 15,
   "id": "44b0047c-3855-4702-8c28-d9b018128d11",
   "metadata": {},
   "outputs": [],
   "source": [
    "def euro_or_not(lang):\n",
    "    if lang in [\"de\", \"es\", \"fr\", \"it\", \"no\", \"nl\", \"pl\", \"pt\", \"ro\", \"ru\", \"sr\", \"sq\"]: #german, spanish, french, italian, norwegian, dutch, polish\n",
    "        return True\n",
    "    else: #ar - arabic; az - azerbaijani; bn - bengali; fa - farsi; gu - gujarati; hi - hindi; id - indonesian\n",
    "        #ka - georgian; mr - marathi; pa - punjabi; si - sinhala; ta - tamil; tr - turkish\n",
    "        return False"
   ]
  },
  {
   "cell_type": "code",
   "execution_count": 18,
   "id": "a0f6e39c-6940-441d-be47-d78d2e717735",
   "metadata": {},
   "outputs": [],
   "source": [
    "def conservative_true(label):\n",
    "    if label in ['false', 'mostly false', 'partly true/misleading']: #TODO: tune these\n",
    "        return 0\n",
    "    else:\n",
    "        return 1"
   ]
  },
  {
   "cell_type": "code",
   "execution_count": 24,
   "id": "d3d8aab5-a7c5-4a9b-8801-4841fa22bbee",
   "metadata": {},
   "outputs": [
    {
     "data": {
      "text/plain": [
       "(3411, 9)"
      ]
     },
     "execution_count": 24,
     "metadata": {},
     "output_type": "execute_result"
    }
   ],
   "source": [
    "df_processed.shape"
   ]
  },
  {
   "cell_type": "code",
   "execution_count": 27,
   "id": "ac08526b-1fa8-4d93-ab41-7acbe398bd3e",
   "metadata": {},
   "outputs": [
    {
     "data": {
      "text/plain": [
       "'true'"
      ]
     },
     "execution_count": 27,
     "metadata": {},
     "output_type": "execute_result"
    }
   ],
   "source": [
    "df_processed['label'][3410]"
   ]
  },
  {
   "cell_type": "code",
   "execution_count": 32,
   "id": "201fc727-4520-488e-bcae-88d379e95902",
   "metadata": {},
   "outputs": [],
   "source": [
    "euro_y_true = []\n",
    "euro_y_pred = []\n",
    "non_euro_y_true = []\n",
    "non_euro_y_pred = []\n",
    "for i, rows in df_processed.iterrows():\n",
    "    # print('hi')\n",
    "    # print(i)\n",
    "    # break\n",
    "    # init_index = df_processed['index'][i]\n",
    "    # if df_processed['label'][i]!=df_processed['label'][init_index]:\n",
    "    #     pass\n",
    "    #     # print(i, init_index)\n",
    "    if euro_or_not(df_processed['language'][i]):\n",
    "        euro_y_true.append(conservative_true(df_processed['label'][i]))\n",
    "        euro_y_pred.append(df_processed['cohere_simple'][i])\n",
    "    else:\n",
    "        non_euro_y_true.append(conservative_true(df_processed['label'][i]))\n",
    "        non_euro_y_pred.append(df_processed['cohere_simple'][i])"
   ]
  },
  {
   "cell_type": "markdown",
   "id": "b411f9f8-57fa-4c17-8b69-78a91fca9076",
   "metadata": {},
   "source": [
    "### Non-European vs European"
   ]
  },
  {
   "cell_type": "code",
   "execution_count": 33,
   "id": "a596b820-935f-45a6-a3d7-7ffb6c1d8624",
   "metadata": {},
   "outputs": [
    {
     "name": "stdout",
     "output_type": "stream",
     "text": [
      "              precision    recall  f1-score   support\n",
      "\n",
      "           0       0.68      0.77      0.72      1195\n",
      "           1       0.54      0.44      0.48       757\n",
      "\n",
      "    accuracy                           0.64      1952\n",
      "   macro avg       0.61      0.60      0.60      1952\n",
      "weighted avg       0.63      0.64      0.63      1952\n",
      "\n"
     ]
    }
   ],
   "source": [
    "print(classification_report(euro_y_true, euro_y_pred))"
   ]
  },
  {
   "cell_type": "code",
   "execution_count": 34,
   "id": "a3b5463c-95f4-4d75-8b0f-97d6be0c5ea3",
   "metadata": {},
   "outputs": [
    {
     "name": "stdout",
     "output_type": "stream",
     "text": [
      "              precision    recall  f1-score   support\n",
      "\n",
      "           0       0.81      0.83      0.82      1127\n",
      "           1       0.36      0.33      0.34       332\n",
      "\n",
      "    accuracy                           0.71      1459\n",
      "   macro avg       0.58      0.58      0.58      1459\n",
      "weighted avg       0.70      0.71      0.71      1459\n",
      "\n"
     ]
    }
   ],
   "source": [
    "print(classification_report(non_euro_y_true, non_euro_y_pred))"
   ]
  },
  {
   "cell_type": "markdown",
   "id": "c2c6aea5-0d25-461a-bd91-1aaa96b5efdc",
   "metadata": {},
   "source": [
    "### Western vs Non-Western"
   ]
  },
  {
   "cell_type": "code",
   "execution_count": 36,
   "id": "0680ae08-b9cc-433c-8fc8-57514994402f",
   "metadata": {},
   "outputs": [],
   "source": [
    "def western(lang):\n",
    "    if lang in [\"de\", \"es\", \"fr\", \"it\", \"nl\", \"no\", \"pt\"]:\n",
    "        return True\n",
    "    else:\n",
    "        return False"
   ]
  },
  {
   "cell_type": "code",
   "execution_count": 38,
   "id": "f7200d16-60d2-48ce-8584-7e587cf09d18",
   "metadata": {},
   "outputs": [],
   "source": [
    "western_y_true = []\n",
    "western_y_pred = []\n",
    "non_western_y_true = []\n",
    "non_western_y_pred = []\n",
    "for i in range(df_processed.shape[0]):\n",
    "    if western(df_processed['language'][i]):\n",
    "        western_y_true.append(conservative_true(df_processed['label'][i]))\n",
    "        western_y_pred.append(df_processed['cohere_simple'][i])\n",
    "    else:\n",
    "        non_western_y_true.append(conservative_true(df_processed['label'][i]))\n",
    "        non_western_y_pred.append(df_processed['cohere_simple'][i])"
   ]
  },
  {
   "cell_type": "code",
   "execution_count": 39,
   "id": "56d8875b-97ed-48b1-a98c-b5edf7b54990",
   "metadata": {},
   "outputs": [
    {
     "name": "stdout",
     "output_type": "stream",
     "text": [
      "              precision    recall  f1-score   support\n",
      "\n",
      "           0       0.71      0.76      0.73       915\n",
      "           1       0.54      0.47      0.51       548\n",
      "\n",
      "    accuracy                           0.65      1463\n",
      "   macro avg       0.62      0.62      0.62      1463\n",
      "weighted avg       0.65      0.65      0.65      1463\n",
      "\n"
     ]
    }
   ],
   "source": [
    "print(classification_report(western_y_true, western_y_pred))"
   ]
  },
  {
   "cell_type": "code",
   "execution_count": 40,
   "id": "6ff51b92-d5a3-4e53-8e79-20bcde71fbb5",
   "metadata": {},
   "outputs": [
    {
     "name": "stdout",
     "output_type": "stream",
     "text": [
      "              precision    recall  f1-score   support\n",
      "\n",
      "           0       0.76      0.82      0.79      1407\n",
      "           1       0.41      0.33      0.37       541\n",
      "\n",
      "    accuracy                           0.68      1948\n",
      "   macro avg       0.59      0.57      0.58      1948\n",
      "weighted avg       0.66      0.68      0.67      1948\n",
      "\n"
     ]
    }
   ],
   "source": [
    "print(classification_report(non_western_y_true, non_western_y_pred))"
   ]
  },
  {
   "cell_type": "markdown",
   "id": "cb6fb361-f09e-46d0-b311-59d015d0aeaa",
   "metadata": {},
   "source": [
    "### Small vs Large"
   ]
  },
  {
   "cell_type": "code",
   "execution_count": 41,
   "id": "507d79e6-b24b-4926-8f7a-119217b6f31c",
   "metadata": {},
   "outputs": [],
   "source": [
    "def small(lang):\n",
    "    if lang in [\"no\", \"nl\", \"pl\", \"ro\", \"sr\", \"sq\", \"az\", \"ka\", \"si\"]:\n",
    "        return True\n",
    "    else: return False"
   ]
  },
  {
   "cell_type": "code",
   "execution_count": 43,
   "id": "3615a97e-1742-453e-8cdd-d1ebb3043e0a",
   "metadata": {},
   "outputs": [],
   "source": [
    "small_y_true = []\n",
    "small_y_pred = []\n",
    "large_y_true = []\n",
    "large_y_pred = []\n",
    "for i in range(df_processed.shape[0]):\n",
    "    if small(df_processed['language'][i]):\n",
    "        small_y_true.append(conservative_true(df_processed['label'][i]))\n",
    "        small_y_pred.append(df_processed['cohere_simple'][i])\n",
    "    else:\n",
    "        large_y_true.append(conservative_true(df_processed['label'][i]))\n",
    "        large_y_pred.append(df_processed['cohere_simple'][i])"
   ]
  },
  {
   "cell_type": "code",
   "execution_count": 44,
   "id": "d5d191b3-246e-48ec-9e76-837454d8cfb5",
   "metadata": {},
   "outputs": [
    {
     "name": "stdout",
     "output_type": "stream",
     "text": [
      "              precision    recall  f1-score   support\n",
      "\n",
      "           0       0.55      0.79      0.65       392\n",
      "           1       0.55      0.28      0.37       356\n",
      "\n",
      "    accuracy                           0.55       748\n",
      "   macro avg       0.55      0.54      0.51       748\n",
      "weighted avg       0.55      0.55      0.52       748\n",
      "\n"
     ]
    }
   ],
   "source": [
    "print(classification_report(small_y_true, small_y_pred))"
   ]
  },
  {
   "cell_type": "code",
   "execution_count": 45,
   "id": "75f654dd-e1e7-43e8-a929-8b642511e708",
   "metadata": {},
   "outputs": [
    {
     "name": "stdout",
     "output_type": "stream",
     "text": [
      "              precision    recall  f1-score   support\n",
      "\n",
      "           0       0.80      0.80      0.80      1930\n",
      "           1       0.46      0.46      0.46       733\n",
      "\n",
      "    accuracy                           0.70      2663\n",
      "   macro avg       0.63      0.63      0.63      2663\n",
      "weighted avg       0.70      0.70      0.70      2663\n",
      "\n"
     ]
    }
   ],
   "source": [
    "print(classification_report(large_y_true, large_y_pred))"
   ]
  },
  {
   "cell_type": "code",
   "execution_count": 345,
   "id": "24aa633e-009a-423a-bfd4-5a2ee194ef91",
   "metadata": {
    "scrolled": true
   },
   "outputs": [
    {
     "name": "stdout",
     "output_type": "stream",
     "text": [
      "15\n",
      "25\n",
      "8\n",
      "25\n",
      "19\n",
      "22\n",
      "10\n",
      "16\n",
      "16\n",
      "10\n",
      "20\n",
      "16\n",
      "15\n",
      "25\n",
      "0\n",
      "10\n",
      "15\n",
      "25\n",
      "16\n",
      "15\n",
      "16\n",
      "20\n",
      "8\n",
      "8\n",
      "12\n",
      "15\n",
      "10\n",
      "16\n",
      "16\n",
      "25\n",
      "22\n",
      "10\n",
      "10\n",
      "8\n",
      "25\n",
      "25\n",
      "22\n",
      "12\n",
      "0\n",
      "15\n",
      "16\n",
      "12\n",
      "0\n",
      "15\n",
      "25\n",
      "28\n",
      "25\n",
      "15\n",
      "23\n",
      "16\n",
      "25\n",
      "0\n",
      "0\n",
      "8\n",
      "8\n",
      "12\n",
      "12\n",
      "15\n",
      "16\n",
      "12\n",
      "25\n",
      "15\n",
      "15\n",
      "15\n",
      "16\n",
      "10\n",
      "10\n",
      "15\n",
      "10\n",
      "0\n",
      "15\n",
      "23\n",
      "25\n",
      "0\n",
      "15\n",
      "15\n",
      "23\n",
      "12\n",
      "25\n",
      "15\n",
      "16\n",
      "15\n",
      "25\n",
      "12\n",
      "12\n",
      "16\n",
      "16\n",
      "15\n",
      "25\n",
      "10\n",
      "12\n",
      "15\n",
      "16\n",
      "16\n",
      "12\n",
      "25\n",
      "15\n",
      "25\n",
      "8\n",
      "8\n",
      "12\n",
      "12\n",
      "28\n",
      "15\n",
      "15\n",
      "15\n",
      "10\n",
      "12\n",
      "12\n",
      "15\n",
      "0\n",
      "12\n",
      "15\n",
      "12\n",
      "10\n",
      "8\n",
      "16\n",
      "16\n",
      "25\n",
      "22.5\n",
      "15\n",
      "12\n",
      "8\n",
      "15\n",
      "10\n",
      "25\n",
      "25\n",
      "25\n",
      "25\n",
      "15\n",
      "10\n",
      "16\n",
      "16\n",
      "15\n",
      "8\n",
      "0\n",
      "25\n",
      "25\n",
      "15\n",
      "8\n",
      "22\n",
      "15\n",
      "12\n",
      "10\n",
      "15\n",
      "10\n",
      "16\n",
      "25\n",
      "25\n",
      "15\n",
      "25\n",
      "10\n",
      "15\n",
      "10\n",
      "10\n",
      "16\n",
      "1\n",
      "25\n",
      "15\n",
      "25\n",
      "0\n",
      "25\n",
      "16\n",
      "8\n",
      "15\n",
      "25\n",
      "12\n",
      "13\n",
      "12\n",
      "15\n",
      "10\n",
      "25\n",
      "10\n",
      "25\n",
      "25\n",
      "0\n",
      "16\n",
      "15\n",
      "25\n",
      "16\n",
      "25\n",
      "15\n",
      "25\n",
      "16\n",
      "15\n",
      "23\n",
      "10\n",
      "25\n",
      "22.3\n",
      "22\n",
      "15\n",
      "15\n",
      "15\n",
      "25\n",
      "10\n",
      "25\n",
      "22\n",
      "25\n",
      "25\n",
      "15\n",
      "12\n",
      "25\n",
      "10\n",
      "10\n",
      "23\n",
      "16\n",
      "10\n",
      "20\n",
      "12\n",
      "12\n",
      "15\n",
      "25\n",
      "15\n",
      "12\n",
      "25\n",
      "8\n"
     ]
    }
   ],
   "source": [
    "for i in df_processed['cohere_resp'].values:\n",
    "    if float(i)<30:\n",
    "        print(i)"
   ]
  }
 ],
 "metadata": {
  "kernelspec": {
   "display_name": "Python 3 (ipykernel)",
   "language": "python",
   "name": "python3"
  },
  "language_info": {
   "codemirror_mode": {
    "name": "ipython",
    "version": 3
   },
   "file_extension": ".py",
   "mimetype": "text/x-python",
   "name": "python",
   "nbconvert_exporter": "python",
   "pygments_lexer": "ipython3",
   "version": "3.11.5"
  }
 },
 "nbformat": 4,
 "nbformat_minor": 5
}
