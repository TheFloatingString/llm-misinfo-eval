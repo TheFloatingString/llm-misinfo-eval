{
 "cells": [
  {
   "cell_type": "code",
   "execution_count": 1,
   "id": "e0edcb86-1ee7-45ff-b4bf-9dcfc6d22ce0",
   "metadata": {},
   "outputs": [],
   "source": [
    "import pandas as pd\n",
    "import numpy as np"
   ]
  },
  {
   "cell_type": "code",
   "execution_count": 2,
   "id": "c63aaaf8-b4d5-48b6-97b2-24aaaaf0c585",
   "metadata": {},
   "outputs": [],
   "source": [
    "df_results0 = pd.read_csv(r\"../data/naacl-woah-results/sample_500_run_gemini_naacl.csv\", delimiter=\",\", on_bad_lines=\"skip\")"
   ]
  },
  {
   "cell_type": "code",
   "execution_count": 3,
   "id": "f086a42d-0232-4287-98b1-f980cb3e4391",
   "metadata": {},
   "outputs": [
    {
     "data": {
      "text/html": [
       "<div>\n",
       "<style scoped>\n",
       "    .dataframe tbody tr th:only-of-type {\n",
       "        vertical-align: middle;\n",
       "    }\n",
       "\n",
       "    .dataframe tbody tr th {\n",
       "        vertical-align: top;\n",
       "    }\n",
       "\n",
       "    .dataframe thead th {\n",
       "        text-align: right;\n",
       "    }\n",
       "</style>\n",
       "<table border=\"1\" class=\"dataframe\">\n",
       "  <thead>\n",
       "    <tr style=\"text-align: right;\">\n",
       "      <th></th>\n",
       "      <th>original_id</th>\n",
       "      <th>original_input</th>\n",
       "      <th>label</th>\n",
       "      <th>gemini_resp</th>\n",
       "      <th>language</th>\n",
       "      <th>task</th>\n",
       "    </tr>\n",
       "  </thead>\n",
       "  <tbody>\n",
       "    <tr>\n",
       "      <th>0</th>\n",
       "      <td>2619</td>\n",
       "      <td>რაც \"ნაციონალურმა მოძრაობამ\" 8 წელიწადში აჭარა...</td>\n",
       "      <td>true</td>\n",
       "      <td>50</td>\n",
       "      <td>ka</td>\n",
       "      <td>gemini-zero-shot-100-threshold</td>\n",
       "    </tr>\n",
       "    <tr>\n",
       "      <th>1</th>\n",
       "      <td>456</td>\n",
       "      <td>Przez ostatni rok bezrobocie osiągnęło w Niemc...</td>\n",
       "      <td>true</td>\n",
       "      <td>80</td>\n",
       "      <td>pl</td>\n",
       "      <td>gemini-zero-shot-100-threshold</td>\n",
       "    </tr>\n",
       "    <tr>\n",
       "      <th>2</th>\n",
       "      <td>102</td>\n",
       "      <td>Os estados onde você teve a maior piora no nív...</td>\n",
       "      <td>false</td>\n",
       "      <td>50</td>\n",
       "      <td>pt</td>\n",
       "      <td>gemini-zero-shot-100-threshold</td>\n",
       "    </tr>\n",
       "    <tr>\n",
       "      <th>3</th>\n",
       "      <td>3037</td>\n",
       "      <td>Foto Unjuk Rasa Driver Go-Jek Hasil Suntingan</td>\n",
       "      <td>partly true/misleading</td>\n",
       "      <td>100</td>\n",
       "      <td>id</td>\n",
       "      <td>gemini-zero-shot-100-threshold</td>\n",
       "    </tr>\n",
       "    <tr>\n",
       "      <th>4</th>\n",
       "      <td>1126</td>\n",
       "      <td>Orientações de prevenção ao corona vírus (sic)...</td>\n",
       "      <td>false</td>\n",
       "      <td>0</td>\n",
       "      <td>pt</td>\n",
       "      <td>gemini-zero-shot-100-threshold</td>\n",
       "    </tr>\n",
       "  </tbody>\n",
       "</table>\n",
       "</div>"
      ],
      "text/plain": [
       "   original_id                                     original_input  \\\n",
       "0         2619  რაც \"ნაციონალურმა მოძრაობამ\" 8 წელიწადში აჭარა...   \n",
       "1          456  Przez ostatni rok bezrobocie osiągnęło w Niemc...   \n",
       "2          102  Os estados onde você teve a maior piora no nív...   \n",
       "3         3037      Foto Unjuk Rasa Driver Go-Jek Hasil Suntingan   \n",
       "4         1126  Orientações de prevenção ao corona vírus (sic)...   \n",
       "\n",
       "                    label gemini_resp language                            task  \n",
       "0                    true          50       ka  gemini-zero-shot-100-threshold  \n",
       "1                    true          80       pl  gemini-zero-shot-100-threshold  \n",
       "2                   false          50       pt  gemini-zero-shot-100-threshold  \n",
       "3  partly true/misleading         100       id  gemini-zero-shot-100-threshold  \n",
       "4                   false           0       pt  gemini-zero-shot-100-threshold  "
      ]
     },
     "execution_count": 3,
     "metadata": {},
     "output_type": "execute_result"
    }
   ],
   "source": [
    "df_results0.head()"
   ]
  },
  {
   "cell_type": "code",
   "execution_count": 4,
   "id": "3ec4f2d0-ffc8-40a7-9b28-01aa834e4de2",
   "metadata": {},
   "outputs": [],
   "source": [
    "#remove other and complicated labels \n",
    "# df_results0 = df_results0[~df_results0['label'].isin(['complicated/hard to categorise', 'other'])]\n"
   ]
  },
  {
   "cell_type": "code",
   "execution_count": 5,
   "id": "7b4e9942-0d4c-46a9-a0d2-1bb9a4cc0855",
   "metadata": {},
   "outputs": [
    {
     "data": {
      "text/plain": [
       "(499, 6)"
      ]
     },
     "execution_count": 5,
     "metadata": {},
     "output_type": "execute_result"
    }
   ],
   "source": [
    "df_results0.shape"
   ]
  },
  {
   "cell_type": "code",
   "execution_count": 6,
   "id": "90f74177-c5d0-446b-9708-778b3e42660c",
   "metadata": {},
   "outputs": [
    {
     "data": {
      "text/plain": [
       "simple_truth\n",
       "0    306\n",
       "1    193\n",
       "Name: count, dtype: int64"
      ]
     },
     "execution_count": 6,
     "metadata": {},
     "output_type": "execute_result"
    }
   ],
   "source": [
    "def simplify_truth(row):\n",
    "    if row['label'] in ['false', 'mostly false', 'partly true/misleading']: #TODO: tune these\n",
    "        return 0\n",
    "    else:\n",
    "        return 1\n",
    "\n",
    "    \n",
    "    # if row['label']=='true':\n",
    "    #     return 1\n",
    "    # else: return 0\n",
    "    # # if row['label'] in ['false', 'mostly false', 'partly true/misleading']: #TODO: tune these\n",
    "    # #     return 'false'\n",
    "    # # else:\n",
    "    # #     return 'true'\n",
    "    \n",
    "\n",
    "df_results0['simple_truth'] = df_results0.apply(simplify_truth, axis=1)\n",
    "\n",
    "df_results0[\"simple_truth\"].value_counts() #much more false than true"
   ]
  },
  {
   "cell_type": "code",
   "execution_count": 8,
   "id": "b36f614d-67cf-4166-8bac-939a3b3cbbba",
   "metadata": {},
   "outputs": [],
   "source": [
    "def cohere_tv(row):\n",
    "    resp = row['gemini_resp']\n",
    "    try:\n",
    "        resp = float(resp)\n",
    "    except ValueError:\n",
    "        return \"unknown\"\n",
    "    \n",
    "    if resp > 50: #TODO: tune this value?\n",
    "        return 1\n",
    "    \n",
    "    else:\n",
    "        return 0\n",
    "    \n",
    "\n",
    "df_results0['gemini_simple'] = df_results0.apply(cohere_tv, axis=1)\n",
    "# print(df_results0.shape)\n",
    "df_processed = df_results0.copy().drop(df_results0[(df_results0.gemini_simple != 0) & (df_results0.gemini_simple != 1)].index)\n",
    "df_processed = df_processed.drop(df_processed[df_processed.label.isin(['complicated/hard to categorise', 'other', np.nan])].index)\n",
    "df_processed = df_processed.reset_index()"
   ]
  },
  {
   "cell_type": "code",
   "execution_count": 9,
   "id": "69c859ed-1ddf-4a5f-9372-c29f0930f913",
   "metadata": {},
   "outputs": [
    {
     "data": {
      "text/html": [
       "<div>\n",
       "<style scoped>\n",
       "    .dataframe tbody tr th:only-of-type {\n",
       "        vertical-align: middle;\n",
       "    }\n",
       "\n",
       "    .dataframe tbody tr th {\n",
       "        vertical-align: top;\n",
       "    }\n",
       "\n",
       "    .dataframe thead th {\n",
       "        text-align: right;\n",
       "    }\n",
       "</style>\n",
       "<table border=\"1\" class=\"dataframe\">\n",
       "  <thead>\n",
       "    <tr style=\"text-align: right;\">\n",
       "      <th></th>\n",
       "      <th>index</th>\n",
       "      <th>original_id</th>\n",
       "      <th>original_input</th>\n",
       "      <th>label</th>\n",
       "      <th>gemini_resp</th>\n",
       "      <th>language</th>\n",
       "      <th>task</th>\n",
       "      <th>simple_truth</th>\n",
       "      <th>gemini_simple</th>\n",
       "    </tr>\n",
       "  </thead>\n",
       "  <tbody>\n",
       "    <tr>\n",
       "      <th>0</th>\n",
       "      <td>0</td>\n",
       "      <td>2619</td>\n",
       "      <td>რაც \"ნაციონალურმა მოძრაობამ\" 8 წელიწადში აჭარა...</td>\n",
       "      <td>true</td>\n",
       "      <td>50</td>\n",
       "      <td>ka</td>\n",
       "      <td>gemini-zero-shot-100-threshold</td>\n",
       "      <td>1</td>\n",
       "      <td>0</td>\n",
       "    </tr>\n",
       "    <tr>\n",
       "      <th>1</th>\n",
       "      <td>1</td>\n",
       "      <td>456</td>\n",
       "      <td>Przez ostatni rok bezrobocie osiągnęło w Niemc...</td>\n",
       "      <td>true</td>\n",
       "      <td>80</td>\n",
       "      <td>pl</td>\n",
       "      <td>gemini-zero-shot-100-threshold</td>\n",
       "      <td>1</td>\n",
       "      <td>1</td>\n",
       "    </tr>\n",
       "    <tr>\n",
       "      <th>2</th>\n",
       "      <td>2</td>\n",
       "      <td>102</td>\n",
       "      <td>Os estados onde você teve a maior piora no nív...</td>\n",
       "      <td>false</td>\n",
       "      <td>50</td>\n",
       "      <td>pt</td>\n",
       "      <td>gemini-zero-shot-100-threshold</td>\n",
       "      <td>0</td>\n",
       "      <td>0</td>\n",
       "    </tr>\n",
       "    <tr>\n",
       "      <th>3</th>\n",
       "      <td>3</td>\n",
       "      <td>3037</td>\n",
       "      <td>Foto Unjuk Rasa Driver Go-Jek Hasil Suntingan</td>\n",
       "      <td>partly true/misleading</td>\n",
       "      <td>100</td>\n",
       "      <td>id</td>\n",
       "      <td>gemini-zero-shot-100-threshold</td>\n",
       "      <td>0</td>\n",
       "      <td>1</td>\n",
       "    </tr>\n",
       "    <tr>\n",
       "      <th>4</th>\n",
       "      <td>4</td>\n",
       "      <td>1126</td>\n",
       "      <td>Orientações de prevenção ao corona vírus (sic)...</td>\n",
       "      <td>false</td>\n",
       "      <td>0</td>\n",
       "      <td>pt</td>\n",
       "      <td>gemini-zero-shot-100-threshold</td>\n",
       "      <td>0</td>\n",
       "      <td>0</td>\n",
       "    </tr>\n",
       "  </tbody>\n",
       "</table>\n",
       "</div>"
      ],
      "text/plain": [
       "   index  original_id                                     original_input  \\\n",
       "0      0         2619  რაც \"ნაციონალურმა მოძრაობამ\" 8 წელიწადში აჭარა...   \n",
       "1      1          456  Przez ostatni rok bezrobocie osiągnęło w Niemc...   \n",
       "2      2          102  Os estados onde você teve a maior piora no nív...   \n",
       "3      3         3037      Foto Unjuk Rasa Driver Go-Jek Hasil Suntingan   \n",
       "4      4         1126  Orientações de prevenção ao corona vírus (sic)...   \n",
       "\n",
       "                    label gemini_resp language  \\\n",
       "0                    true          50       ka   \n",
       "1                    true          80       pl   \n",
       "2                   false          50       pt   \n",
       "3  partly true/misleading         100       id   \n",
       "4                   false           0       pt   \n",
       "\n",
       "                             task  simple_truth gemini_simple  \n",
       "0  gemini-zero-shot-100-threshold             1             0  \n",
       "1  gemini-zero-shot-100-threshold             1             1  \n",
       "2  gemini-zero-shot-100-threshold             0             0  \n",
       "3  gemini-zero-shot-100-threshold             0             1  \n",
       "4  gemini-zero-shot-100-threshold             0             0  "
      ]
     },
     "execution_count": 9,
     "metadata": {},
     "output_type": "execute_result"
    }
   ],
   "source": [
    "df_processed.head()"
   ]
  },
  {
   "cell_type": "code",
   "execution_count": 10,
   "id": "c7bdf4c1-3311-403a-9a49-84ea95003ff8",
   "metadata": {},
   "outputs": [
    {
     "data": {
      "text/plain": [
       "(468,)"
      ]
     },
     "execution_count": 10,
     "metadata": {},
     "output_type": "execute_result"
    }
   ],
   "source": [
    "df_processed['simple_truth'].values.shape"
   ]
  },
  {
   "cell_type": "code",
   "execution_count": 11,
   "id": "1e930436-ca7a-4051-979f-7cc1bb4a04c5",
   "metadata": {},
   "outputs": [],
   "source": [
    "from sklearn.metrics import classification_report"
   ]
  },
  {
   "cell_type": "markdown",
   "id": "de797ab6-9ee3-4e28-a438-919254067ba5",
   "metadata": {},
   "source": [
    "### Overall Performance"
   ]
  },
  {
   "cell_type": "code",
   "execution_count": 13,
   "id": "f8c173a5-659d-4499-930c-4107d9beeb52",
   "metadata": {},
   "outputs": [
    {
     "name": "stdout",
     "output_type": "stream",
     "text": [
      "              precision    recall  f1-score   support\n",
      "\n",
      "           0       0.75      0.64      0.69       305\n",
      "           1       0.47      0.60      0.53       163\n",
      "\n",
      "    accuracy                           0.62       468\n",
      "   macro avg       0.61      0.62      0.61       468\n",
      "weighted avg       0.65      0.62      0.63       468\n",
      "\n"
     ]
    }
   ],
   "source": [
    "print(classification_report(df_processed['simple_truth'].values.tolist(), df_processed['gemini_simple'].values.tolist()))"
   ]
  },
  {
   "cell_type": "code",
   "execution_count": 14,
   "id": "44b0047c-3855-4702-8c28-d9b018128d11",
   "metadata": {},
   "outputs": [],
   "source": [
    "def euro_or_not(lang):\n",
    "    if lang in [\"de\", \"es\", \"fr\", \"it\", \"no\", \"nl\", \"pl\", \"pt\", \"ro\", \"ru\", \"sr\", \"sq\"]: #german, spanish, french, italian, norwegian, dutch, polish\n",
    "        return True\n",
    "    else: #ar - arabic; az - azerbaijani; bn - bengali; fa - farsi; gu - gujarati; hi - hindi; id - indonesian\n",
    "        #ka - georgian; mr - marathi; pa - punjabi; si - sinhala; ta - tamil; tr - turkish\n",
    "        return False"
   ]
  },
  {
   "cell_type": "code",
   "execution_count": 15,
   "id": "a0f6e39c-6940-441d-be47-d78d2e717735",
   "metadata": {},
   "outputs": [],
   "source": [
    "def conservative_true(label):\n",
    "    if label in ['false', 'mostly false', 'partly true/misleading']: #TODO: tune these\n",
    "        return 0\n",
    "    else:\n",
    "        return 1"
   ]
  },
  {
   "cell_type": "code",
   "execution_count": 16,
   "id": "d3d8aab5-a7c5-4a9b-8801-4841fa22bbee",
   "metadata": {},
   "outputs": [
    {
     "data": {
      "text/plain": [
       "(468, 9)"
      ]
     },
     "execution_count": 16,
     "metadata": {},
     "output_type": "execute_result"
    }
   ],
   "source": [
    "df_processed.shape"
   ]
  },
  {
   "cell_type": "code",
   "execution_count": 18,
   "id": "201fc727-4520-488e-bcae-88d379e95902",
   "metadata": {},
   "outputs": [],
   "source": [
    "euro_y_true = []\n",
    "euro_y_pred = []\n",
    "non_euro_y_true = []\n",
    "non_euro_y_pred = []\n",
    "for i, rows in df_processed.iterrows():\n",
    "    # print('hi')\n",
    "    # print(i)\n",
    "    # break\n",
    "    # init_index = df_processed['index'][i]\n",
    "    # if df_processed['label'][i]!=df_processed['label'][init_index]:\n",
    "    #     pass\n",
    "    #     # print(i, init_index)\n",
    "    if euro_or_not(df_processed['language'][i]):\n",
    "        euro_y_true.append(conservative_true(df_processed['label'][i]))\n",
    "        euro_y_pred.append(df_processed['gemini_simple'][i])\n",
    "    else:\n",
    "        non_euro_y_true.append(conservative_true(df_processed['label'][i]))\n",
    "        non_euro_y_pred.append(df_processed['gemini_simple'][i])"
   ]
  },
  {
   "cell_type": "markdown",
   "id": "b411f9f8-57fa-4c17-8b69-78a91fca9076",
   "metadata": {},
   "source": [
    "### Non-European vs European"
   ]
  },
  {
   "cell_type": "code",
   "execution_count": 19,
   "id": "a596b820-935f-45a6-a3d7-7ffb6c1d8624",
   "metadata": {},
   "outputs": [
    {
     "name": "stdout",
     "output_type": "stream",
     "text": [
      "              precision    recall  f1-score   support\n",
      "\n",
      "           0       0.68      0.64      0.66       144\n",
      "           1       0.56      0.61      0.59       110\n",
      "\n",
      "    accuracy                           0.63       254\n",
      "   macro avg       0.62      0.62      0.62       254\n",
      "weighted avg       0.63      0.63      0.63       254\n",
      "\n"
     ]
    }
   ],
   "source": [
    "print(classification_report(euro_y_true, euro_y_pred))"
   ]
  },
  {
   "cell_type": "code",
   "execution_count": 20,
   "id": "a3b5463c-95f4-4d75-8b0f-97d6be0c5ea3",
   "metadata": {},
   "outputs": [
    {
     "name": "stdout",
     "output_type": "stream",
     "text": [
      "              precision    recall  f1-score   support\n",
      "\n",
      "           0       0.82      0.63      0.72       161\n",
      "           1       0.34      0.58      0.43        53\n",
      "\n",
      "    accuracy                           0.62       214\n",
      "   macro avg       0.58      0.61      0.57       214\n",
      "weighted avg       0.70      0.62      0.65       214\n",
      "\n"
     ]
    }
   ],
   "source": [
    "print(classification_report(non_euro_y_true, non_euro_y_pred))"
   ]
  },
  {
   "cell_type": "markdown",
   "id": "c2c6aea5-0d25-461a-bd91-1aaa96b5efdc",
   "metadata": {},
   "source": [
    "### Western vs Non-Western"
   ]
  },
  {
   "cell_type": "code",
   "execution_count": 21,
   "id": "0680ae08-b9cc-433c-8fc8-57514994402f",
   "metadata": {},
   "outputs": [],
   "source": [
    "def western(lang):\n",
    "    if lang in [\"de\", \"es\", \"fr\", \"it\", \"nl\", \"no\", \"pt\"]:\n",
    "        return True\n",
    "    else:\n",
    "        return False"
   ]
  },
  {
   "cell_type": "code",
   "execution_count": 23,
   "id": "f7200d16-60d2-48ce-8584-7e587cf09d18",
   "metadata": {},
   "outputs": [],
   "source": [
    "western_y_true = []\n",
    "western_y_pred = []\n",
    "non_western_y_true = []\n",
    "non_western_y_pred = []\n",
    "for i in range(df_processed.shape[0]):\n",
    "    if western(df_processed['language'][i]):\n",
    "        western_y_true.append(conservative_true(df_processed['label'][i]))\n",
    "        western_y_pred.append(df_processed['gemini_simple'][i])\n",
    "    else:\n",
    "        non_western_y_true.append(conservative_true(df_processed['label'][i]))\n",
    "        non_western_y_pred.append(df_processed['gemini_simple'][i])"
   ]
  },
  {
   "cell_type": "code",
   "execution_count": 24,
   "id": "56d8875b-97ed-48b1-a98c-b5edf7b54990",
   "metadata": {},
   "outputs": [
    {
     "name": "stdout",
     "output_type": "stream",
     "text": [
      "              precision    recall  f1-score   support\n",
      "\n",
      "           0       0.68      0.65      0.67       107\n",
      "           1       0.54      0.57      0.55        76\n",
      "\n",
      "    accuracy                           0.62       183\n",
      "   macro avg       0.61      0.61      0.61       183\n",
      "weighted avg       0.62      0.62      0.62       183\n",
      "\n"
     ]
    }
   ],
   "source": [
    "print(classification_report(western_y_true, western_y_pred))"
   ]
  },
  {
   "cell_type": "code",
   "execution_count": 25,
   "id": "6ff51b92-d5a3-4e53-8e79-20bcde71fbb5",
   "metadata": {},
   "outputs": [
    {
     "name": "stdout",
     "output_type": "stream",
     "text": [
      "              precision    recall  f1-score   support\n",
      "\n",
      "           0       0.79      0.63      0.70       198\n",
      "           1       0.43      0.63      0.51        87\n",
      "\n",
      "    accuracy                           0.63       285\n",
      "   macro avg       0.61      0.63      0.60       285\n",
      "weighted avg       0.68      0.63      0.64       285\n",
      "\n"
     ]
    }
   ],
   "source": [
    "print(classification_report(non_western_y_true, non_western_y_pred))"
   ]
  },
  {
   "cell_type": "markdown",
   "id": "cb6fb361-f09e-46d0-b311-59d015d0aeaa",
   "metadata": {},
   "source": [
    "### Small vs Large"
   ]
  },
  {
   "cell_type": "code",
   "execution_count": 26,
   "id": "507d79e6-b24b-4926-8f7a-119217b6f31c",
   "metadata": {},
   "outputs": [],
   "source": [
    "def small(lang):\n",
    "    if lang in [\"no\", \"nl\", \"pl\", \"ro\", \"sr\", \"sq\", \"az\", \"ka\", \"si\"]:\n",
    "        return True\n",
    "    else: return False"
   ]
  },
  {
   "cell_type": "code",
   "execution_count": 27,
   "id": "3615a97e-1742-453e-8cdd-d1ebb3043e0a",
   "metadata": {},
   "outputs": [],
   "source": [
    "small_y_true = []\n",
    "small_y_pred = []\n",
    "large_y_true = []\n",
    "large_y_pred = []\n",
    "for i in range(df_processed.shape[0]):\n",
    "    if small(df_processed['language'][i]):\n",
    "        small_y_true.append(conservative_true(df_processed['label'][i]))\n",
    "        small_y_pred.append(df_processed['gemini_simple'][i])\n",
    "    else:\n",
    "        large_y_true.append(conservative_true(df_processed['label'][i]))\n",
    "        large_y_pred.append(df_processed['gemini_simple'][i])"
   ]
  },
  {
   "cell_type": "code",
   "execution_count": 28,
   "id": "d5d191b3-246e-48ec-9e76-837454d8cfb5",
   "metadata": {},
   "outputs": [
    {
     "name": "stdout",
     "output_type": "stream",
     "text": [
      "              precision    recall  f1-score   support\n",
      "\n",
      "           0       0.62      0.61      0.62        59\n",
      "           1       0.61      0.62      0.62        58\n",
      "\n",
      "    accuracy                           0.62       117\n",
      "   macro avg       0.62      0.62      0.62       117\n",
      "weighted avg       0.62      0.62      0.62       117\n",
      "\n"
     ]
    }
   ],
   "source": [
    "print(classification_report(small_y_true, small_y_pred))"
   ]
  },
  {
   "cell_type": "code",
   "execution_count": 29,
   "id": "75f654dd-e1e7-43e8-a929-8b642511e708",
   "metadata": {},
   "outputs": [
    {
     "name": "stdout",
     "output_type": "stream",
     "text": [
      "              precision    recall  f1-score   support\n",
      "\n",
      "           0       0.79      0.64      0.71       246\n",
      "           1       0.41      0.59      0.49       105\n",
      "\n",
      "    accuracy                           0.63       351\n",
      "   macro avg       0.60      0.62      0.60       351\n",
      "weighted avg       0.67      0.63      0.64       351\n",
      "\n"
     ]
    }
   ],
   "source": [
    "print(classification_report(large_y_true, large_y_pred))"
   ]
  },
  {
   "cell_type": "code",
   "execution_count": 345,
   "id": "24aa633e-009a-423a-bfd4-5a2ee194ef91",
   "metadata": {
    "scrolled": true
   },
   "outputs": [
    {
     "name": "stdout",
     "output_type": "stream",
     "text": [
      "15\n",
      "25\n",
      "8\n",
      "25\n",
      "19\n",
      "22\n",
      "10\n",
      "16\n",
      "16\n",
      "10\n",
      "20\n",
      "16\n",
      "15\n",
      "25\n",
      "0\n",
      "10\n",
      "15\n",
      "25\n",
      "16\n",
      "15\n",
      "16\n",
      "20\n",
      "8\n",
      "8\n",
      "12\n",
      "15\n",
      "10\n",
      "16\n",
      "16\n",
      "25\n",
      "22\n",
      "10\n",
      "10\n",
      "8\n",
      "25\n",
      "25\n",
      "22\n",
      "12\n",
      "0\n",
      "15\n",
      "16\n",
      "12\n",
      "0\n",
      "15\n",
      "25\n",
      "28\n",
      "25\n",
      "15\n",
      "23\n",
      "16\n",
      "25\n",
      "0\n",
      "0\n",
      "8\n",
      "8\n",
      "12\n",
      "12\n",
      "15\n",
      "16\n",
      "12\n",
      "25\n",
      "15\n",
      "15\n",
      "15\n",
      "16\n",
      "10\n",
      "10\n",
      "15\n",
      "10\n",
      "0\n",
      "15\n",
      "23\n",
      "25\n",
      "0\n",
      "15\n",
      "15\n",
      "23\n",
      "12\n",
      "25\n",
      "15\n",
      "16\n",
      "15\n",
      "25\n",
      "12\n",
      "12\n",
      "16\n",
      "16\n",
      "15\n",
      "25\n",
      "10\n",
      "12\n",
      "15\n",
      "16\n",
      "16\n",
      "12\n",
      "25\n",
      "15\n",
      "25\n",
      "8\n",
      "8\n",
      "12\n",
      "12\n",
      "28\n",
      "15\n",
      "15\n",
      "15\n",
      "10\n",
      "12\n",
      "12\n",
      "15\n",
      "0\n",
      "12\n",
      "15\n",
      "12\n",
      "10\n",
      "8\n",
      "16\n",
      "16\n",
      "25\n",
      "22.5\n",
      "15\n",
      "12\n",
      "8\n",
      "15\n",
      "10\n",
      "25\n",
      "25\n",
      "25\n",
      "25\n",
      "15\n",
      "10\n",
      "16\n",
      "16\n",
      "15\n",
      "8\n",
      "0\n",
      "25\n",
      "25\n",
      "15\n",
      "8\n",
      "22\n",
      "15\n",
      "12\n",
      "10\n",
      "15\n",
      "10\n",
      "16\n",
      "25\n",
      "25\n",
      "15\n",
      "25\n",
      "10\n",
      "15\n",
      "10\n",
      "10\n",
      "16\n",
      "1\n",
      "25\n",
      "15\n",
      "25\n",
      "0\n",
      "25\n",
      "16\n",
      "8\n",
      "15\n",
      "25\n",
      "12\n",
      "13\n",
      "12\n",
      "15\n",
      "10\n",
      "25\n",
      "10\n",
      "25\n",
      "25\n",
      "0\n",
      "16\n",
      "15\n",
      "25\n",
      "16\n",
      "25\n",
      "15\n",
      "25\n",
      "16\n",
      "15\n",
      "23\n",
      "10\n",
      "25\n",
      "22.3\n",
      "22\n",
      "15\n",
      "15\n",
      "15\n",
      "25\n",
      "10\n",
      "25\n",
      "22\n",
      "25\n",
      "25\n",
      "15\n",
      "12\n",
      "25\n",
      "10\n",
      "10\n",
      "23\n",
      "16\n",
      "10\n",
      "20\n",
      "12\n",
      "12\n",
      "15\n",
      "25\n",
      "15\n",
      "12\n",
      "25\n",
      "8\n"
     ]
    }
   ],
   "source": [
    "for i in df_processed['cohere_resp'].values:\n",
    "    if float(i)<30:\n",
    "        print(i)"
   ]
  },
  {
   "cell_type": "code",
   "execution_count": 34,
   "id": "2fc224c9-39f2-4aaf-82f2-edc674fa6147",
   "metadata": {},
   "outputs": [
    {
     "data": {
      "image/png": "[encoded data removed]",
      "text/plain": [
       "<Figure size 640x480 with 1 Axes>"
      ]
     },
     "metadata": {},
     "output_type": "display_data"
    }
   ],
   "source": [
    "import matplotlib.pyplot as plt\n",
    "plt.hist(df_processed['gemini_resp'].map(float).values,bins=20)\n",
    "plt.xlim(0,100)\n",
    "plt.title(\"Gemini Truthfulness Score Distribution\")\n",
    "plt.xlim(0,100)\n",
    "plt.ylabel(\"Frequency\")\n",
    "plt.xlabel(\"Truthfulness Score\")\n",
    "plt.show()"
   ]
  }
 ],
 "metadata": {
  "kernelspec": {
   "display_name": "Python 3 (ipykernel)",
   "language": "python",
   "name": "python3"
  },
  "language_info": {
   "codemirror_mode": {
    "name": "ipython",
    "version": 3
   },
   "file_extension": ".py",
   "mimetype": "text/x-python",
   "name": "python",
   "nbconvert_exporter": "python",
   "pygments_lexer": "ipython3",
   "version": "3.11.4"
  }
 },
 "nbformat": 4,
 "nbformat_minor": 5
}
