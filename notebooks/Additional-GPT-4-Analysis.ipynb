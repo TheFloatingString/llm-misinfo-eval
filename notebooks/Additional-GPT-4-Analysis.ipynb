{
 "cells": [
  {
   "cell_type": "code",
   "execution_count": 1,
   "id": "b8afaae6-b465-4bf9-b71a-01d58565f23d",
   "metadata": {},
   "outputs": [],
   "source": [
    "import json\n",
    "with open('prompt1.json', 'r') as file:\n",
    "    openai_resp = json.load(file)"
   ]
  },
  {
   "cell_type": "code",
   "execution_count": 22,
   "id": "032d61a9-fc38-4af8-ae6d-4c2c0a2c785f",
   "metadata": {},
   "outputs": [],
   "source": [
    "import pandas as pd\n",
    "openai_resp=pd.DataFrame(openai_resp)"
   ]
  },
  {
   "cell_type": "code",
   "execution_count": 23,
   "id": "cb2dbec1-4d9d-45bc-9a2d-d3b99873c6ca",
   "metadata": {},
   "outputs": [
    {
     "data": {
      "text/html": [
       "<div>\n",
       "<style scoped>\n",
       "    .dataframe tbody tr th:only-of-type {\n",
       "        vertical-align: middle;\n",
       "    }\n",
       "\n",
       "    .dataframe tbody tr th {\n",
       "        vertical-align: top;\n",
       "    }\n",
       "\n",
       "    .dataframe thead th {\n",
       "        text-align: right;\n",
       "    }\n",
       "</style>\n",
       "<table border=\"1\" class=\"dataframe\">\n",
       "  <thead>\n",
       "    <tr style=\"text-align: right;\">\n",
       "      <th></th>\n",
       "      <th>openai_resp</th>\n",
       "      <th>index</th>\n",
       "      <th>label</th>\n",
       "      <th>language</th>\n",
       "    </tr>\n",
       "  </thead>\n",
       "  <tbody>\n",
       "    <tr>\n",
       "      <th>0</th>\n",
       "      <td>50</td>\n",
       "      <td>0</td>\n",
       "      <td>false</td>\n",
       "      <td>tr</td>\n",
       "    </tr>\n",
       "    <tr>\n",
       "      <th>1</th>\n",
       "      <td>50</td>\n",
       "      <td>1</td>\n",
       "      <td>partly true/misleading</td>\n",
       "      <td>ka</td>\n",
       "    </tr>\n",
       "    <tr>\n",
       "      <th>2</th>\n",
       "      <td>50</td>\n",
       "      <td>2</td>\n",
       "      <td>partly true/misleading</td>\n",
       "      <td>pt</td>\n",
       "    </tr>\n",
       "    <tr>\n",
       "      <th>3</th>\n",
       "      <td>50</td>\n",
       "      <td>3</td>\n",
       "      <td>true</td>\n",
       "      <td>ka</td>\n",
       "    </tr>\n",
       "    <tr>\n",
       "      <th>4</th>\n",
       "      <td>50</td>\n",
       "      <td>4</td>\n",
       "      <td>false</td>\n",
       "      <td>id</td>\n",
       "    </tr>\n",
       "    <tr>\n",
       "      <th>...</th>\n",
       "      <td>...</td>\n",
       "      <td>...</td>\n",
       "      <td>...</td>\n",
       "      <td>...</td>\n",
       "    </tr>\n",
       "    <tr>\n",
       "      <th>994</th>\n",
       "      <td>50</td>\n",
       "      <td>994</td>\n",
       "      <td>true</td>\n",
       "      <td>ro</td>\n",
       "    </tr>\n",
       "    <tr>\n",
       "      <th>995</th>\n",
       "      <td>85</td>\n",
       "      <td>995</td>\n",
       "      <td>partly true/misleading</td>\n",
       "      <td>ar</td>\n",
       "    </tr>\n",
       "    <tr>\n",
       "      <th>996</th>\n",
       "      <td>0</td>\n",
       "      <td>996</td>\n",
       "      <td>partly true/misleading</td>\n",
       "      <td>ta</td>\n",
       "    </tr>\n",
       "    <tr>\n",
       "      <th>997</th>\n",
       "      <td>50</td>\n",
       "      <td>997</td>\n",
       "      <td>false</td>\n",
       "      <td>pt</td>\n",
       "    </tr>\n",
       "    <tr>\n",
       "      <th>999</th>\n",
       "      <td>50</td>\n",
       "      <td>999</td>\n",
       "      <td>partly true/misleading</td>\n",
       "      <td>it</td>\n",
       "    </tr>\n",
       "  </tbody>\n",
       "</table>\n",
       "<p>962 rows × 4 columns</p>\n",
       "</div>"
      ],
      "text/plain": [
       "    openai_resp  index                   label language\n",
       "0            50      0                   false       tr\n",
       "1            50      1  partly true/misleading       ka\n",
       "2            50      2  partly true/misleading       pt\n",
       "3            50      3                    true       ka\n",
       "4            50      4                   false       id\n",
       "..          ...    ...                     ...      ...\n",
       "994          50    994                    true       ro\n",
       "995          85    995  partly true/misleading       ar\n",
       "996           0    996  partly true/misleading       ta\n",
       "997          50    997                   false       pt\n",
       "999          50    999  partly true/misleading       it\n",
       "\n",
       "[962 rows x 4 columns]"
      ]
     },
     "execution_count": 23,
     "metadata": {},
     "output_type": "execute_result"
    }
   ],
   "source": [
    "openai_resp"
   ]
  },
  {
   "cell_type": "code",
   "execution_count": 24,
   "id": "54b52104-c7a9-4853-96b5-d7b090e73cd0",
   "metadata": {},
   "outputs": [],
   "source": [
    "#remove other and complicated labels \n",
    "df_results0 = openai_resp[~openai_resp['label'].isin(['complicated/hard to categorise', 'other'])]\n"
   ]
  },
  {
   "cell_type": "code",
   "execution_count": 25,
   "id": "8a5c8b70-9fb6-477c-8052-53cf8d9a067b",
   "metadata": {},
   "outputs": [
    {
     "data": {
      "text/html": [
       "<div>\n",
       "<style scoped>\n",
       "    .dataframe tbody tr th:only-of-type {\n",
       "        vertical-align: middle;\n",
       "    }\n",
       "\n",
       "    .dataframe tbody tr th {\n",
       "        vertical-align: top;\n",
       "    }\n",
       "\n",
       "    .dataframe thead th {\n",
       "        text-align: right;\n",
       "    }\n",
       "</style>\n",
       "<table border=\"1\" class=\"dataframe\">\n",
       "  <thead>\n",
       "    <tr style=\"text-align: right;\">\n",
       "      <th></th>\n",
       "      <th>openai_resp</th>\n",
       "      <th>index</th>\n",
       "      <th>label</th>\n",
       "      <th>language</th>\n",
       "    </tr>\n",
       "  </thead>\n",
       "  <tbody>\n",
       "    <tr>\n",
       "      <th>0</th>\n",
       "      <td>50</td>\n",
       "      <td>0</td>\n",
       "      <td>false</td>\n",
       "      <td>tr</td>\n",
       "    </tr>\n",
       "    <tr>\n",
       "      <th>1</th>\n",
       "      <td>50</td>\n",
       "      <td>1</td>\n",
       "      <td>partly true/misleading</td>\n",
       "      <td>ka</td>\n",
       "    </tr>\n",
       "    <tr>\n",
       "      <th>2</th>\n",
       "      <td>50</td>\n",
       "      <td>2</td>\n",
       "      <td>partly true/misleading</td>\n",
       "      <td>pt</td>\n",
       "    </tr>\n",
       "    <tr>\n",
       "      <th>3</th>\n",
       "      <td>50</td>\n",
       "      <td>3</td>\n",
       "      <td>true</td>\n",
       "      <td>ka</td>\n",
       "    </tr>\n",
       "    <tr>\n",
       "      <th>4</th>\n",
       "      <td>50</td>\n",
       "      <td>4</td>\n",
       "      <td>false</td>\n",
       "      <td>id</td>\n",
       "    </tr>\n",
       "    <tr>\n",
       "      <th>...</th>\n",
       "      <td>...</td>\n",
       "      <td>...</td>\n",
       "      <td>...</td>\n",
       "      <td>...</td>\n",
       "    </tr>\n",
       "    <tr>\n",
       "      <th>994</th>\n",
       "      <td>50</td>\n",
       "      <td>994</td>\n",
       "      <td>true</td>\n",
       "      <td>ro</td>\n",
       "    </tr>\n",
       "    <tr>\n",
       "      <th>995</th>\n",
       "      <td>85</td>\n",
       "      <td>995</td>\n",
       "      <td>partly true/misleading</td>\n",
       "      <td>ar</td>\n",
       "    </tr>\n",
       "    <tr>\n",
       "      <th>996</th>\n",
       "      <td>0</td>\n",
       "      <td>996</td>\n",
       "      <td>partly true/misleading</td>\n",
       "      <td>ta</td>\n",
       "    </tr>\n",
       "    <tr>\n",
       "      <th>997</th>\n",
       "      <td>50</td>\n",
       "      <td>997</td>\n",
       "      <td>false</td>\n",
       "      <td>pt</td>\n",
       "    </tr>\n",
       "    <tr>\n",
       "      <th>999</th>\n",
       "      <td>50</td>\n",
       "      <td>999</td>\n",
       "      <td>partly true/misleading</td>\n",
       "      <td>it</td>\n",
       "    </tr>\n",
       "  </tbody>\n",
       "</table>\n",
       "<p>962 rows × 4 columns</p>\n",
       "</div>"
      ],
      "text/plain": [
       "    openai_resp  index                   label language\n",
       "0            50      0                   false       tr\n",
       "1            50      1  partly true/misleading       ka\n",
       "2            50      2  partly true/misleading       pt\n",
       "3            50      3                    true       ka\n",
       "4            50      4                   false       id\n",
       "..          ...    ...                     ...      ...\n",
       "994          50    994                    true       ro\n",
       "995          85    995  partly true/misleading       ar\n",
       "996           0    996  partly true/misleading       ta\n",
       "997          50    997                   false       pt\n",
       "999          50    999  partly true/misleading       it\n",
       "\n",
       "[962 rows x 4 columns]"
      ]
     },
     "execution_count": 25,
     "metadata": {},
     "output_type": "execute_result"
    }
   ],
   "source": [
    "# df_results0 = openai_resp.reset_index()\n",
    "df_results0"
   ]
  },
  {
   "cell_type": "code",
   "execution_count": null,
   "id": "da91826a-01e0-4054-b375-a89f991a1583",
   "metadata": {},
   "outputs": [],
   "source": []
  },
  {
   "cell_type": "code",
   "execution_count": 11,
   "id": "6026cafb-16e7-45ae-a543-5d4ba8beb53e",
   "metadata": {},
   "outputs": [],
   "source": [
    "from sklearn.metrics import classification_report"
   ]
  },
  {
   "cell_type": "code",
   "execution_count": 72,
   "id": "34e8910a-b696-4f8d-bf0b-c255342fcf74",
   "metadata": {},
   "outputs": [],
   "source": [
    "import numpy as np\n",
    "def gpt_tv(row):\n",
    "    resp = row['openai_resp']\n",
    "    try:\n",
    "        resp = float(resp)\n",
    "    except ValueError:\n",
    "        return \"unknown\"\n",
    "    \n",
    "    if resp > 50: #TODO: tune this value?\n",
    "        return 1\n",
    "    \n",
    "    else:\n",
    "        return 0\n",
    "\n",
    "def conservative_true_row(row):\n",
    "    label = row['label']\n",
    "    if label==\"true\":\n",
    "        return 1\n",
    "    else:\n",
    "        return 0    \n",
    "\n",
    "df_results0['openai_simple'] = df_results0.apply(gpt_tv, axis=1)\n",
    "df_results0['simple_truth'] = df_results0.apply(conservative_true_row, axis=1)\n",
    "\n",
    "# print(df_results0.shape)\n",
    "df_processed = df_results0.copy().drop(df_results0[(df_results0.openai_simple != 0) & (df_results0.openai_simple != 1)].index)\n",
    "df_processed = df_processed.drop(df_processed[df_processed.label.isin(['complicated/hard to categorise', 'other', np.nan])].index)\n",
    "df_processed = df_processed.reset_index()"
   ]
  },
  {
   "cell_type": "code",
   "execution_count": 80,
   "id": "cf523a53-da61-4b6e-ba86-7e7abc31dfe8",
   "metadata": {},
   "outputs": [
    {
     "name": "stdout",
     "output_type": "stream",
     "text": [
      "              precision    recall  f1-score   support\n",
      "\n",
      "           0       0.82      0.93      0.87       739\n",
      "           1       0.51      0.28      0.36       204\n",
      "\n",
      "    accuracy                           0.79       943\n",
      "   macro avg       0.67      0.60      0.62       943\n",
      "weighted avg       0.76      0.79      0.76       943\n",
      "\n"
     ]
    }
   ],
   "source": [
    "print(classification_report(df_processed['simple_truth'].values.tolist(), df_processed['openai_simple'].values.tolist()))"
   ]
  },
  {
   "cell_type": "code",
   "execution_count": 33,
   "id": "590066d4-99cf-412f-b6aa-f9392fd59533",
   "metadata": {},
   "outputs": [],
   "source": [
    "def euro_or_not(lang):\n",
    "    if lang in [\"de\", \"es\", \"fr\", \"it\", \"no\", \"nl\", \"pl\", \"pt\", \"ro\", \"ru\", \"sr\", \"sq\"]: #german, spanish, french, italian, norwegian, dutch, polish\n",
    "        return True\n",
    "    else: #ar - arabic; az - azerbaijani; bn - bengali; fa - farsi; gu - gujarati; hi - hindi; id - indonesian\n",
    "        #ka - georgian; mr - marathi; pa - punjabi; si - sinhala; ta - tamil; tr - turkish\n",
    "        return False"
   ]
  },
  {
   "cell_type": "code",
   "execution_count": 34,
   "id": "f33c53c2-d845-4945-8c70-5bb6a1eb1e9c",
   "metadata": {},
   "outputs": [],
   "source": [
    "def conservative_true(label):\n",
    "    if label==\"true\":\n",
    "        return 1\n",
    "    else:\n",
    "        return 0"
   ]
  },
  {
   "cell_type": "code",
   "execution_count": 35,
   "id": "5bce247a-039a-431e-aba6-cc2aa236ca95",
   "metadata": {},
   "outputs": [],
   "source": [
    "df_x_fact = pd.read_csv(\"../data/x_fact_dataset/x-fact-including-en/train.all.tsv\", delimiter=\"\\t\", on_bad_lines=\"skip\")"
   ]
  },
  {
   "cell_type": "code",
   "execution_count": 52,
   "id": "2640171b-e996-4c7b-966a-b20980988034",
   "metadata": {},
   "outputs": [],
   "source": [
    "euro_y_true = []\n",
    "euro_y_pred = []\n",
    "non_euro_y_true = []\n",
    "non_euro_y_pred = []\n",
    "for i in range(df_processed.shape[0]):\n",
    "    init_index = df_processed['index'][i]\n",
    "    if df_processed['label'][i]!=df_x_fact['label'][init_index]:\n",
    "        print(i, init_index)\n",
    "    if euro_or_not(df_x_fact['language'][init_index]):\n",
    "        euro_y_true.append(conservative_true(df_x_fact['label'][init_index]))\n",
    "        euro_y_pred.append(df_processed['openai_simple'][i])\n",
    "    else:\n",
    "        non_euro_y_true.append(conservative_true(df_x_fact['label'][init_index]))\n",
    "        non_euro_y_pred.append(df_processed['openai_simple'][i])"
   ]
  },
  {
   "cell_type": "code",
   "execution_count": 53,
   "id": "4941bc92-3bf2-4d98-8a45-455f7a8720de",
   "metadata": {},
   "outputs": [
    {
     "name": "stdout",
     "output_type": "stream",
     "text": [
      "              precision    recall  f1-score   support\n",
      "\n",
      "           0       0.77      0.91      0.83       370\n",
      "           1       0.55      0.29      0.38       143\n",
      "\n",
      "    accuracy                           0.73       513\n",
      "   macro avg       0.66      0.60      0.61       513\n",
      "weighted avg       0.71      0.73      0.71       513\n",
      "\n"
     ]
    }
   ],
   "source": [
    "print(classification_report(euro_y_true, euro_y_pred))"
   ]
  },
  {
   "cell_type": "code",
   "execution_count": 54,
   "id": "86bf0c49-806f-4f75-beed-ebeccb95bf10",
   "metadata": {},
   "outputs": [
    {
     "name": "stdout",
     "output_type": "stream",
     "text": [
      "              precision    recall  f1-score   support\n",
      "\n",
      "           0       0.88      0.95      0.92       369\n",
      "           1       0.44      0.25      0.32        61\n",
      "\n",
      "    accuracy                           0.85       430\n",
      "   macro avg       0.66      0.60      0.62       430\n",
      "weighted avg       0.82      0.85      0.83       430\n",
      "\n"
     ]
    }
   ],
   "source": [
    "print(classification_report(non_euro_y_true, non_euro_y_pred))"
   ]
  },
  {
   "cell_type": "code",
   "execution_count": 40,
   "id": "1e706dd7-fde9-40a9-9992-41b17da46f38",
   "metadata": {},
   "outputs": [],
   "source": [
    "def western(lang):\n",
    "    if lang in [\"de\", \"es\", \"fr\", \"it\", \"nl\", \"no\", \"pt\"]:\n",
    "        return True\n",
    "    else:\n",
    "        return False"
   ]
  },
  {
   "cell_type": "code",
   "execution_count": 55,
   "id": "2a37b1ef-6315-4fdf-a9fe-e019c93ebd95",
   "metadata": {},
   "outputs": [],
   "source": [
    "western_y_true = []\n",
    "western_y_pred = []\n",
    "non_western_y_true = []\n",
    "non_western_y_pred = []\n",
    "for i in range(df_processed.shape[0]):\n",
    "    init_index = df_processed['index'][i]\n",
    "    if df_processed['label'][i]!=df_x_fact['label'][init_index]:\n",
    "        print(i, init_index)\n",
    "    if western(df_x_fact['language'][init_index]):\n",
    "        western_y_true.append(conservative_true(df_x_fact['label'][init_index]))\n",
    "        western_y_pred.append(df_processed['openai_simple'][i])\n",
    "    else:\n",
    "        non_western_y_true.append(conservative_true(df_x_fact['label'][init_index]))\n",
    "        non_western_y_pred.append(df_processed['openai_simple'][i])"
   ]
  },
  {
   "cell_type": "code",
   "execution_count": 56,
   "id": "02f8f9de-c07b-48a7-9f42-6aace4b578b5",
   "metadata": {},
   "outputs": [
    {
     "name": "stdout",
     "output_type": "stream",
     "text": [
      "              precision    recall  f1-score   support\n",
      "\n",
      "           0       0.80      0.91      0.85       292\n",
      "           1       0.52      0.29      0.37        94\n",
      "\n",
      "    accuracy                           0.76       386\n",
      "   macro avg       0.66      0.60      0.61       386\n",
      "weighted avg       0.73      0.76      0.74       386\n",
      "\n"
     ]
    }
   ],
   "source": [
    "print(classification_report(western_y_true, western_y_pred))"
   ]
  },
  {
   "cell_type": "code",
   "execution_count": 57,
   "id": "3ae735d7-1f2a-4a69-bc3f-56f92f6a1007",
   "metadata": {},
   "outputs": [
    {
     "name": "stdout",
     "output_type": "stream",
     "text": [
      "              precision    recall  f1-score   support\n",
      "\n",
      "           0       0.84      0.94      0.88       447\n",
      "           1       0.51      0.27      0.36       110\n",
      "\n",
      "    accuracy                           0.80       557\n",
      "   macro avg       0.67      0.60      0.62       557\n",
      "weighted avg       0.77      0.80      0.78       557\n",
      "\n"
     ]
    }
   ],
   "source": [
    "print(classification_report(non_western_y_true, non_western_y_pred))"
   ]
  },
  {
   "cell_type": "code",
   "execution_count": 47,
   "id": "9b5899be-25a2-4c7a-9f57-18f511a94e5c",
   "metadata": {},
   "outputs": [],
   "source": [
    "def small(lang):\n",
    "    if lang in [\"no\", \"nl\", \"pl\", \"ro\", \"sr\", \"sq\", \"az\", \"ka\", \"si\"]:\n",
    "        return True\n",
    "    else: return False"
   ]
  },
  {
   "cell_type": "code",
   "execution_count": 58,
   "id": "f18ebf88-83fc-40c1-9248-063d4d27612c",
   "metadata": {},
   "outputs": [],
   "source": [
    "small_y_true = []\n",
    "small_y_pred = []\n",
    "large_y_true = []\n",
    "large_y_pred = []\n",
    "for i in range(df_processed.shape[0]):\n",
    "    # if df_results0['cohere_simple'][i] not in [0,1]:\n",
    "    #     continue\n",
    "    init_index = df_processed['index'][i]\n",
    "    if df_processed['label'][i]!=df_x_fact['label'][init_index]:\n",
    "        print(i, init_index)\n",
    "    if small(df_x_fact['language'][init_index]):\n",
    "        small_y_true.append(conservative_true(df_x_fact['label'][init_index]))\n",
    "        small_y_pred.append(df_processed['openai_simple'][i])\n",
    "    else:\n",
    "        large_y_true.append(conservative_true(df_x_fact['label'][init_index]))\n",
    "        large_y_pred.append(df_processed['openai_simple'][i])"
   ]
  },
  {
   "cell_type": "code",
   "execution_count": 59,
   "id": "ac04ca8f-85dd-4590-b0d9-428be713b8a8",
   "metadata": {},
   "outputs": [
    {
     "name": "stdout",
     "output_type": "stream",
     "text": [
      "              precision    recall  f1-score   support\n",
      "\n",
      "           0       0.68      0.91      0.78       134\n",
      "           1       0.59      0.23      0.33        74\n",
      "\n",
      "    accuracy                           0.67       208\n",
      "   macro avg       0.63      0.57      0.55       208\n",
      "weighted avg       0.65      0.67      0.62       208\n",
      "\n"
     ]
    }
   ],
   "source": [
    "print(classification_report(small_y_true, small_y_pred))"
   ]
  },
  {
   "cell_type": "code",
   "execution_count": 60,
   "id": "89331c3b-63ec-40be-943f-efe6b5ecc06f",
   "metadata": {},
   "outputs": [
    {
     "name": "stdout",
     "output_type": "stream",
     "text": [
      "              precision    recall  f1-score   support\n",
      "\n",
      "           0       0.86      0.93      0.90       605\n",
      "           1       0.49      0.31      0.38       130\n",
      "\n",
      "    accuracy                           0.82       735\n",
      "   macro avg       0.67      0.62      0.64       735\n",
      "weighted avg       0.80      0.82      0.80       735\n",
      "\n"
     ]
    }
   ],
   "source": [
    "print(classification_report(large_y_true, large_y_pred))"
   ]
  },
  {
   "cell_type": "code",
   "execution_count": 79,
   "id": "b7802bf2-9cac-4515-ac6b-2ecaac1a308e",
   "metadata": {},
   "outputs": [
    {
     "data": {
      "image/png": "[encoded data removed]",
      "text/plain": [
       "<Figure size 640x480 with 1 Axes>"
      ]
     },
     "metadata": {},
     "output_type": "display_data"
    }
   ],
   "source": [
    "import matplotlib.pyplot as plt\n",
    "plt.hist(df_processed['openai_resp'].map(float).values,bins=20)\n",
    "plt.title(\"GPT-4 Truthfulness Score Distribution\")\n",
    "plt.xlim(0,100)\n",
    "plt.ylabel(\"Frequency\")\n",
    "# plt.yscale('log')\n",
    "plt.xlabel(\"Truthfulness Score\")\n",
    "plt.show()"
   ]
  }
 ],
 "metadata": {
  "kernelspec": {
   "display_name": "Python 3 (ipykernel)",
   "language": "python",
   "name": "python3"
  },
  "language_info": {
   "codemirror_mode": {
    "name": "ipython",
    "version": 3
   },
   "file_extension": ".py",
   "mimetype": "text/x-python",
   "name": "python",
   "nbconvert_exporter": "python",
   "pygments_lexer": "ipython3",
   "version": "3.11.4"
  }
 },
 "nbformat": 4,
 "nbformat_minor": 5
}
