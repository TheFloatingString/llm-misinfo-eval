{
 "cells": [
  {
   "cell_type": "markdown",
   "id": "f4c28884-595a-4752-b1b2-fbfd0512310a",
   "metadata": {},
   "source": [
    "# Load Dataset\n",
    "\n",
    "Sample code using Pandas to load datasets."
   ]
  },
  {
   "cell_type": "code",
   "execution_count": 1,
   "id": "209efd00-e178-43ad-b0cc-0c6208f8a892",
   "metadata": {},
   "outputs": [],
   "source": [
    "import pandas as pd"
   ]
  },
  {
   "cell_type": "markdown",
   "id": "6c1dd694-8344-4e7a-b3c0-b64e04c9d0a2",
   "metadata": {},
   "source": [
    "### X-Fact Dataset"
   ]
  },
  {
   "cell_type": "code",
   "execution_count": 2,
   "id": "fe8b8ba3-345f-44e5-b847-e152045d1a1b",
   "metadata": {},
   "outputs": [],
   "source": [
    "df_x_fact = pd.read_csv(\"../data/x_fact_dataset/x-fact-including-en/train.all.tsv\", delimiter=\"\\t\", on_bad_lines=\"skip\")"
   ]
  },
  {
   "cell_type": "code",
   "execution_count": 3,
   "id": "3ec29546-554d-4d28-b082-e4fc9f12e5c7",
   "metadata": {},
   "outputs": [
    {
     "data": {
      "text/html": [
       "<div>\n",
       "<style scoped>\n",
       "    .dataframe tbody tr th:only-of-type {\n",
       "        vertical-align: middle;\n",
       "    }\n",
       "\n",
       "    .dataframe tbody tr th {\n",
       "        vertical-align: top;\n",
       "    }\n",
       "\n",
       "    .dataframe thead th {\n",
       "        text-align: right;\n",
       "    }\n",
       "</style>\n",
       "<table border=\"1\" class=\"dataframe\">\n",
       "  <thead>\n",
       "    <tr style=\"text-align: right;\">\n",
       "      <th></th>\n",
       "      <th>language</th>\n",
       "      <th>site</th>\n",
       "      <th>evidence_1</th>\n",
       "      <th>evidence_2</th>\n",
       "      <th>evidence_3</th>\n",
       "      <th>evidence_4</th>\n",
       "      <th>evidence_5</th>\n",
       "      <th>link_1</th>\n",
       "      <th>link_2</th>\n",
       "      <th>link_3</th>\n",
       "      <th>link_4</th>\n",
       "      <th>link_5</th>\n",
       "      <th>claimDate</th>\n",
       "      <th>reviewDate</th>\n",
       "      <th>claimant</th>\n",
       "      <th>claim</th>\n",
       "      <th>label</th>\n",
       "    </tr>\n",
       "  </thead>\n",
       "  <tbody>\n",
       "    <tr>\n",
       "      <th>0</th>\n",
       "      <td>tr</td>\n",
       "      <td>dogrulukpayi.com</td>\n",
       "      <td>Son 50 yılın siyasi tarihine bakın, tek başına...</td>\n",
       "      <td>Son 50 yılın siyasi tarihine bakın, tek başına...</td>\n",
       "      <td>Türkiye potansiyelini doğru kullanıp yüzde 7 b...</td>\n",
       "      <td>2020/01/02 — Türkiye Cumhuriyeti tarihinde hiç...</td>\n",
       "      <td>2002/12/09 — Cumhuriyet tarihi boyunca tek par...</td>\n",
       "      <td>https://www.dogrulukpayi.com/iddia-kontrolu/so...</td>\n",
       "      <td>https://www.dogrulukpayi.com/yazar/furkan-demi...</td>\n",
       "      <td>https://businessht.bloomberght.com/yazarlar/ca...</td>\n",
       "      <td>https://www.mahfiegilmez.com/2020/01/turkiye-e...</td>\n",
       "      <td>https://www.hurriyet.com.tr/ekonomi/tek-parti-...</td>\n",
       "      <td>none</td>\n",
       "      <td>none</td>\n",
       "      <td>Binali  Yıldırım</td>\n",
       "      <td>Son 50 yılın siyasi tarihine bakın, tek başına...</td>\n",
       "      <td>false</td>\n",
       "    </tr>\n",
       "    <tr>\n",
       "      <th>1</th>\n",
       "      <td>ka</td>\n",
       "      <td>factcheck.ge</td>\n",
       "      <td>Oct 4, 2018 — იტალიის სამაშველო სამსახურებს მი...</td>\n",
       "      <td>ევროპული ღირებულებები - იტალიის სამაშველო სამს...</td>\n",
       "      <td>ევროპული ღირებულებები - იტალიის სამაშველო სამს...</td>\n",
       "      <td>&lt;DUMMY_EVIDENCE&gt;</td>\n",
       "      <td>&lt;DUMMY_EVIDENCE&gt;</td>\n",
       "      <td>https://factcheck.ge/ka/story/37352-evropuli-g...</td>\n",
       "      <td>https://factcheck.ge/ka/page/persons/thbilisi-24</td>\n",
       "      <td>http://142.93.167.204/ka/page/persons/thbilisi-24</td>\n",
       "      <td>NO_LINK</td>\n",
       "      <td>NO_LINK</td>\n",
       "      <td>none</td>\n",
       "      <td>none</td>\n",
       "      <td>თბილისი 24</td>\n",
       "      <td>ევროპული ღირებულებები - იტალიის სამაშველო სამს...</td>\n",
       "      <td>partly true/misleading</td>\n",
       "    </tr>\n",
       "    <tr>\n",
       "      <th>2</th>\n",
       "      <td>pt</td>\n",
       "      <td>piaui.folha.uol.com.br</td>\n",
       "      <td>03.11.2020 — “Aqui em São Paulo, nós estamos c...</td>\n",
       "      <td>03.11.2020 — ... França erra sobre creches, mo...</td>\n",
       "      <td>05.06.2020 — A lei aprovada pelo Congresso que...</td>\n",
       "      <td>Caixa paga auxílio emergencial de R$ 600 e R$ ...</td>\n",
       "      <td>7 de julho de 2020, 15:20h ... Porém, diferent...</td>\n",
       "      <td>https://piaui.folha.uol.com.br/lupa/2020/11/03...</td>\n",
       "      <td>https://www1.folha.uol.com.br/poder/2020/11/na...</td>\n",
       "      <td>https://g1.globo.com/economia/noticia/2020/06/...</td>\n",
       "      <td>https://jc.ne10.uol.com.br/economia/2020/11/11...</td>\n",
       "      <td>https://noticiasconcursos.com.br/direitos-trab...</td>\n",
       "      <td>2020-11-03T12:41:12Z</td>\n",
       "      <td>2020-11-03T12:41:12Z</td>\n",
       "      <td>Márcio França (PSB)</td>\n",
       "      <td>Aqui em São Paulo, nós estamos com 2,7 milhões...</td>\n",
       "      <td>partly true/misleading</td>\n",
       "    </tr>\n",
       "    <tr>\n",
       "      <th>3</th>\n",
       "      <td>ka</td>\n",
       "      <td>factcheck.ge</td>\n",
       "      <td>Sep 12, 2016 — ირაკლი ხახუბია, \"ნაციონალური მო...</td>\n",
       "      <td>ირაკლი ხახუბია, \"ნაციონალური მოძრაობის\" სპონსო...</td>\n",
       "      <td>ირაკლი ხახუბია, \"ნაციონალური მოძრაობის\" სპონსო...</td>\n",
       "      <td>ირაკლი ხახუბია, \"ნაციონალური მოძრაობის\" სპონსო...</td>\n",
       "      <td>&lt;DUMMY_EVIDENCE&gt;</td>\n",
       "      <td>https://factcheck.ge/ka/story/23935-irakli-kha...</td>\n",
       "      <td>https://factcheck.ge/ka/stories/archive?page=128</td>\n",
       "      <td>http://142.93.167.204/ka/stories/archive?page=140</td>\n",
       "      <td>http://142.93.167.204/ka/topics/%E1%83%9E%E1%8...</td>\n",
       "      <td>NO_LINK</td>\n",
       "      <td>none</td>\n",
       "      <td>none</td>\n",
       "      <td>შალვა ნათელაშვილი</td>\n",
       "      <td>ირაკლი ხახუბია, \"ნაციონალური მოძრაობის\" სპონსო...</td>\n",
       "      <td>true</td>\n",
       "    </tr>\n",
       "    <tr>\n",
       "      <th>4</th>\n",
       "      <td>id</td>\n",
       "      <td>cekfakta.com</td>\n",
       "      <td>Sep 18, 2018 — Akun @lambeturah memposting seb...</td>\n",
       "      <td>[SALAH] Zumi Zola Jalan-Jalan Di Bandara Soeka...</td>\n",
       "      <td>[DISINFORMASI] Zumi Zola Jalan-Jalan Di Bandar...</td>\n",
       "      <td>Sep 17, 2018 — JAKARTA, KOMPAS.com - Pengacara...</td>\n",
       "      <td>Sep 17, 2018 — Jakarta, CNN Indonesia -- Sebua...</td>\n",
       "      <td>https://turnbackhoax.id/2018/09/18/salah-zumi-...</td>\n",
       "      <td>https://ru-ru.facebook.com/groups/fafhh/permal...</td>\n",
       "      <td>https://cekfakta.com/focus/459</td>\n",
       "      <td>https://nasional.kompas.com/read/2018/09/17/10...</td>\n",
       "      <td>https://www.cnnindonesia.com/nasional/20180917...</td>\n",
       "      <td>none</td>\n",
       "      <td>2018-09-18T00:00:00Z</td>\n",
       "      <td>none</td>\n",
       "      <td>Zumi Zola Jalan-Jalan Di Bandara Soekarno-Hatta</td>\n",
       "      <td>false</td>\n",
       "    </tr>\n",
       "  </tbody>\n",
       "</table>\n",
       "</div>"
      ],
      "text/plain": [
       "  language                    site  \\\n",
       "0       tr        dogrulukpayi.com   \n",
       "1       ka            factcheck.ge   \n",
       "2       pt  piaui.folha.uol.com.br   \n",
       "3       ka            factcheck.ge   \n",
       "4       id            cekfakta.com   \n",
       "\n",
       "                                          evidence_1  \\\n",
       "0  Son 50 yılın siyasi tarihine bakın, tek başına...   \n",
       "1  Oct 4, 2018 — იტალიის სამაშველო სამსახურებს მი...   \n",
       "2  03.11.2020 — “Aqui em São Paulo, nós estamos c...   \n",
       "3  Sep 12, 2016 — ირაკლი ხახუბია, \"ნაციონალური მო...   \n",
       "4  Sep 18, 2018 — Akun @lambeturah memposting seb...   \n",
       "\n",
       "                                          evidence_2  \\\n",
       "0  Son 50 yılın siyasi tarihine bakın, tek başına...   \n",
       "1  ევროპული ღირებულებები - იტალიის სამაშველო სამს...   \n",
       "2  03.11.2020 — ... França erra sobre creches, mo...   \n",
       "3  ირაკლი ხახუბია, \"ნაციონალური მოძრაობის\" სპონსო...   \n",
       "4  [SALAH] Zumi Zola Jalan-Jalan Di Bandara Soeka...   \n",
       "\n",
       "                                          evidence_3  \\\n",
       "0  Türkiye potansiyelini doğru kullanıp yüzde 7 b...   \n",
       "1  ევროპული ღირებულებები - იტალიის სამაშველო სამს...   \n",
       "2  05.06.2020 — A lei aprovada pelo Congresso que...   \n",
       "3  ირაკლი ხახუბია, \"ნაციონალური მოძრაობის\" სპონსო...   \n",
       "4  [DISINFORMASI] Zumi Zola Jalan-Jalan Di Bandar...   \n",
       "\n",
       "                                          evidence_4  \\\n",
       "0  2020/01/02 — Türkiye Cumhuriyeti tarihinde hiç...   \n",
       "1                                   <DUMMY_EVIDENCE>   \n",
       "2  Caixa paga auxílio emergencial de R$ 600 e R$ ...   \n",
       "3  ირაკლი ხახუბია, \"ნაციონალური მოძრაობის\" სპონსო...   \n",
       "4  Sep 17, 2018 — JAKARTA, KOMPAS.com - Pengacara...   \n",
       "\n",
       "                                          evidence_5  \\\n",
       "0  2002/12/09 — Cumhuriyet tarihi boyunca tek par...   \n",
       "1                                   <DUMMY_EVIDENCE>   \n",
       "2  7 de julho de 2020, 15:20h ... Porém, diferent...   \n",
       "3                                   <DUMMY_EVIDENCE>   \n",
       "4  Sep 17, 2018 — Jakarta, CNN Indonesia -- Sebua...   \n",
       "\n",
       "                                              link_1  \\\n",
       "0  https://www.dogrulukpayi.com/iddia-kontrolu/so...   \n",
       "1  https://factcheck.ge/ka/story/37352-evropuli-g...   \n",
       "2  https://piaui.folha.uol.com.br/lupa/2020/11/03...   \n",
       "3  https://factcheck.ge/ka/story/23935-irakli-kha...   \n",
       "4  https://turnbackhoax.id/2018/09/18/salah-zumi-...   \n",
       "\n",
       "                                              link_2  \\\n",
       "0  https://www.dogrulukpayi.com/yazar/furkan-demi...   \n",
       "1   https://factcheck.ge/ka/page/persons/thbilisi-24   \n",
       "2  https://www1.folha.uol.com.br/poder/2020/11/na...   \n",
       "3   https://factcheck.ge/ka/stories/archive?page=128   \n",
       "4  https://ru-ru.facebook.com/groups/fafhh/permal...   \n",
       "\n",
       "                                              link_3  \\\n",
       "0  https://businessht.bloomberght.com/yazarlar/ca...   \n",
       "1  http://142.93.167.204/ka/page/persons/thbilisi-24   \n",
       "2  https://g1.globo.com/economia/noticia/2020/06/...   \n",
       "3  http://142.93.167.204/ka/stories/archive?page=140   \n",
       "4                     https://cekfakta.com/focus/459   \n",
       "\n",
       "                                              link_4  \\\n",
       "0  https://www.mahfiegilmez.com/2020/01/turkiye-e...   \n",
       "1                                            NO_LINK   \n",
       "2  https://jc.ne10.uol.com.br/economia/2020/11/11...   \n",
       "3  http://142.93.167.204/ka/topics/%E1%83%9E%E1%8...   \n",
       "4  https://nasional.kompas.com/read/2018/09/17/10...   \n",
       "\n",
       "                                              link_5             claimDate  \\\n",
       "0  https://www.hurriyet.com.tr/ekonomi/tek-parti-...                  none   \n",
       "1                                            NO_LINK                  none   \n",
       "2  https://noticiasconcursos.com.br/direitos-trab...  2020-11-03T12:41:12Z   \n",
       "3                                            NO_LINK                  none   \n",
       "4  https://www.cnnindonesia.com/nasional/20180917...                  none   \n",
       "\n",
       "             reviewDate             claimant  \\\n",
       "0                  none     Binali  Yıldırım   \n",
       "1                  none           თბილისი 24   \n",
       "2  2020-11-03T12:41:12Z  Márcio França (PSB)   \n",
       "3                  none    შალვა ნათელაშვილი   \n",
       "4  2018-09-18T00:00:00Z                 none   \n",
       "\n",
       "                                               claim                   label  \n",
       "0  Son 50 yılın siyasi tarihine bakın, tek başına...                   false  \n",
       "1  ევროპული ღირებულებები - იტალიის სამაშველო სამს...  partly true/misleading  \n",
       "2  Aqui em São Paulo, nós estamos com 2,7 milhões...  partly true/misleading  \n",
       "3  ირაკლი ხახუბია, \"ნაციონალური მოძრაობის\" სპონსო...                    true  \n",
       "4    Zumi Zola Jalan-Jalan Di Bandara Soekarno-Hatta                   false  "
      ]
     },
     "execution_count": 3,
     "metadata": {},
     "output_type": "execute_result"
    }
   ],
   "source": [
    "df_x_fact.head()"
   ]
  },
  {
   "cell_type": "code",
   "execution_count": 91,
   "id": "da6d70df-2d7d-4185-84e5-739ba300f02e",
   "metadata": {},
   "outputs": [
    {
     "data": {
      "text/plain": [
       "{'ar', 'de', 'hi', 'id', 'it', 'ka', 'pl', 'pt', 'ro', 'sr', 'ta', 'tr'}"
      ]
     },
     "execution_count": 91,
     "metadata": {},
     "output_type": "execute_result"
    }
   ],
   "source": [
    "set(df_x_fact['language'][0:100].values)"
   ]
  },
  {
   "cell_type": "code",
   "execution_count": 4,
   "id": "4a346d1e-7a3b-492b-9527-2071b0f149e8",
   "metadata": {},
   "outputs": [
    {
     "name": "stdout",
     "output_type": "stream",
     "text": [
      "(30492,)\n"
     ]
    }
   ],
   "source": [
    "x_fact_claims = df_x_fact[\"claim\"].values\n",
    "print(x_fact_claims.shape)"
   ]
  },
  {
   "cell_type": "code",
   "execution_count": 5,
   "id": "54361874-e400-4f2b-bf11-2f6fe74c0c28",
   "metadata": {},
   "outputs": [
    {
     "name": "stdout",
     "output_type": "stream",
     "text": [
      "(30492,)\n"
     ]
    }
   ],
   "source": [
    "x_fact_labels = df_x_fact[\"label\"].values\n",
    "print(x_fact_claims.shape)"
   ]
  },
  {
   "cell_type": "code",
   "execution_count": 8,
   "id": "3dbb4116-9254-4c35-8ebe-407a86830f5b",
   "metadata": {},
   "outputs": [],
   "source": [
    "def return_prompt_1(STATEMENT):\n",
    "    return f\"Rate the truthfulness of the following statement: “{STATEMENT}” Provide a score from 0 to 100, where 0 represents definitively false and 100 represents definitively true. Do not provide any explanations, only respond with the numerical score.\""
   ]
  },
  {
   "cell_type": "code",
   "execution_count": 9,
   "id": "29f1e7e6-7742-4a58-99e5-7bde0b6bfe52",
   "metadata": {},
   "outputs": [],
   "source": [
    "def return_prompt_2(STATEMENT):\n",
    "    return f\"Rate the truthfulness of the following statement: “{STATEMENT}” Provide a number 0 or 1, where 0 represents false and 1 represents true. Do not provide any explanations, only respond with the number.\""
   ]
  },
  {
   "cell_type": "code",
   "execution_count": 14,
   "id": "2caf731d-7a8a-49cc-a29a-465156e6700f",
   "metadata": {},
   "outputs": [
    {
     "name": "stdout",
     "output_type": "stream",
     "text": [
      "Rate the truthfulness of the following statement: “Son 50 yılın siyasi tarihine bakın, tek başına iktidarlardaki Türkiye’nin büyüme oranı, koalisyon dönemlerindekinin iki katıdır.” Provide a score from 0 to 100, where 0 represents definitively false and 100 represents definitively true. Do not provide any explanations, only respond with the numerical score.\n"
     ]
    }
   ],
   "source": [
    "print(return_prompt_1(df_x_fact[\"claim\"][0]))"
   ]
  },
  {
   "cell_type": "code",
   "execution_count": 13,
   "id": "65b03c87-9646-481e-9c25-c72e89f3fd5a",
   "metadata": {},
   "outputs": [
    {
     "name": "stdout",
     "output_type": "stream",
     "text": [
      "Rate the truthfulness of the following statement: “Son 50 yılın siyasi tarihine bakın, tek başına iktidarlardaki Türkiye’nin büyüme oranı, koalisyon dönemlerindekinin iki katıdır.” Provide a number 0 or 1, where 0 represents false and 1 represents true. Do not provide any explanations, only respond with the number.\n"
     ]
    }
   ],
   "source": [
    "print(return_prompt_2(df_x_fact[\"claim\"][0]))"
   ]
  },
  {
   "cell_type": "markdown",
   "id": "88f667ac-db75-41ea-b4dc-b5a7b0f4959b",
   "metadata": {},
   "source": [
    "Running the eval on https://console.cloud.google.com/vertex-ai/generative/language/create/text?project=llm-misinfo-eval (Vertex AI from Google), with temperature=0.\n",
    "\n",
    "Using the first prompt from Kellin's paper:\n",
    "\n",
    "`Rate the truthfulness\r\n",
    "of the following statement: “STATEMENT” Provide a score from 0 to 100, where 0 represents\r\n",
    "definitively false and 100 represents definitively\r\n",
    "true. Do not provide any explanations, only respond with the numerical sc`ore"
   ]
  },
  {
   "cell_type": "code",
   "execution_count": 20,
   "id": "04041658-e694-407e-b3d3-370c26643c0f",
   "metadata": {},
   "outputs": [],
   "source": [
    "import vertexai\n",
    "from vertexai.language_models import TextGenerationModel\n",
    "from vertexai.preview.generative_models import GenerativeModel"
   ]
  },
  {
   "cell_type": "code",
   "execution_count": 68,
   "id": "f9d05359-091f-489d-8b8b-009a1c52bfd1",
   "metadata": {},
   "outputs": [],
   "source": [
    "def call_model(prompt):\n",
    "    vertexai.init(project='llm-misinfo-eval', location='us-central1')\n",
    "    parameters = {\n",
    "        # 'temperature':0,\n",
    "        # 'max_output_tokens':256,\n",
    "        # 'top_p':0.8,\n",
    "        # 'top_k':40\n",
    "    }\n",
    "    model = GenerativeModel('gemini-1.0-pro')\n",
    "    resp = model.generate_content(prompt, **parameters)\n",
    "    return resp\n",
    "\n",
    "def get_text_resp(model_resp):\n",
    "    return model_resp.candidates[0].content.parts[0].text\n",
    "# resp = get_text_resp(call_model('what is your name?'))"
   ]
  },
  {
   "cell_type": "code",
   "execution_count": 57,
   "id": "39716734-5eff-40ca-89a3-c11a0b5da20f",
   "metadata": {},
   "outputs": [],
   "source": [
    "resp  = call_model('what is your name?')"
   ]
  },
  {
   "cell_type": "code",
   "execution_count": 62,
   "id": "12d60134-3633-49f4-80e6-43fe6f063e50",
   "metadata": {},
   "outputs": [
    {
     "data": {
      "text/plain": [
       "[content {\n",
       "   role: \"model\"\n",
       "   parts {\n",
       "     text: \"I am Gemini, a multimodal AI language model developed by Google. I don\\'t have a name, as I am not a person.\"\n",
       "   }\n",
       " }\n",
       " finish_reason: STOP\n",
       " safety_ratings {\n",
       "   category: HARM_CATEGORY_HATE_SPEECH\n",
       "   probability: NEGLIGIBLE\n",
       " }\n",
       " safety_ratings {\n",
       "   category: HARM_CATEGORY_DANGEROUS_CONTENT\n",
       "   probability: NEGLIGIBLE\n",
       " }\n",
       " safety_ratings {\n",
       "   category: HARM_CATEGORY_HARASSMENT\n",
       "   probability: NEGLIGIBLE\n",
       " }\n",
       " safety_ratings {\n",
       "   category: HARM_CATEGORY_SEXUALLY_EXPLICIT\n",
       "   probability: NEGLIGIBLE\n",
       " }]"
      ]
     },
     "execution_count": 62,
     "metadata": {},
     "output_type": "execute_result"
    }
   ],
   "source": [
    "resp.candidates"
   ]
  },
  {
   "cell_type": "code",
   "execution_count": 66,
   "id": "1b6e3196-5a3a-4520-8bbd-b0ab2a0e4e95",
   "metadata": {},
   "outputs": [
    {
     "data": {
      "text/plain": [
       "\"I am Gemini, a multimodal AI language model developed by Google. I don't have a name, as I am not a person.\""
      ]
     },
     "execution_count": 66,
     "metadata": {},
     "output_type": "execute_result"
    }
   ],
   "source": [
    "get_text_resp(resp)"
   ]
  },
  {
   "cell_type": "code",
   "execution_count": 86,
   "id": "7eb49dd7-5d8b-48ff-afbc-81cfd3243718",
   "metadata": {},
   "outputs": [
    {
     "name": "stderr",
     "output_type": "stream",
     "text": [
      " 24%|██████████████████▉                                                            | 72/300 [21:31<1:08:11, 17.94s/it]\n"
     ]
    },
    {
     "ename": "InternalServerError",
     "evalue": "500 Internal error encountered.",
     "output_type": "error",
     "traceback": [
      "\u001b[1;31m---------------------------------------------------------------------------\u001b[0m",
      "\u001b[1;31m_InactiveRpcError\u001b[0m                         Traceback (most recent call last)",
      "File \u001b[1;32m~\\AppData\\Local\\Programs\\Python\\Python311\\Lib\\site-packages\\google\\api_core\\grpc_helpers.py:76\u001b[0m, in \u001b[0;36m_wrap_unary_errors.<locals>.error_remapped_callable\u001b[1;34m(*args, **kwargs)\u001b[0m\n\u001b[0;32m     75\u001b[0m \u001b[38;5;28;01mtry\u001b[39;00m:\n\u001b[1;32m---> 76\u001b[0m     \u001b[38;5;28;01mreturn\u001b[39;00m \u001b[43mcallable_\u001b[49m\u001b[43m(\u001b[49m\u001b[38;5;241;43m*\u001b[39;49m\u001b[43margs\u001b[49m\u001b[43m,\u001b[49m\u001b[43m \u001b[49m\u001b[38;5;241;43m*\u001b[39;49m\u001b[38;5;241;43m*\u001b[39;49m\u001b[43mkwargs\u001b[49m\u001b[43m)\u001b[49m\n\u001b[0;32m     77\u001b[0m \u001b[38;5;28;01mexcept\u001b[39;00m grpc\u001b[38;5;241m.\u001b[39mRpcError \u001b[38;5;28;01mas\u001b[39;00m exc:\n",
      "File \u001b[1;32m~\\AppData\\Local\\Programs\\Python\\Python311\\Lib\\site-packages\\grpc\\_channel.py:1176\u001b[0m, in \u001b[0;36m_UnaryUnaryMultiCallable.__call__\u001b[1;34m(self, request, timeout, metadata, credentials, wait_for_ready, compression)\u001b[0m\n\u001b[0;32m   1170\u001b[0m (\n\u001b[0;32m   1171\u001b[0m     state,\n\u001b[0;32m   1172\u001b[0m     call,\n\u001b[0;32m   1173\u001b[0m ) \u001b[38;5;241m=\u001b[39m \u001b[38;5;28mself\u001b[39m\u001b[38;5;241m.\u001b[39m_blocking(\n\u001b[0;32m   1174\u001b[0m     request, timeout, metadata, credentials, wait_for_ready, compression\n\u001b[0;32m   1175\u001b[0m )\n\u001b[1;32m-> 1176\u001b[0m \u001b[38;5;28;01mreturn\u001b[39;00m \u001b[43m_end_unary_response_blocking\u001b[49m\u001b[43m(\u001b[49m\u001b[43mstate\u001b[49m\u001b[43m,\u001b[49m\u001b[43m \u001b[49m\u001b[43mcall\u001b[49m\u001b[43m,\u001b[49m\u001b[43m \u001b[49m\u001b[38;5;28;43;01mFalse\u001b[39;49;00m\u001b[43m,\u001b[49m\u001b[43m \u001b[49m\u001b[38;5;28;43;01mNone\u001b[39;49;00m\u001b[43m)\u001b[49m\n",
      "File \u001b[1;32m~\\AppData\\Local\\Programs\\Python\\Python311\\Lib\\site-packages\\grpc\\_channel.py:1005\u001b[0m, in \u001b[0;36m_end_unary_response_blocking\u001b[1;34m(state, call, with_call, deadline)\u001b[0m\n\u001b[0;32m   1004\u001b[0m \u001b[38;5;28;01melse\u001b[39;00m:\n\u001b[1;32m-> 1005\u001b[0m     \u001b[38;5;28;01mraise\u001b[39;00m _InactiveRpcError(state)\n",
      "\u001b[1;31m_InactiveRpcError\u001b[0m: <_InactiveRpcError of RPC that terminated with:\n\tstatus = StatusCode.INTERNAL\n\tdetails = \"Internal error encountered.\"\n\tdebug_error_string = \"UNKNOWN:Error received from peer ipv4:172.217.13.202:443 {grpc_message:\"Internal error encountered.\", grpc_status:13, created_time:\"2024-02-28T22:32:51.0385889+00:00\"}\"\n>",
      "\nThe above exception was the direct cause of the following exception:\n",
      "\u001b[1;31mInternalServerError\u001b[0m                       Traceback (most recent call last)",
      "Cell \u001b[1;32mIn[86], line 8\u001b[0m\n\u001b[0;32m      6\u001b[0m claim \u001b[38;5;241m=\u001b[39m df_x_fact[\u001b[38;5;124m'\u001b[39m\u001b[38;5;124mclaim\u001b[39m\u001b[38;5;124m'\u001b[39m][i]\n\u001b[0;32m      7\u001b[0m prompt \u001b[38;5;241m=\u001b[39m return_prompt_1(claim)\n\u001b[1;32m----> 8\u001b[0m model_resp \u001b[38;5;241m=\u001b[39m \u001b[43mcall_model\u001b[49m\u001b[43m(\u001b[49m\u001b[43mprompt\u001b[49m\u001b[43m)\u001b[49m\n\u001b[0;32m      9\u001b[0m model_text_resp \u001b[38;5;241m=\u001b[39m get_text_resp(model_resp)\n\u001b[0;32m     10\u001b[0m \u001b[38;5;28;01mtry\u001b[39;00m:\n",
      "Cell \u001b[1;32mIn[68], line 10\u001b[0m, in \u001b[0;36mcall_model\u001b[1;34m(prompt)\u001b[0m\n\u001b[0;32m      3\u001b[0m parameters \u001b[38;5;241m=\u001b[39m {\n\u001b[0;32m      4\u001b[0m     \u001b[38;5;66;03m# 'temperature':0,\u001b[39;00m\n\u001b[0;32m      5\u001b[0m     \u001b[38;5;66;03m# 'max_output_tokens':256,\u001b[39;00m\n\u001b[0;32m      6\u001b[0m     \u001b[38;5;66;03m# 'top_p':0.8,\u001b[39;00m\n\u001b[0;32m      7\u001b[0m     \u001b[38;5;66;03m# 'top_k':40\u001b[39;00m\n\u001b[0;32m      8\u001b[0m }\n\u001b[0;32m      9\u001b[0m model \u001b[38;5;241m=\u001b[39m GenerativeModel(\u001b[38;5;124m'\u001b[39m\u001b[38;5;124mgemini-1.0-pro\u001b[39m\u001b[38;5;124m'\u001b[39m)\n\u001b[1;32m---> 10\u001b[0m resp \u001b[38;5;241m=\u001b[39m \u001b[43mmodel\u001b[49m\u001b[38;5;241;43m.\u001b[39;49m\u001b[43mgenerate_content\u001b[49m\u001b[43m(\u001b[49m\u001b[43mprompt\u001b[49m\u001b[43m,\u001b[49m\u001b[43m \u001b[49m\u001b[38;5;241;43m*\u001b[39;49m\u001b[38;5;241;43m*\u001b[39;49m\u001b[43mparameters\u001b[49m\u001b[43m)\u001b[49m\n\u001b[0;32m     11\u001b[0m \u001b[38;5;28;01mreturn\u001b[39;00m resp\n",
      "File \u001b[1;32m~\\AppData\\Local\\Programs\\Python\\Python311\\Lib\\site-packages\\vertexai\\generative_models\\_generative_models.py:354\u001b[0m, in \u001b[0;36m_GenerativeModel.generate_content\u001b[1;34m(self, contents, generation_config, safety_settings, tools, stream)\u001b[0m\n\u001b[0;32m    347\u001b[0m     \u001b[38;5;28;01mreturn\u001b[39;00m \u001b[38;5;28mself\u001b[39m\u001b[38;5;241m.\u001b[39m_generate_content_streaming(\n\u001b[0;32m    348\u001b[0m         contents\u001b[38;5;241m=\u001b[39mcontents,\n\u001b[0;32m    349\u001b[0m         generation_config\u001b[38;5;241m=\u001b[39mgeneration_config,\n\u001b[0;32m    350\u001b[0m         safety_settings\u001b[38;5;241m=\u001b[39msafety_settings,\n\u001b[0;32m    351\u001b[0m         tools\u001b[38;5;241m=\u001b[39mtools,\n\u001b[0;32m    352\u001b[0m     )\n\u001b[0;32m    353\u001b[0m \u001b[38;5;28;01melse\u001b[39;00m:\n\u001b[1;32m--> 354\u001b[0m     \u001b[38;5;28;01mreturn\u001b[39;00m \u001b[38;5;28;43mself\u001b[39;49m\u001b[38;5;241;43m.\u001b[39;49m\u001b[43m_generate_content\u001b[49m\u001b[43m(\u001b[49m\n\u001b[0;32m    355\u001b[0m \u001b[43m        \u001b[49m\u001b[43mcontents\u001b[49m\u001b[38;5;241;43m=\u001b[39;49m\u001b[43mcontents\u001b[49m\u001b[43m,\u001b[49m\n\u001b[0;32m    356\u001b[0m \u001b[43m        \u001b[49m\u001b[43mgeneration_config\u001b[49m\u001b[38;5;241;43m=\u001b[39;49m\u001b[43mgeneration_config\u001b[49m\u001b[43m,\u001b[49m\n\u001b[0;32m    357\u001b[0m \u001b[43m        \u001b[49m\u001b[43msafety_settings\u001b[49m\u001b[38;5;241;43m=\u001b[39;49m\u001b[43msafety_settings\u001b[49m\u001b[43m,\u001b[49m\n\u001b[0;32m    358\u001b[0m \u001b[43m        \u001b[49m\u001b[43mtools\u001b[49m\u001b[38;5;241;43m=\u001b[39;49m\u001b[43mtools\u001b[49m\u001b[43m,\u001b[49m\n\u001b[0;32m    359\u001b[0m \u001b[43m    \u001b[49m\u001b[43m)\u001b[49m\n",
      "File \u001b[1;32m~\\AppData\\Local\\Programs\\Python\\Python311\\Lib\\site-packages\\vertexai\\generative_models\\_generative_models.py:435\u001b[0m, in \u001b[0;36m_GenerativeModel._generate_content\u001b[1;34m(self, contents, generation_config, safety_settings, tools)\u001b[0m\n\u001b[0;32m    412\u001b[0m \u001b[38;5;250m\u001b[39m\u001b[38;5;124;03m\"\"\"Generates content.\u001b[39;00m\n\u001b[0;32m    413\u001b[0m \n\u001b[0;32m    414\u001b[0m \u001b[38;5;124;03mArgs:\u001b[39;00m\n\u001b[1;32m   (...)\u001b[0m\n\u001b[0;32m    427\u001b[0m \u001b[38;5;124;03m    A single GenerationResponse object\u001b[39;00m\n\u001b[0;32m    428\u001b[0m \u001b[38;5;124;03m\"\"\"\u001b[39;00m\n\u001b[0;32m    429\u001b[0m request \u001b[38;5;241m=\u001b[39m \u001b[38;5;28mself\u001b[39m\u001b[38;5;241m.\u001b[39m_prepare_request(\n\u001b[0;32m    430\u001b[0m     contents\u001b[38;5;241m=\u001b[39mcontents,\n\u001b[0;32m    431\u001b[0m     generation_config\u001b[38;5;241m=\u001b[39mgeneration_config,\n\u001b[0;32m    432\u001b[0m     safety_settings\u001b[38;5;241m=\u001b[39msafety_settings,\n\u001b[0;32m    433\u001b[0m     tools\u001b[38;5;241m=\u001b[39mtools,\n\u001b[0;32m    434\u001b[0m )\n\u001b[1;32m--> 435\u001b[0m gapic_response \u001b[38;5;241m=\u001b[39m \u001b[38;5;28;43mself\u001b[39;49m\u001b[38;5;241;43m.\u001b[39;49m\u001b[43m_prediction_client\u001b[49m\u001b[38;5;241;43m.\u001b[39;49m\u001b[43mgenerate_content\u001b[49m\u001b[43m(\u001b[49m\u001b[43mrequest\u001b[49m\u001b[38;5;241;43m=\u001b[39;49m\u001b[43mrequest\u001b[49m\u001b[43m)\u001b[49m\n\u001b[0;32m    436\u001b[0m \u001b[38;5;28;01mreturn\u001b[39;00m \u001b[38;5;28mself\u001b[39m\u001b[38;5;241m.\u001b[39m_parse_response(gapic_response)\n",
      "File \u001b[1;32m~\\AppData\\Local\\Programs\\Python\\Python311\\Lib\\site-packages\\google\\cloud\\aiplatform_v1beta1\\services\\prediction_service\\client.py:2075\u001b[0m, in \u001b[0;36mPredictionServiceClient.generate_content\u001b[1;34m(self, request, model, contents, retry, timeout, metadata)\u001b[0m\n\u001b[0;32m   2072\u001b[0m \u001b[38;5;28mself\u001b[39m\u001b[38;5;241m.\u001b[39m_validate_universe_domain()\n\u001b[0;32m   2074\u001b[0m \u001b[38;5;66;03m# Send the request.\u001b[39;00m\n\u001b[1;32m-> 2075\u001b[0m response \u001b[38;5;241m=\u001b[39m \u001b[43mrpc\u001b[49m\u001b[43m(\u001b[49m\n\u001b[0;32m   2076\u001b[0m \u001b[43m    \u001b[49m\u001b[43mrequest\u001b[49m\u001b[43m,\u001b[49m\n\u001b[0;32m   2077\u001b[0m \u001b[43m    \u001b[49m\u001b[43mretry\u001b[49m\u001b[38;5;241;43m=\u001b[39;49m\u001b[43mretry\u001b[49m\u001b[43m,\u001b[49m\n\u001b[0;32m   2078\u001b[0m \u001b[43m    \u001b[49m\u001b[43mtimeout\u001b[49m\u001b[38;5;241;43m=\u001b[39;49m\u001b[43mtimeout\u001b[49m\u001b[43m,\u001b[49m\n\u001b[0;32m   2079\u001b[0m \u001b[43m    \u001b[49m\u001b[43mmetadata\u001b[49m\u001b[38;5;241;43m=\u001b[39;49m\u001b[43mmetadata\u001b[49m\u001b[43m,\u001b[49m\n\u001b[0;32m   2080\u001b[0m \u001b[43m\u001b[49m\u001b[43m)\u001b[49m\n\u001b[0;32m   2082\u001b[0m \u001b[38;5;66;03m# Done; return the response.\u001b[39;00m\n\u001b[0;32m   2083\u001b[0m \u001b[38;5;28;01mreturn\u001b[39;00m response\n",
      "File \u001b[1;32m~\\AppData\\Local\\Programs\\Python\\Python311\\Lib\\site-packages\\google\\api_core\\gapic_v1\\method.py:131\u001b[0m, in \u001b[0;36m_GapicCallable.__call__\u001b[1;34m(self, timeout, retry, compression, *args, **kwargs)\u001b[0m\n\u001b[0;32m    128\u001b[0m \u001b[38;5;28;01mif\u001b[39;00m \u001b[38;5;28mself\u001b[39m\u001b[38;5;241m.\u001b[39m_compression \u001b[38;5;129;01mis\u001b[39;00m \u001b[38;5;129;01mnot\u001b[39;00m \u001b[38;5;28;01mNone\u001b[39;00m:\n\u001b[0;32m    129\u001b[0m     kwargs[\u001b[38;5;124m\"\u001b[39m\u001b[38;5;124mcompression\u001b[39m\u001b[38;5;124m\"\u001b[39m] \u001b[38;5;241m=\u001b[39m compression\n\u001b[1;32m--> 131\u001b[0m \u001b[38;5;28;01mreturn\u001b[39;00m \u001b[43mwrapped_func\u001b[49m\u001b[43m(\u001b[49m\u001b[38;5;241;43m*\u001b[39;49m\u001b[43margs\u001b[49m\u001b[43m,\u001b[49m\u001b[43m \u001b[49m\u001b[38;5;241;43m*\u001b[39;49m\u001b[38;5;241;43m*\u001b[39;49m\u001b[43mkwargs\u001b[49m\u001b[43m)\u001b[49m\n",
      "File \u001b[1;32m~\\AppData\\Local\\Programs\\Python\\Python311\\Lib\\site-packages\\google\\api_core\\grpc_helpers.py:78\u001b[0m, in \u001b[0;36m_wrap_unary_errors.<locals>.error_remapped_callable\u001b[1;34m(*args, **kwargs)\u001b[0m\n\u001b[0;32m     76\u001b[0m     \u001b[38;5;28;01mreturn\u001b[39;00m callable_(\u001b[38;5;241m*\u001b[39margs, \u001b[38;5;241m*\u001b[39m\u001b[38;5;241m*\u001b[39mkwargs)\n\u001b[0;32m     77\u001b[0m \u001b[38;5;28;01mexcept\u001b[39;00m grpc\u001b[38;5;241m.\u001b[39mRpcError \u001b[38;5;28;01mas\u001b[39;00m exc:\n\u001b[1;32m---> 78\u001b[0m     \u001b[38;5;28;01mraise\u001b[39;00m exceptions\u001b[38;5;241m.\u001b[39mfrom_grpc_error(exc) \u001b[38;5;28;01mfrom\u001b[39;00m \u001b[38;5;21;01mexc\u001b[39;00m\n",
      "\u001b[1;31mInternalServerError\u001b[0m: 500 Internal error encountered."
     ]
    }
   ],
   "source": [
    "from tqdm import trange\n",
    "import time\n",
    "df_results_prompt_1_list = []\n",
    "for i in trange(300):\n",
    "    tmp = {'modelResp':None, 'trueLabel':df_x_fact['label'][i]}\n",
    "    claim = df_x_fact['claim'][i]\n",
    "    prompt = return_prompt_1(claim)\n",
    "    model_resp = call_model(prompt)\n",
    "    model_text_resp = get_text_resp(model_resp)\n",
    "    try:\n",
    "        tmp['modelResp'] = float(model_text_resp)\n",
    "    except:\n",
    "        tmp['modelResp'] = float(model_text_resp)\n",
    "    df_results_prompt_1_list.append(tmp)\n",
    "    time.sleep(10)"
   ]
  },
  {
   "cell_type": "code",
   "execution_count": 94,
   "id": "49447e14-3b6a-43da-ac06-9d3f6cd7faaf",
   "metadata": {},
   "outputs": [
    {
     "name": "stdout",
     "output_type": "stream",
     "text": [
      "(72, 2)\n"
     ]
    }
   ],
   "source": [
    "df_results_prompt_1 = pd.DataFrame(df_results_prompt_1_list)\n",
    "df_results_prompt_1.head()\n",
    "print(df_results_prompt_1.shape)"
   ]
  },
  {
   "cell_type": "code",
   "execution_count": 84,
   "id": "c9fbd539-6814-4682-9012-03587204032f",
   "metadata": {
    "scrolled": true
   },
   "outputs": [
    {
     "name": "stdout",
     "output_type": "stream",
     "text": [
      "    modelResp               trueLabel\n",
      "0        60.0                   false\n",
      "1        70.0  partly true/misleading\n",
      "2        50.0  partly true/misleading\n",
      "3        50.0                    true\n",
      "4         0.0                   false\n",
      "5         0.0             mostly true\n",
      "6        50.0                    true\n",
      "7        50.0             mostly true\n",
      "8         0.0  partly true/misleading\n",
      "9        80.0                   false\n",
      "10       50.0            mostly false\n",
      "11        0.0                   false\n",
      "12       50.0  partly true/misleading\n",
      "13      100.0                    true\n",
      "14       30.0  partly true/misleading\n",
      "15       60.0                    true\n",
      "16       50.0            mostly false\n",
      "17        0.0                   false\n",
      "18       60.0             mostly true\n",
      "19       50.0                   false\n",
      "20        0.0             mostly true\n",
      "21       60.0  partly true/misleading\n",
      "22        0.0                   false\n",
      "23       50.0                   false\n",
      "24       70.0                    true\n",
      "25        0.0  partly true/misleading\n",
      "26        0.0                   false\n",
      "27        0.0  partly true/misleading\n",
      "28       50.0  partly true/misleading\n",
      "29       70.0             mostly true\n",
      "30       70.0                   false\n",
      "31       60.0  partly true/misleading\n",
      "32        0.0  partly true/misleading\n",
      "33       60.0  partly true/misleading\n",
      "34        0.0                    true\n",
      "35      100.0                    true\n",
      "36       50.0                    true\n",
      "37        0.0                    true\n",
      "38        0.0  partly true/misleading\n",
      "39       75.0  partly true/misleading\n",
      "40        0.0                   false\n",
      "41        0.0  partly true/misleading\n",
      "42       60.0                    true\n",
      "43       60.0                    true\n",
      "44        0.0                   false\n",
      "45        0.0                   false\n",
      "46       50.0                    true\n",
      "47        0.0             mostly true\n",
      "48        0.0                   false\n",
      "49        0.0                   false\n"
     ]
    }
   ],
   "source": [
    "print(df_results_prompt_1)"
   ]
  },
  {
   "cell_type": "code",
   "execution_count": 97,
   "id": "842ef19b-21ca-4ceb-94cb-88adaa7cbab7",
   "metadata": {},
   "outputs": [
    {
     "name": "stdout",
     "output_type": "stream",
     "text": [
      "              precision    recall  f1-score   support\n",
      "\n",
      "           0       0.90      0.67      0.77        55\n",
      "           1       0.42      0.76      0.54        17\n",
      "\n",
      "    accuracy                           0.69        72\n",
      "   macro avg       0.66      0.72      0.66        72\n",
      "weighted avg       0.79      0.69      0.72        72\n",
      "\n"
     ]
    }
   ],
   "source": [
    "from sklearn.metrics import classification_report\n",
    "\n",
    "y_true_binary = []\n",
    "for i in range(72):\n",
    "    if df_x_fact['label'][i] == 'true':\n",
    "        y_true_binary.append(1)\n",
    "    else:\n",
    "        y_true_binary.append(0)\n",
    "y_pred_binary_prompt_1 = []\n",
    "\n",
    "for i in range(df_results_prompt_1.shape[0]):\n",
    "    if df_results_prompt_1['modelResp'][i] > 50:\n",
    "        y_pred_binary_prompt_1.append(1)\n",
    "    else:\n",
    "        y_pred_binary_prompt_1.append(0)\n",
    "print(classification_report(y_true_binary, y_pred_binary_prompt_1))"
   ]
  },
  {
   "cell_type": "markdown",
   "id": "c4eb2b2f-04d4-4a72-a7b2-6cf594d2e7cb",
   "metadata": {},
   "source": [
    "### European vs Non-European"
   ]
  },
  {
   "cell_type": "code",
   "execution_count": 98,
   "id": "d1e404ac-56f4-4bc5-bb9a-c4d3b3270e46",
   "metadata": {},
   "outputs": [],
   "source": [
    "def euro_or_not(lang):\n",
    "    if lang in [\"de\", \"es\", \"fr\", \"it\", \"no\", \"nl\", \"pl\", \"pt\", \"ro\", \"ru\", \"sr\", \"sq\"]: #german, spanish, french, italian, norwegian, dutch, polish\n",
    "        return True\n",
    "    else: #ar - arabic; az - azerbaijani; bn - bengali; fa - farsi; gu - gujarati; hi - hindi; id - indonesian\n",
    "        #ka - georgian; mr - marathi; pa - punjabi; si - sinhala; ta - tamil; tr - turkish\n",
    "        return False"
   ]
  },
  {
   "cell_type": "code",
   "execution_count": 102,
   "id": "8a0c9812-6ba2-452d-86bb-faf41795ef1d",
   "metadata": {},
   "outputs": [],
   "source": [
    "def conservative_true(label):\n",
    "    if label==\"true\":\n",
    "        return 1\n",
    "    else:\n",
    "        return 0"
   ]
  },
  {
   "cell_type": "code",
   "execution_count": 103,
   "id": "31b8e8dd-ec38-4ae0-ae41-4ef32de01010",
   "metadata": {},
   "outputs": [],
   "source": [
    "euro_y_true = []\n",
    "euro_y_pred = []\n",
    "non_euro_y_true = []\n",
    "non_euro_y_pred = []\n",
    "for i in range(50):\n",
    "    if euro_or_not(df_x_fact['language'][i]):\n",
    "        euro_y_true.append(conservative_true(df_x_fact['label'][i]))\n",
    "        euro_y_pred.append(y_pred_binary_prompt_1[i])\n",
    "    else:\n",
    "        non_euro_y_true.append(conservative_true(df_x_fact['label'][i]))\n",
    "        non_euro_y_pred.append(y_pred_binary_prompt_1[i])"
   ]
  },
  {
   "cell_type": "code",
   "execution_count": 104,
   "id": "0a241f2c-dc66-4e28-bcfa-6de4e72a98c7",
   "metadata": {},
   "outputs": [
    {
     "name": "stdout",
     "output_type": "stream",
     "text": [
      "              precision    recall  f1-score   support\n",
      "\n",
      "           0       0.87      0.72      0.79        18\n",
      "           1       0.50      0.71      0.59         7\n",
      "\n",
      "    accuracy                           0.72        25\n",
      "   macro avg       0.68      0.72      0.69        25\n",
      "weighted avg       0.76      0.72      0.73        25\n",
      "\n"
     ]
    }
   ],
   "source": [
    "print(classification_report(euro_y_true, euro_y_pred))"
   ]
  },
  {
   "cell_type": "code",
   "execution_count": 106,
   "id": "21dfc4ba-6221-4a33-9e82-65271e033b75",
   "metadata": {},
   "outputs": [
    {
     "name": "stdout",
     "output_type": "stream",
     "text": [
      "              precision    recall  f1-score   support\n",
      "\n",
      "           0       1.00      0.60      0.75        20\n",
      "           1       0.38      1.00      0.56         5\n",
      "\n",
      "    accuracy                           0.68        25\n",
      "   macro avg       0.69      0.80      0.65        25\n",
      "weighted avg       0.88      0.68      0.71        25\n",
      "\n"
     ]
    }
   ],
   "source": [
    "print(classification_report(non_euro_y_true, non_euro_y_pred))"
   ]
  },
  {
   "cell_type": "markdown",
   "id": "5d2d1df6-2a73-4d72-bc4f-850dd4155d84",
   "metadata": {},
   "source": [
    "### Western vs Non-Western"
   ]
  },
  {
   "cell_type": "code",
   "execution_count": 107,
   "id": "b030bed8-7144-4dff-b8d8-f7efb802f63b",
   "metadata": {},
   "outputs": [],
   "source": [
    "def western(lang):\n",
    "    if lang in [\"de\", \"es\", \"fr\", \"it\", \"nl\", \"no\", \"pt\"]:\n",
    "        return True\n",
    "    else:\n",
    "        return False"
   ]
  },
  {
   "cell_type": "code",
   "execution_count": 108,
   "id": "53bc7437-3bf9-432e-8a01-65c9da255b46",
   "metadata": {},
   "outputs": [],
   "source": [
    "western_y_true = []\n",
    "western_y_pred = []\n",
    "non_western_y_true = []\n",
    "non_western_y_pred = []\n",
    "for i in range(50):\n",
    "    if western(df_x_fact['language'][i]):\n",
    "        western_y_true.append(conservative_true(df_x_fact['label'][i]))\n",
    "        western_y_pred.append(y_pred_binary_prompt_1[i])\n",
    "    else:\n",
    "        non_western_y_true.append(conservative_true(df_x_fact['label'][i]))\n",
    "        non_western_y_pred.append(y_pred_binary_prompt_1[i])"
   ]
  },
  {
   "cell_type": "code",
   "execution_count": 109,
   "id": "5cf3f385-050c-41d8-b322-20528a6bc35e",
   "metadata": {},
   "outputs": [
    {
     "name": "stdout",
     "output_type": "stream",
     "text": [
      "              precision    recall  f1-score   support\n",
      "\n",
      "           0       0.92      0.73      0.81        15\n",
      "           1       0.33      0.67      0.44         3\n",
      "\n",
      "    accuracy                           0.72        18\n",
      "   macro avg       0.62      0.70      0.63        18\n",
      "weighted avg       0.82      0.72      0.75        18\n",
      "\n"
     ]
    }
   ],
   "source": [
    "print(classification_report(western_y_true, western_y_pred))"
   ]
  },
  {
   "cell_type": "code",
   "execution_count": 110,
   "id": "fe99487f-2d33-4876-b252-c4733eafdc04",
   "metadata": {},
   "outputs": [
    {
     "name": "stdout",
     "output_type": "stream",
     "text": [
      "              precision    recall  f1-score   support\n",
      "\n",
      "           0       0.93      0.61      0.74        23\n",
      "           1       0.47      0.89      0.62         9\n",
      "\n",
      "    accuracy                           0.69        32\n",
      "   macro avg       0.70      0.75      0.68        32\n",
      "weighted avg       0.80      0.69      0.70        32\n",
      "\n"
     ]
    }
   ],
   "source": [
    "print(classification_report(non_western_y_true, non_western_y_pred))"
   ]
  },
  {
   "cell_type": "markdown",
   "id": "03a29912-da68-4f00-9138-8156b7856c54",
   "metadata": {},
   "source": [
    "### Small vs Large Models"
   ]
  },
  {
   "cell_type": "code",
   "execution_count": 111,
   "id": "80610bcf-49de-4095-ad10-2ef01b6ba345",
   "metadata": {},
   "outputs": [],
   "source": [
    "def small(lang):\n",
    "    if lang in [\"no\", \"nl\", \"pl\", \"ro\", \"sr\", \"sq\", \"az\", \"ka\", \"si\"]:\n",
    "        return True\n",
    "    else: return False"
   ]
  },
  {
   "cell_type": "code",
   "execution_count": 112,
   "id": "c34ce910-7326-4020-96b4-e4aa686d5f27",
   "metadata": {},
   "outputs": [],
   "source": [
    "small_y_true = []\n",
    "small_y_pred = []\n",
    "large_y_true = []\n",
    "large_y_pred = []\n",
    "for i in range(50):\n",
    "    if small(df_x_fact['language'][i]):\n",
    "        small_y_true.append(conservative_true(df_x_fact['label'][i]))\n",
    "        small_y_pred.append(y_pred_binary_prompt_1[i])\n",
    "    else:\n",
    "        large_y_true.append(conservative_true(df_x_fact['label'][i]))\n",
    "        large_y_pred.append(y_pred_binary_prompt_1[i])"
   ]
  },
  {
   "cell_type": "code",
   "execution_count": 113,
   "id": "7a3be6c3-8c43-42d9-afc8-52c2c4d53de3",
   "metadata": {},
   "outputs": [
    {
     "name": "stdout",
     "output_type": "stream",
     "text": [
      "              precision    recall  f1-score   support\n",
      "\n",
      "           0       0.83      0.83      0.83         6\n",
      "           1       0.86      0.86      0.86         7\n",
      "\n",
      "    accuracy                           0.85        13\n",
      "   macro avg       0.85      0.85      0.85        13\n",
      "weighted avg       0.85      0.85      0.85        13\n",
      "\n"
     ]
    }
   ],
   "source": [
    "print(classification_report(small_y_true, small_y_pred))"
   ]
  },
  {
   "cell_type": "code",
   "execution_count": 114,
   "id": "9e75c941-8352-4651-8e46-5f3565c6aa2e",
   "metadata": {},
   "outputs": [
    {
     "name": "stdout",
     "output_type": "stream",
     "text": [
      "              precision    recall  f1-score   support\n",
      "\n",
      "           0       0.95      0.62      0.75        32\n",
      "           1       0.25      0.80      0.38         5\n",
      "\n",
      "    accuracy                           0.65        37\n",
      "   macro avg       0.60      0.71      0.57        37\n",
      "weighted avg       0.86      0.65      0.70        37\n",
      "\n"
     ]
    }
   ],
   "source": [
    "print(classification_report(large_y_true, large_y_pred))"
   ]
  },
  {
   "cell_type": "markdown",
   "id": "f151b87a-d572-4aa5-aeba-1ffb5565c3c6",
   "metadata": {},
   "source": [
    "### Mumin Trawl Dataset"
   ]
  },
  {
   "cell_type": "code",
   "execution_count": 33,
   "id": "571baa87-830e-4f81-8035-0117befc8b74",
   "metadata": {},
   "outputs": [],
   "source": [
    "df_mumin = pd.read_csv(\"../data/mumin_trawl_dataset/verdict_annotations.csv\")"
   ]
  },
  {
   "cell_type": "code",
   "execution_count": 34,
   "id": "f65f3a09-e00c-4bd1-b071-49f57a7206d3",
   "metadata": {},
   "outputs": [
    {
     "data": {
      "text/html": [
       "<div>\n",
       "<style scoped>\n",
       "    .dataframe tbody tr th:only-of-type {\n",
       "        vertical-align: middle;\n",
       "    }\n",
       "\n",
       "    .dataframe tbody tr th {\n",
       "        vertical-align: top;\n",
       "    }\n",
       "\n",
       "    .dataframe thead th {\n",
       "        text-align: right;\n",
       "    }\n",
       "</style>\n",
       "<table border=\"1\" class=\"dataframe\">\n",
       "  <thead>\n",
       "    <tr style=\"text-align: right;\">\n",
       "      <th></th>\n",
       "      <th>verdict</th>\n",
       "      <th>claim</th>\n",
       "      <th>date</th>\n",
       "      <th>source</th>\n",
       "      <th>reviewer</th>\n",
       "      <th>language</th>\n",
       "      <th>raw_verdict</th>\n",
       "      <th>raw_verdict_en</th>\n",
       "    </tr>\n",
       "  </thead>\n",
       "  <tbody>\n",
       "    <tr>\n",
       "      <th>0</th>\n",
       "      <td>misinformation</td>\n",
       "      <td>Uma suposta citação de Albert Einstein diz que...</td>\n",
       "      <td>2019-03-28T19:22:09Z</td>\n",
       "      <td>NaN</td>\n",
       "      <td>poligrafo.sapo.pt</td>\n",
       "      <td>pt</td>\n",
       "      <td>Pimenta na Língua</td>\n",
       "      <td>Pepper on the tongue</td>\n",
       "    </tr>\n",
       "    <tr>\n",
       "      <th>1</th>\n",
       "      <td>misinformation</td>\n",
       "      <td>İskoçya'dan Türkiye'ye uzanan 12 bin yıllık gi...</td>\n",
       "      <td>2017-06-03T00:00:00Z</td>\n",
       "      <td>Biliyomuydun</td>\n",
       "      <td>teyit.org</td>\n",
       "      <td>tr</td>\n",
       "      <td>Karma</td>\n",
       "      <td>Karma</td>\n",
       "    </tr>\n",
       "    <tr>\n",
       "      <th>2</th>\n",
       "      <td>misinformation</td>\n",
       "      <td>Une analyse anti-Macron de Natacha Polony</td>\n",
       "      <td>2020-06-09T00:00:00Z</td>\n",
       "      <td>Sources multiples</td>\n",
       "      <td>factuel.afp.com</td>\n",
       "      <td>fr</td>\n",
       "      <td>Attention</td>\n",
       "      <td>Attention</td>\n",
       "    </tr>\n",
       "    <tr>\n",
       "      <th>3</th>\n",
       "      <td>misinformation</td>\n",
       "      <td>W Polsce zmarło 1670 osób zaszczepionych przec...</td>\n",
       "      <td>2021-04-15T00:00:00Z</td>\n",
       "      <td>NaN</td>\n",
       "      <td>sprawdzam.afp.com</td>\n",
       "      <td>pl</td>\n",
       "      <td>Brakujący kontekst</td>\n",
       "      <td>Missing context</td>\n",
       "    </tr>\n",
       "    <tr>\n",
       "      <th>4</th>\n",
       "      <td>misinformation</td>\n",
       "      <td>مدينة البدقية على شكل قلب</td>\n",
       "      <td>NaN</td>\n",
       "      <td>NaN</td>\n",
       "      <td>verify-sy.com</td>\n",
       "      <td>ar</td>\n",
       "      <td>Mostly false</td>\n",
       "      <td>Mostly false</td>\n",
       "    </tr>\n",
       "  </tbody>\n",
       "</table>\n",
       "</div>"
      ],
      "text/plain": [
       "          verdict                                              claim  \\\n",
       "0  misinformation  Uma suposta citação de Albert Einstein diz que...   \n",
       "1  misinformation  İskoçya'dan Türkiye'ye uzanan 12 bin yıllık gi...   \n",
       "2  misinformation          Une analyse anti-Macron de Natacha Polony   \n",
       "3  misinformation  W Polsce zmarło 1670 osób zaszczepionych przec...   \n",
       "4  misinformation                          مدينة البدقية على شكل قلب   \n",
       "\n",
       "                   date             source           reviewer language  \\\n",
       "0  2019-03-28T19:22:09Z                NaN  poligrafo.sapo.pt       pt   \n",
       "1  2017-06-03T00:00:00Z       Biliyomuydun          teyit.org       tr   \n",
       "2  2020-06-09T00:00:00Z  Sources multiples    factuel.afp.com       fr   \n",
       "3  2021-04-15T00:00:00Z                NaN  sprawdzam.afp.com       pl   \n",
       "4                   NaN                NaN      verify-sy.com       ar   \n",
       "\n",
       "          raw_verdict        raw_verdict_en  \n",
       "0   Pimenta na Língua  Pepper on the tongue  \n",
       "1               Karma                 Karma  \n",
       "2           Attention             Attention  \n",
       "3  Brakujący kontekst       Missing context  \n",
       "4        Mostly false          Mostly false  "
      ]
     },
     "execution_count": 34,
     "metadata": {},
     "output_type": "execute_result"
    }
   ],
   "source": [
    "df_mumin.head()"
   ]
  },
  {
   "cell_type": "code",
   "execution_count": 37,
   "id": "b85d6141-e541-4042-b929-d857f965c23b",
   "metadata": {},
   "outputs": [
    {
     "name": "stdout",
     "output_type": "stream",
     "text": [
      "(906,)\n"
     ]
    }
   ],
   "source": [
    "mumin_claims = df_mumin[\"claim\"].values\n",
    "print(mumin_claims.shape)"
   ]
  },
  {
   "cell_type": "code",
   "execution_count": 39,
   "id": "9c0c2b39-bc75-4b26-a639-125e1ffa69e1",
   "metadata": {},
   "outputs": [
    {
     "name": "stdout",
     "output_type": "stream",
     "text": [
      "(906,)\n"
     ]
    }
   ],
   "source": [
    "mumin_labels = df_mumin[\"verdict\"].values\n",
    "print(mumin_labels.shape)"
   ]
  }
 ],
 "metadata": {
  "kernelspec": {
   "display_name": "Python 3 (ipykernel)",
   "language": "python",
   "name": "python3"
  },
  "language_info": {
   "codemirror_mode": {
    "name": "ipython",
    "version": 3
   },
   "file_extension": ".py",
   "mimetype": "text/x-python",
   "name": "python",
   "nbconvert_exporter": "python",
   "pygments_lexer": "ipython3",
   "version": "3.11.4"
  }
 },
 "nbformat": 4,
 "nbformat_minor": 5
}
