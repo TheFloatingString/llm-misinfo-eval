{
 "cells": [
  {
   "cell_type": "markdown",
   "metadata": {},
   "source": [
    "# Load in the data - X-Fact"
   ]
  },
  {
   "cell_type": "code",
   "execution_count": null,
   "metadata": {},
   "outputs": [],
   "source": [
    "import pandas as pd\n",
    "import os\n",
    "os.chdir(r'C:\\Users\\annal\\OneDrive\\Desktop\\llm-misinfo-eval\\data')  #this line is what I've been using to solve a no such directory error - copy paste the path of data folder\n",
    "df = pd.read_csv(r\"x_fact_dataset/x-fact-including-en/zeroshot.tsv\", delimiter=\"\\t\", on_bad_lines=\"skip\")\n",
    "#TODO read in right csv!"
   ]
  },
  {
   "cell_type": "markdown",
   "metadata": {},
   "source": [
    "# Get results from GPT"
   ]
  },
  {
   "cell_type": "code",
   "execution_count": null,
   "metadata": {},
   "outputs": [],
   "source": [
    "OPENAI_API_KEY=\"Get your API key at this link: https://platform.openai.com/api-keys\""
   ]
  },
  {
   "cell_type": "code",
   "execution_count": null,
   "metadata": {},
   "outputs": [],
   "source": [
    "import time\n",
    "from tqdm import trange\n",
    "\n",
    "openai_resp = []\n",
    "\n",
    "for i in trange(20):\n",
    "    tmp = {\"openai_resp\":None, \"index\":i, \"label\":df[\"label\"][i]}\n",
    "    claim = df[\"claim\"][i]\n",
    "    completion = client.chat.completions.create(\n",
    "      model=\"gpt-3.5-turbo\",\n",
    "      messages=[\n",
    "        {\"role\": \"user\", \"content\": f\"Rate the truthfulness of the following statement: “{claim}” Provide a score from 0 to 100, where 0 represents definitively false and 100 represents definitively true. Do not provide any explanations, only respond with the numerical score.\"}\n",
    "      ]\n",
    "    )\n",
    "    tmp[\"openai_resp\"] = completion.choices[0].message.content\n",
    "    openai_resp.append(tmp)\n",
    "    time.sleep(1)"
   ]
  },
  {
   "cell_type": "markdown",
   "metadata": {},
   "source": [
    "# Saving GPT's Responses to CSV"
   ]
  },
  {
   "cell_type": "code",
   "execution_count": null,
   "metadata": {},
   "outputs": [],
   "source": [
    "df_results = pd.DataFrame(openai_resp)\n",
    "df_results.to_csv(\"openai_results\", sep=',', index=False, encoding='utf-8')"
   ]
  }
 ],
 "metadata": {
  "language_info": {
   "name": "python"
  }
 },
 "nbformat": 4,
 "nbformat_minor": 2
}
