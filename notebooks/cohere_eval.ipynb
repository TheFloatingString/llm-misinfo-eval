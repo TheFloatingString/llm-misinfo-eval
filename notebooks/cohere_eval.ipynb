{
 "cells": [
  {
   "cell_type": "markdown",
   "metadata": {},
   "source": [
    "# Load in the data - X-Fact"
   ]
  },
  {
   "cell_type": "code",
   "execution_count": 4,
   "metadata": {},
   "outputs": [],
   "source": [
    "import pandas as pd\n",
    "import os\n",
    "os.chdir(r'C:\\Users\\annal\\OneDrive\\Desktop\\llm-misinfo-eval\\data')  #this line is what I've been using to solve a no such directory error - copy paste the path of data folder\n",
    "df = pd.read_csv(r\"x_fact_dataset/x-fact-including-en/train.all.tsv\", delimiter=\"\\t\", on_bad_lines=\"skip\")\n",
    "\n"
   ]
  },
  {
   "cell_type": "markdown",
   "metadata": {},
   "source": [
    "# Get results from Cohere"
   ]
  },
  {
   "cell_type": "code",
   "execution_count": 21,
   "metadata": {},
   "outputs": [],
   "source": [
    "import cohere\n",
    "from dotenv import load_dotenv\n",
    "load_dotenv(r'C:\\Users\\annal\\OneDrive\\Desktop\\llm-misinfo-eval\\cohere.env')\n",
    "key = os.getenv('Cohere_API_Key')\n",
    "co = cohere.Client(key) "
   ]
  },
  {
   "cell_type": "code",
   "execution_count": 22,
   "metadata": {},
   "outputs": [
    {
     "name": "stderr",
     "output_type": "stream",
     "text": [
      "100%|██████████| 1000/1000 [2:14:35<00:00,  8.08s/it] \n"
     ]
    }
   ],
   "source": [
    "import time\n",
    "from tqdm import trange\n",
    "\n",
    "cohere_resp = []\n",
    "\n",
    "for i in trange(1000):\n",
    "    tmp = {\"cohere_resp\":None, \"index\":i, \"label\":df[\"label\"][i]}\n",
    "    claim = df[\"claim\"][i]\n",
    "    try:\n",
    "        response = co.chat(\n",
    "            message=f\"Rate the truthfulness of the following statement: {claim} Provide a score from 0 to 100, where 0 represents definitively false and 100 represents definitively true. Do not provide any explanations, only respond with the numerical score.\",\n",
    "            connectors=[{\"id\": \"web-search\"}]\n",
    "        )\n",
    "        tmp[\"cohere_resp\"] = response.text\n",
    "        cohere_resp.append(tmp)\n",
    "    except cohere.CohereAPIError: #looks like we got an error because there were too many tokens in a query, so i'm going to just bypass such cases\n",
    "        #alternatively: the default is a model with max 4096 tokens, but we could go up to 8192 (however, those models are less stable)\n",
    "        continue\n",
    "    time.sleep(1)"
   ]
  },
  {
   "cell_type": "code",
   "execution_count": 23,
   "metadata": {},
   "outputs": [
    {
     "name": "stdout",
     "output_type": "stream",
     "text": [
      "<class 'pandas.core.frame.DataFrame'>\n",
      "RangeIndex: 996 entries, 0 to 995\n",
      "Data columns (total 3 columns):\n",
      " #   Column       Non-Null Count  Dtype \n",
      "---  ------       --------------  ----- \n",
      " 0   cohere_resp  996 non-null    object\n",
      " 1   index        996 non-null    int64 \n",
      " 2   label        987 non-null    object\n",
      "dtypes: int64(1), object(2)\n",
      "memory usage: 23.5+ KB\n"
     ]
    },
    {
     "data": {
      "text/html": [
       "<div>\n",
       "<style scoped>\n",
       "    .dataframe tbody tr th:only-of-type {\n",
       "        vertical-align: middle;\n",
       "    }\n",
       "\n",
       "    .dataframe tbody tr th {\n",
       "        vertical-align: top;\n",
       "    }\n",
       "\n",
       "    .dataframe thead th {\n",
       "        text-align: right;\n",
       "    }\n",
       "</style>\n",
       "<table border=\"1\" class=\"dataframe\">\n",
       "  <thead>\n",
       "    <tr style=\"text-align: right;\">\n",
       "      <th></th>\n",
       "      <th>cohere_resp</th>\n",
       "      <th>index</th>\n",
       "      <th>label</th>\n",
       "    </tr>\n",
       "  </thead>\n",
       "  <tbody>\n",
       "    <tr>\n",
       "      <th>991</th>\n",
       "      <td>85</td>\n",
       "      <td>995</td>\n",
       "      <td>partly true/misleading</td>\n",
       "    </tr>\n",
       "    <tr>\n",
       "      <th>992</th>\n",
       "      <td>95</td>\n",
       "      <td>996</td>\n",
       "      <td>partly true/misleading</td>\n",
       "    </tr>\n",
       "    <tr>\n",
       "      <th>993</th>\n",
       "      <td>95</td>\n",
       "      <td>997</td>\n",
       "      <td>false</td>\n",
       "    </tr>\n",
       "    <tr>\n",
       "      <th>994</th>\n",
       "      <td>This statement is mostly true, albeit with som...</td>\n",
       "      <td>998</td>\n",
       "      <td>complicated/hard to categorise</td>\n",
       "    </tr>\n",
       "    <tr>\n",
       "      <th>995</th>\n",
       "      <td>84</td>\n",
       "      <td>999</td>\n",
       "      <td>partly true/misleading</td>\n",
       "    </tr>\n",
       "  </tbody>\n",
       "</table>\n",
       "</div>"
      ],
      "text/plain": [
       "                                           cohere_resp  index  \\\n",
       "991                                                 85    995   \n",
       "992                                                 95    996   \n",
       "993                                                 95    997   \n",
       "994  This statement is mostly true, albeit with som...    998   \n",
       "995                                                 84    999   \n",
       "\n",
       "                              label  \n",
       "991          partly true/misleading  \n",
       "992          partly true/misleading  \n",
       "993                           false  \n",
       "994  complicated/hard to categorise  \n",
       "995          partly true/misleading  "
      ]
     },
     "execution_count": 23,
     "metadata": {},
     "output_type": "execute_result"
    }
   ],
   "source": [
    "import termcolor\n",
    "df_results0 = pd.DataFrame(cohere_resp)\n",
    "df_results0.info()\n",
    "df_results0.tail()\n",
    "\n",
    "# for i in range(df_results0.shape[0]):\n",
    "#     print(termcolor.colored(\"Claim language: \", \"green\")+df[\"language\"][i])\n",
    "#     true_label = df_results0[\"label\"][i]\n",
    "#     print(termcolor.colored(\"True label: \",\"magenta\")+ termcolor.colored(true_label,\"magenta\"))\n",
    "#     print(termcolor.colored(\"Zero-Shot Response: \", \"cyan\")+df_results0[\"cohere_resp\"][i])\n",
    "#     print(\"\\n---\\n\")"
   ]
  },
  {
   "cell_type": "markdown",
   "metadata": {},
   "source": [
    "# Saving Cohere's Responses to CSV\n",
    "Don't want to have to repeat the calls to cohere if we want to do more analysis on the same data!"
   ]
  },
  {
   "cell_type": "code",
   "execution_count": 24,
   "metadata": {},
   "outputs": [],
   "source": [
    "df_results0.to_csv(\"cohere_results\", sep=',', index=False, encoding='utf-8')"
   ]
  },
  {
   "cell_type": "markdown",
   "metadata": {},
   "source": [
    "# Recovering Old Results"
   ]
  },
  {
   "cell_type": "code",
   "execution_count": 5,
   "metadata": {},
   "outputs": [],
   "source": [
    "df_results0 = pd.read_csv(r\"cohere_results\", delimiter=\",\", on_bad_lines=\"skip\")"
   ]
  },
  {
   "cell_type": "markdown",
   "metadata": {},
   "source": [
    "# Analysis"
   ]
  },
  {
   "cell_type": "code",
   "execution_count": 6,
   "metadata": {},
   "outputs": [
    {
     "data": {
      "text/html": [
       "<div>\n",
       "<style scoped>\n",
       "    .dataframe tbody tr th:only-of-type {\n",
       "        vertical-align: middle;\n",
       "    }\n",
       "\n",
       "    .dataframe tbody tr th {\n",
       "        vertical-align: top;\n",
       "    }\n",
       "\n",
       "    .dataframe thead th {\n",
       "        text-align: right;\n",
       "    }\n",
       "</style>\n",
       "<table border=\"1\" class=\"dataframe\">\n",
       "  <thead>\n",
       "    <tr style=\"text-align: right;\">\n",
       "      <th></th>\n",
       "      <th>cohere_resp</th>\n",
       "      <th>index</th>\n",
       "      <th>label</th>\n",
       "      <th>simple_truth</th>\n",
       "      <th>cohere_simple</th>\n",
       "      <th>language</th>\n",
       "    </tr>\n",
       "  </thead>\n",
       "  <tbody>\n",
       "    <tr>\n",
       "      <th>0</th>\n",
       "      <td>56</td>\n",
       "      <td>0.0</td>\n",
       "      <td>false</td>\n",
       "      <td>false</td>\n",
       "      <td>true</td>\n",
       "      <td>tr</td>\n",
       "    </tr>\n",
       "    <tr>\n",
       "      <th>1</th>\n",
       "      <td>15</td>\n",
       "      <td>1.0</td>\n",
       "      <td>partly true/misleading</td>\n",
       "      <td>false</td>\n",
       "      <td>false</td>\n",
       "      <td>ka</td>\n",
       "    </tr>\n",
       "    <tr>\n",
       "      <th>2</th>\n",
       "      <td>85</td>\n",
       "      <td>2.0</td>\n",
       "      <td>partly true/misleading</td>\n",
       "      <td>false</td>\n",
       "      <td>true</td>\n",
       "      <td>pt</td>\n",
       "    </tr>\n",
       "    <tr>\n",
       "      <th>3</th>\n",
       "      <td>85</td>\n",
       "      <td>3.0</td>\n",
       "      <td>true</td>\n",
       "      <td>true</td>\n",
       "      <td>true</td>\n",
       "      <td>ka</td>\n",
       "    </tr>\n",
       "    <tr>\n",
       "      <th>4</th>\n",
       "      <td>I'm sorry but I was unable to find any relevan...</td>\n",
       "      <td>4.0</td>\n",
       "      <td>false</td>\n",
       "      <td>false</td>\n",
       "      <td>unknown</td>\n",
       "      <td>id</td>\n",
       "    </tr>\n",
       "  </tbody>\n",
       "</table>\n",
       "</div>"
      ],
      "text/plain": [
       "                                         cohere_resp  index  \\\n",
       "0                                                 56    0.0   \n",
       "1                                                 15    1.0   \n",
       "2                                                 85    2.0   \n",
       "3                                                 85    3.0   \n",
       "4  I'm sorry but I was unable to find any relevan...    4.0   \n",
       "\n",
       "                    label simple_truth cohere_simple language  \n",
       "0                   false        false          true       tr  \n",
       "1  partly true/misleading        false         false       ka  \n",
       "2  partly true/misleading        false          true       pt  \n",
       "3                    true         true          true       ka  \n",
       "4                   false        false       unknown       id  "
      ]
     },
     "execution_count": 6,
     "metadata": {},
     "output_type": "execute_result"
    }
   ],
   "source": [
    "#simplify the truth-value to binary, so we can approximate some accuracy by delineating false as anything below 50\n",
    "def simplify_truth(row):\n",
    "    if row['label'] in ['false', 'mostly false', 'partly true/misleading']:\n",
    "        return 'false'\n",
    "    else:\n",
    "        return 'true'\n",
    "    \n",
    "\n",
    "df_results0['simple_truth'] = df_results0.apply(simplify_truth, axis=1)\n",
    "\n",
    "#simplify cohere response to a binary truth-value\n",
    "def cohere_tv(row):\n",
    "    resp = row['cohere_resp']\n",
    "\n",
    "    try:\n",
    "        resp = float(resp)\n",
    "    except ValueError:\n",
    "        return \"unknown\"\n",
    "    \n",
    "    if resp > 50:\n",
    "        return \"true\"\n",
    "    \n",
    "    else:\n",
    "        return \"false\"\n",
    "    \n",
    "\n",
    "df_results0['cohere_simple'] = df_results0.apply(cohere_tv, axis=1)\n",
    "    \n",
    "#add the language values\n",
    "#df2 = pd.concat([df2, extracted_col.rename(\"Col3_from_df1\")], axis=1)\n",
    "\n",
    "extracted_col = df[\"language\"].head(1000)\n",
    "df_results0 = pd.concat([df_results0, extracted_col.rename(\"language\")], axis=1)\n",
    "\n",
    "df_results0.head()\n"
   ]
  },
  {
   "cell_type": "code",
   "execution_count": 7,
   "metadata": {},
   "outputs": [
    {
     "name": "stderr",
     "output_type": "stream",
     "text": [
      "C:\\Users\\annal\\AppData\\Local\\Temp\\ipykernel_26824\\2377360093.py:16: FutureWarning: The provided callable <function mean at 0x00000199AAA0CE00> is currently using SeriesGroupBy.mean. In a future version of pandas, the provided callable will be used directly. To keep current behavior pass the string \"mean\" instead.\n",
      "  df_simple = df_results0.groupby(\"language\")[\"match\"].agg(np.mean)\n"
     ]
    },
    {
     "data": {
      "text/plain": [
       "<Axes: title={'center': 'Accuracy by Language'}, xlabel='language'>"
      ]
     },
     "execution_count": 7,
     "metadata": {},
     "output_type": "execute_result"
    },
    {
     "data": {
      "image/png": "[encoded data removed]",
      "text/plain": [
       "<Figure size 640x480 with 1 Axes>"
      ]
     },
     "metadata": {},
     "output_type": "display_data"
    }
   ],
   "source": [
    "import numpy as np\n",
    "import matplotlib.pyplot as plt\n",
    "\n",
    "#check if cohere results match, by language\n",
    "\n",
    "#make a new column for whether cohere matches by language\n",
    "def match_tv(row):\n",
    "    if row['simple_truth'] == row['cohere_simple']:\n",
    "        return 1\n",
    "    else:\n",
    "        return 0\n",
    "\n",
    "df_results0['match'] = df_results0.apply(match_tv, axis=1)\n",
    "\n",
    "#1 means everything was right, 0 means everything was wrong (since a 1 was added for a match, a 0 was added otherwise)\n",
    "df_simple = df_results0.groupby(\"language\")[\"match\"].agg(np.mean)\n",
    "\n",
    "df_simple.plot.bar(\"match\", title=\"Accuracy by Language\")\n",
    "\n"
   ]
  },
  {
   "cell_type": "code",
   "execution_count": 17,
   "metadata": {},
   "outputs": [
    {
     "name": "stderr",
     "output_type": "stream",
     "text": [
      "C:\\Users\\annal\\AppData\\Local\\Temp\\ipykernel_26824\\4086466892.py:12: FutureWarning: The provided callable <function mean at 0x00000199AAA0CE00> is currently using SeriesGroupBy.mean. In a future version of pandas, the provided callable will be used directly. To keep current behavior pass the string \"mean\" instead.\n",
      "  df_simple = df_results0.groupby(\"euro\")[\"match\"].agg(np.mean)\n",
      "C:\\Users\\annal\\AppData\\Local\\Temp\\ipykernel_26824\\4086466892.py:21: FutureWarning: The provided callable <function mean at 0x00000199AAA0CE00> is currently using SeriesGroupBy.mean. In a future version of pandas, the provided callable will be used directly. To keep current behavior pass the string \"mean\" instead.\n",
      "  df_western = df_results0.groupby(\"western\")[\"match\"].agg(np.mean)\n"
     ]
    },
    {
     "data": {
      "text/plain": [
       "<Axes: title={'center': 'Accuracy by Western European/Non Western European Language'}, xlabel='euro'>"
      ]
     },
     "execution_count": 17,
     "metadata": {},
     "output_type": "execute_result"
    },
    {
     "data": {
      "image/png": "[encoded data removed]",
      "text/plain": [
       "<Figure size 640x480 with 1 Axes>"
      ]
     },
     "metadata": {},
     "output_type": "display_data"
    }
   ],
   "source": [
    "#make a new column for whether cohere matches by language\n",
    "def euro_or_not(row):\n",
    "    if row['language'] in [\"de\", \"es\", \"fr\", \"it\", \"no\", \"nl\", \"pl\", \"pt\", \"ro\", \"ru\", \"sr\", \"sq\"]: #german, spanish, french, italian, norwegian, dutch, polish\n",
    "        return \"european\"\n",
    "    else: #ar - arabic; az - azerbaijani; bn - bengali; fa - farsi; gu - gujarati; hi - hindi; id - indonesian\n",
    "        #ka - georgian; mr - marathi; pa - punjabi; si - sinhala; ta - tamil; tr - turkish\n",
    "        return \"non-european\"\n",
    "\n",
    "df_results0['euro'] = df_results0.apply(euro_or_not, axis=1)\n",
    "\n",
    "#1 means everything was right, 0 means everything was wrong (since a 1 was added for a match, a 0 was added otherwise)\n",
    "df_simple = df_results0.groupby(\"euro\")[\"match\"].agg(np.mean)\n",
    "\n",
    "def western(row):\n",
    "    if row[\"language\"] in [\"de\", \"es\", \"fr\", \"it\", \"nl\", \"no\", \"pt\"]:\n",
    "        return \"western\"\n",
    "    else:\n",
    "        return \"non-western\"\n",
    "\n",
    "df_results0['western'] = df_results0.apply(western, axis=1)\n",
    "df_western = df_results0.groupby(\"western\")[\"match\"].agg(np.mean)\n",
    "df_simple.plot.bar(\"match\", title=\"Accuracy by Western European/Non Western European Language\")\n",
    "\n",
    "#TODO: try number of speakers to see if smaller languages have worse results"
   ]
  },
  {
   "cell_type": "code",
   "execution_count": 8,
   "metadata": {},
   "outputs": [
    {
     "name": "stderr",
     "output_type": "stream",
     "text": [
      "C:\\Users\\annal\\AppData\\Local\\Temp\\ipykernel_26824\\1302075777.py:10: FutureWarning: The provided callable <function mean at 0x00000199AAA0CE00> is currently using SeriesGroupBy.mean. In a future version of pandas, the provided callable will be used directly. To keep current behavior pass the string \"mean\" instead.\n",
      "  df_understood = df_results0.groupby(\"language\")[\"understood\"].agg(np.mean)\n"
     ]
    },
    {
     "data": {
      "text/plain": [
       "<Axes: title={'center': 'Task Understanding by language'}, xlabel='language'>"
      ]
     },
     "execution_count": 8,
     "metadata": {},
     "output_type": "execute_result"
    },
    {
     "data": {
      "image/png": "[encoded data removed]",
      "text/plain": [
       "<Figure size 640x480 with 1 Axes>"
      ]
     },
     "metadata": {},
     "output_type": "display_data"
    }
   ],
   "source": [
    "#looking at how well cohere understood the task and responded as it was supposed to\n",
    "def task_understood(row):\n",
    "    if row['cohere_simple'] == 'unknown':\n",
    "        return 0\n",
    "    else:\n",
    "        return 1\n",
    "    \n",
    "df_results0['understood'] = df_results0.apply(task_understood, axis=1)\n",
    "\n",
    "df_understood = df_results0.groupby(\"language\")[\"understood\"].agg(np.mean)\n",
    "\n",
    "df_understood.plot.bar(\"understood\", title=\"Task Understanding by language\")"
   ]
  },
  {
   "cell_type": "markdown",
   "metadata": {},
   "source": [
    "# Giving Cohere a little help?\n",
    "In most cases where Cohere doesn't provide a numerical answer, it provides an answer with some explanation (which we didn't want) and the score, usually in a sentence like \"I give this claim a score of...\". Let's try to use that data:"
   ]
  },
  {
   "cell_type": "code",
   "execution_count": 9,
   "metadata": {},
   "outputs": [
    {
     "name": "stderr",
     "output_type": "stream",
     "text": [
      "C:\\Users\\annal\\AppData\\Local\\Temp\\ipykernel_26824\\525987105.py:31: FutureWarning: The provided callable <function mean at 0x00000199AAA0CE00> is currently using DataFrameGroupBy.mean. In a future version of pandas, the provided callable will be used directly. To keep current behavior pass the string \"mean\" instead.\n",
      "  df_simple = df_results0.groupby(\"language\")[[\"match_helped\", \"match\"]].agg(np.mean)\n"
     ]
    },
    {
     "data": {
      "text/html": [
       "<div>\n",
       "<style scoped>\n",
       "    .dataframe tbody tr th:only-of-type {\n",
       "        vertical-align: middle;\n",
       "    }\n",
       "\n",
       "    .dataframe tbody tr th {\n",
       "        vertical-align: top;\n",
       "    }\n",
       "\n",
       "    .dataframe thead th {\n",
       "        text-align: right;\n",
       "    }\n",
       "</style>\n",
       "<table border=\"1\" class=\"dataframe\">\n",
       "  <thead>\n",
       "    <tr style=\"text-align: right;\">\n",
       "      <th></th>\n",
       "      <th>match_helped</th>\n",
       "      <th>match</th>\n",
       "    </tr>\n",
       "    <tr>\n",
       "      <th>language</th>\n",
       "      <th></th>\n",
       "      <th></th>\n",
       "    </tr>\n",
       "  </thead>\n",
       "  <tbody>\n",
       "    <tr>\n",
       "      <th>ar</th>\n",
       "      <td>0.434783</td>\n",
       "      <td>0.434783</td>\n",
       "    </tr>\n",
       "    <tr>\n",
       "      <th>de</th>\n",
       "      <td>0.394737</td>\n",
       "      <td>0.394737</td>\n",
       "    </tr>\n",
       "    <tr>\n",
       "      <th>hi</th>\n",
       "      <td>0.473684</td>\n",
       "      <td>0.456140</td>\n",
       "    </tr>\n",
       "    <tr>\n",
       "      <th>id</th>\n",
       "      <td>0.384615</td>\n",
       "      <td>0.384615</td>\n",
       "    </tr>\n",
       "    <tr>\n",
       "      <th>it</th>\n",
       "      <td>0.436364</td>\n",
       "      <td>0.436364</td>\n",
       "    </tr>\n",
       "    <tr>\n",
       "      <th>ka</th>\n",
       "      <td>0.449438</td>\n",
       "      <td>0.438202</td>\n",
       "    </tr>\n",
       "    <tr>\n",
       "      <th>pl</th>\n",
       "      <td>0.507042</td>\n",
       "      <td>0.507042</td>\n",
       "    </tr>\n",
       "    <tr>\n",
       "      <th>pt</th>\n",
       "      <td>0.477987</td>\n",
       "      <td>0.468553</td>\n",
       "    </tr>\n",
       "    <tr>\n",
       "      <th>ro</th>\n",
       "      <td>0.533333</td>\n",
       "      <td>0.500000</td>\n",
       "    </tr>\n",
       "    <tr>\n",
       "      <th>sr</th>\n",
       "      <td>0.375000</td>\n",
       "      <td>0.375000</td>\n",
       "    </tr>\n",
       "    <tr>\n",
       "      <th>ta</th>\n",
       "      <td>0.457627</td>\n",
       "      <td>0.440678</td>\n",
       "    </tr>\n",
       "    <tr>\n",
       "      <th>tr</th>\n",
       "      <td>0.476190</td>\n",
       "      <td>0.476190</td>\n",
       "    </tr>\n",
       "  </tbody>\n",
       "</table>\n",
       "</div>"
      ],
      "text/plain": [
       "          match_helped     match\n",
       "language                        \n",
       "ar            0.434783  0.434783\n",
       "de            0.394737  0.394737\n",
       "hi            0.473684  0.456140\n",
       "id            0.384615  0.384615\n",
       "it            0.436364  0.436364\n",
       "ka            0.449438  0.438202\n",
       "pl            0.507042  0.507042\n",
       "pt            0.477987  0.468553\n",
       "ro            0.533333  0.500000\n",
       "sr            0.375000  0.375000\n",
       "ta            0.457627  0.440678\n",
       "tr            0.476190  0.476190"
      ]
     },
     "execution_count": 9,
     "metadata": {},
     "output_type": "execute_result"
    }
   ],
   "source": [
    "import re\n",
    "\n",
    "def cohere_tv_help(row):\n",
    "    resp = row['cohere_resp']\n",
    "\n",
    "    try:\n",
    "        resp = float(resp)\n",
    "    except ValueError:\n",
    "        resp_helped = re.findall(r\"(score of )([1-90]+)\", resp) #this is going to cut off decimal points - but do they really matter?\n",
    "        if resp_helped == []:\n",
    "            return 'unknown'\n",
    "        (x, score)= resp_helped[0] #really we should only see one, and we need to look at the second element of the pattern(which should be the score\n",
    "        resp = float(score)\n",
    "        \n",
    "    \n",
    "    if resp > 50:\n",
    "        return \"true\"\n",
    "    \n",
    "    else:\n",
    "        return \"false\"\n",
    "    \n",
    "df_results0['cohere_simple_helped'] = df_results0.apply(cohere_tv_help, axis=1)\n",
    "    \n",
    "def match_tv_helped(row):\n",
    "    if row['simple_truth'] == row['cohere_simple_helped']:\n",
    "        return 1\n",
    "    else:\n",
    "        return 0\n",
    "\n",
    "df_results0['match_helped'] = df_results0.apply(match_tv_helped, axis=1)\n",
    "df_simple = df_results0.groupby(\"language\")[[\"match_helped\", \"match\"]].agg(np.mean)\n",
    "\n",
    "df_simple.head(50) #we don't appear to be seeing any meaningful change in accuracy - but was there a change in understanding?"
   ]
  },
  {
   "cell_type": "code",
   "execution_count": 15,
   "metadata": {},
   "outputs": [
    {
     "name": "stderr",
     "output_type": "stream",
     "text": [
      "C:\\Users\\annal\\AppData\\Local\\Temp\\ipykernel_26824\\1819495573.py:10: FutureWarning: The provided callable <function mean at 0x00000199AAA0CE00> is currently using DataFrameGroupBy.mean. In a future version of pandas, the provided callable will be used directly. To keep current behavior pass the string \"mean\" instead.\n",
      "  df_understood = df_results0.groupby(\"language\")[[\"understood\", \"understood_help\", \"match\", \"match_helped\"]].agg(np.mean)\n"
     ]
    },
    {
     "data": {
      "text/html": [
       "<div>\n",
       "<style scoped>\n",
       "    .dataframe tbody tr th:only-of-type {\n",
       "        vertical-align: middle;\n",
       "    }\n",
       "\n",
       "    .dataframe tbody tr th {\n",
       "        vertical-align: top;\n",
       "    }\n",
       "\n",
       "    .dataframe thead th {\n",
       "        text-align: right;\n",
       "    }\n",
       "</style>\n",
       "<table border=\"1\" class=\"dataframe\">\n",
       "  <thead>\n",
       "    <tr style=\"text-align: right;\">\n",
       "      <th></th>\n",
       "      <th>understood</th>\n",
       "      <th>understood_help</th>\n",
       "      <th>match</th>\n",
       "      <th>match_helped</th>\n",
       "    </tr>\n",
       "    <tr>\n",
       "      <th>language</th>\n",
       "      <th></th>\n",
       "      <th></th>\n",
       "      <th></th>\n",
       "      <th></th>\n",
       "    </tr>\n",
       "  </thead>\n",
       "  <tbody>\n",
       "    <tr>\n",
       "      <th>ar</th>\n",
       "      <td>0.913043</td>\n",
       "      <td>0.913043</td>\n",
       "      <td>0.434783</td>\n",
       "      <td>0.434783</td>\n",
       "    </tr>\n",
       "    <tr>\n",
       "      <th>de</th>\n",
       "      <td>1.000000</td>\n",
       "      <td>1.000000</td>\n",
       "      <td>0.394737</td>\n",
       "      <td>0.394737</td>\n",
       "    </tr>\n",
       "    <tr>\n",
       "      <th>hi</th>\n",
       "      <td>0.894737</td>\n",
       "      <td>0.912281</td>\n",
       "      <td>0.456140</td>\n",
       "      <td>0.473684</td>\n",
       "    </tr>\n",
       "    <tr>\n",
       "      <th>id</th>\n",
       "      <td>0.931624</td>\n",
       "      <td>0.931624</td>\n",
       "      <td>0.384615</td>\n",
       "      <td>0.384615</td>\n",
       "    </tr>\n",
       "    <tr>\n",
       "      <th>it</th>\n",
       "      <td>0.945455</td>\n",
       "      <td>0.963636</td>\n",
       "      <td>0.436364</td>\n",
       "      <td>0.436364</td>\n",
       "    </tr>\n",
       "    <tr>\n",
       "      <th>ka</th>\n",
       "      <td>0.842697</td>\n",
       "      <td>0.865169</td>\n",
       "      <td>0.438202</td>\n",
       "      <td>0.449438</td>\n",
       "    </tr>\n",
       "    <tr>\n",
       "      <th>pl</th>\n",
       "      <td>0.901408</td>\n",
       "      <td>0.929577</td>\n",
       "      <td>0.507042</td>\n",
       "      <td>0.507042</td>\n",
       "    </tr>\n",
       "    <tr>\n",
       "      <th>pt</th>\n",
       "      <td>0.955975</td>\n",
       "      <td>0.977987</td>\n",
       "      <td>0.468553</td>\n",
       "      <td>0.477987</td>\n",
       "    </tr>\n",
       "    <tr>\n",
       "      <th>ro</th>\n",
       "      <td>0.933333</td>\n",
       "      <td>0.966667</td>\n",
       "      <td>0.500000</td>\n",
       "      <td>0.533333</td>\n",
       "    </tr>\n",
       "    <tr>\n",
       "      <th>sr</th>\n",
       "      <td>0.937500</td>\n",
       "      <td>0.937500</td>\n",
       "      <td>0.375000</td>\n",
       "      <td>0.375000</td>\n",
       "    </tr>\n",
       "    <tr>\n",
       "      <th>ta</th>\n",
       "      <td>0.915254</td>\n",
       "      <td>0.949153</td>\n",
       "      <td>0.440678</td>\n",
       "      <td>0.457627</td>\n",
       "    </tr>\n",
       "    <tr>\n",
       "      <th>tr</th>\n",
       "      <td>1.000000</td>\n",
       "      <td>1.000000</td>\n",
       "      <td>0.476190</td>\n",
       "      <td>0.476190</td>\n",
       "    </tr>\n",
       "  </tbody>\n",
       "</table>\n",
       "</div>"
      ],
      "text/plain": [
       "          understood  understood_help     match  match_helped\n",
       "language                                                     \n",
       "ar          0.913043         0.913043  0.434783      0.434783\n",
       "de          1.000000         1.000000  0.394737      0.394737\n",
       "hi          0.894737         0.912281  0.456140      0.473684\n",
       "id          0.931624         0.931624  0.384615      0.384615\n",
       "it          0.945455         0.963636  0.436364      0.436364\n",
       "ka          0.842697         0.865169  0.438202      0.449438\n",
       "pl          0.901408         0.929577  0.507042      0.507042\n",
       "pt          0.955975         0.977987  0.468553      0.477987\n",
       "ro          0.933333         0.966667  0.500000      0.533333\n",
       "sr          0.937500         0.937500  0.375000      0.375000\n",
       "ta          0.915254         0.949153  0.440678      0.457627\n",
       "tr          1.000000         1.000000  0.476190      0.476190"
      ]
     },
     "execution_count": 15,
     "metadata": {},
     "output_type": "execute_result"
    }
   ],
   "source": [
    "#looking at how well cohere understood the task and responded as it was supposed to\n",
    "def task_understood_help(row):\n",
    "    if row['cohere_simple_helped'] == 'unknown':\n",
    "        return 0\n",
    "    else:\n",
    "        return 1\n",
    "    \n",
    "df_results0['understood_help'] = df_results0.apply(task_understood_help, axis=1)\n",
    "\n",
    "df_understood = df_results0.groupby(\"language\")[[\"understood\", \"understood_help\", \"match\", \"match_helped\"]].agg(np.mean)\n",
    "\n",
    "df_understood.head(50) #we can now see a change in understanding! so we are seeing that for some languages (ka, pl, pt, ro, tr), there is a change in understanding (ie we extracted a score), but no change in accuracy (ie that score was wrong)\n",
    "#in fact, all languages that had to be \"helped\" were wrong in their predictions\n",
    "#df_understood.plot.bar(\"understood_help\", title=\"Task Understanding by language after help\")"
   ]
  }
 ],
 "metadata": {
  "kernelspec": {
   "display_name": "Python 3",
   "language": "python",
   "name": "python3"
  },
  "language_info": {
   "codemirror_mode": {
    "name": "ipython",
    "version": 3
   },
   "file_extension": ".py",
   "mimetype": "text/x-python",
   "name": "python",
   "nbconvert_exporter": "python",
   "pygments_lexer": "ipython3",
   "version": "3.11.5"
  }
 },
 "nbformat": 4,
 "nbformat_minor": 2
}
