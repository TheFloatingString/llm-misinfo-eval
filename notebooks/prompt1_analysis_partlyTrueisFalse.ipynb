{
 "cells": [
  {
   "cell_type": "code",
   "execution_count": 1,
   "metadata": {},
   "outputs": [],
   "source": [
    "import json\n",
    "with open('prompt1.json', 'r') as file:\n",
    "    openai_resp = json.load(file)"
   ]
  },
  {
   "cell_type": "code",
   "execution_count": 2,
   "metadata": {},
   "outputs": [],
   "source": [
    "import pandas as pd\n",
    "openai_resp=pd.DataFrame(openai_resp)"
   ]
  },
  {
   "cell_type": "code",
   "execution_count": 3,
   "metadata": {},
   "outputs": [
    {
     "data": {
      "text/plain": [
       "label\n",
       "false                             377\n",
       "partly true/misleading            249\n",
       "true                              205\n",
       "mostly true                        71\n",
       "mostly false                       51\n",
       "complicated/hard to categorise     24\n",
       "other                              14\n",
       "Name: count, dtype: int64"
      ]
     },
     "execution_count": 3,
     "metadata": {},
     "output_type": "execute_result"
    }
   ],
   "source": [
    "openai_resp[\"label\"].value_counts()"
   ]
  },
  {
   "cell_type": "code",
   "execution_count": 4,
   "metadata": {},
   "outputs": [
    {
     "data": {
      "text/html": [
       "<div>\n",
       "<style scoped>\n",
       "    .dataframe tbody tr th:only-of-type {\n",
       "        vertical-align: middle;\n",
       "    }\n",
       "\n",
       "    .dataframe tbody tr th {\n",
       "        vertical-align: top;\n",
       "    }\n",
       "\n",
       "    .dataframe thead th {\n",
       "        text-align: right;\n",
       "    }\n",
       "</style>\n",
       "<table border=\"1\" class=\"dataframe\">\n",
       "  <thead>\n",
       "    <tr style=\"text-align: right;\">\n",
       "      <th></th>\n",
       "      <th>openai_resp</th>\n",
       "      <th>index</th>\n",
       "      <th>label</th>\n",
       "      <th>language</th>\n",
       "    </tr>\n",
       "  </thead>\n",
       "  <tbody>\n",
       "    <tr>\n",
       "      <th>0</th>\n",
       "      <td>50</td>\n",
       "      <td>0</td>\n",
       "      <td>false</td>\n",
       "      <td>tr</td>\n",
       "    </tr>\n",
       "    <tr>\n",
       "      <th>1</th>\n",
       "      <td>50</td>\n",
       "      <td>1</td>\n",
       "      <td>partly true/misleading</td>\n",
       "      <td>ka</td>\n",
       "    </tr>\n",
       "    <tr>\n",
       "      <th>2</th>\n",
       "      <td>50</td>\n",
       "      <td>2</td>\n",
       "      <td>partly true/misleading</td>\n",
       "      <td>pt</td>\n",
       "    </tr>\n",
       "    <tr>\n",
       "      <th>3</th>\n",
       "      <td>50</td>\n",
       "      <td>3</td>\n",
       "      <td>true</td>\n",
       "      <td>ka</td>\n",
       "    </tr>\n",
       "    <tr>\n",
       "      <th>4</th>\n",
       "      <td>50</td>\n",
       "      <td>4</td>\n",
       "      <td>false</td>\n",
       "      <td>id</td>\n",
       "    </tr>\n",
       "    <tr>\n",
       "      <th>...</th>\n",
       "      <td>...</td>\n",
       "      <td>...</td>\n",
       "      <td>...</td>\n",
       "      <td>...</td>\n",
       "    </tr>\n",
       "    <tr>\n",
       "      <th>995</th>\n",
       "      <td>85</td>\n",
       "      <td>995</td>\n",
       "      <td>partly true/misleading</td>\n",
       "      <td>ar</td>\n",
       "    </tr>\n",
       "    <tr>\n",
       "      <th>996</th>\n",
       "      <td>0</td>\n",
       "      <td>996</td>\n",
       "      <td>partly true/misleading</td>\n",
       "      <td>ta</td>\n",
       "    </tr>\n",
       "    <tr>\n",
       "      <th>997</th>\n",
       "      <td>50</td>\n",
       "      <td>997</td>\n",
       "      <td>false</td>\n",
       "      <td>pt</td>\n",
       "    </tr>\n",
       "    <tr>\n",
       "      <th>998</th>\n",
       "      <td>100</td>\n",
       "      <td>998</td>\n",
       "      <td>complicated/hard to categorise</td>\n",
       "      <td>pt</td>\n",
       "    </tr>\n",
       "    <tr>\n",
       "      <th>999</th>\n",
       "      <td>50</td>\n",
       "      <td>999</td>\n",
       "      <td>partly true/misleading</td>\n",
       "      <td>it</td>\n",
       "    </tr>\n",
       "  </tbody>\n",
       "</table>\n",
       "<p>1000 rows × 4 columns</p>\n",
       "</div>"
      ],
      "text/plain": [
       "    openai_resp  index                           label language\n",
       "0            50      0                           false       tr\n",
       "1            50      1          partly true/misleading       ka\n",
       "2            50      2          partly true/misleading       pt\n",
       "3            50      3                            true       ka\n",
       "4            50      4                           false       id\n",
       "..          ...    ...                             ...      ...\n",
       "995          85    995          partly true/misleading       ar\n",
       "996           0    996          partly true/misleading       ta\n",
       "997          50    997                           false       pt\n",
       "998         100    998  complicated/hard to categorise       pt\n",
       "999          50    999          partly true/misleading       it\n",
       "\n",
       "[1000 rows x 4 columns]"
      ]
     },
     "execution_count": 4,
     "metadata": {},
     "output_type": "execute_result"
    }
   ],
   "source": [
    "openai_resp"
   ]
  },
  {
   "cell_type": "markdown",
   "metadata": {},
   "source": [
    "#Simplify labels\n",
    "(partly true is assumed false)"
   ]
  },
  {
   "cell_type": "code",
   "execution_count": 5,
   "metadata": {},
   "outputs": [],
   "source": [
    "#remove other and complicated labels \n",
    "openai_resp = openai_resp[~openai_resp['label'].isin(['complicated/hard to categorise', 'other'])]\n"
   ]
  },
  {
   "cell_type": "code",
   "execution_count": 6,
   "metadata": {},
   "outputs": [
    {
     "name": "stderr",
     "output_type": "stream",
     "text": [
      "/var/folders/jb/bp2_sgws1t95lzb193lt3s_w0000gn/T/ipykernel_24484/813761942.py:8: SettingWithCopyWarning: \n",
      "A value is trying to be set on a copy of a slice from a DataFrame.\n",
      "Try using .loc[row_indexer,col_indexer] = value instead\n",
      "\n",
      "See the caveats in the documentation: https://pandas.pydata.org/pandas-docs/stable/user_guide/indexing.html#returning-a-view-versus-a-copy\n",
      "  openai_resp['simple_truth'] = openai_resp.apply(simplify_truth, axis=1)\n"
     ]
    },
    {
     "data": {
      "text/plain": [
       "simple_truth\n",
       "0    677\n",
       "1    285\n",
       "Name: count, dtype: int64"
      ]
     },
     "execution_count": 6,
     "metadata": {},
     "output_type": "execute_result"
    }
   ],
   "source": [
    "#simplify the truth-value to binary, so we can approximate some accuracy by delineating false as anything below 50\n",
    "def simplify_truth(row):\n",
    "    if row['label'] in ['false', 'mostly false','partly true/misleading']: \n",
    "        return 0\n",
    "    else:\n",
    "        return 1\n",
    "    \n",
    "openai_resp['simple_truth'] = openai_resp.apply(simplify_truth, axis=1)\n",
    "\n",
    "openai_resp[\"simple_truth\"].value_counts() "
   ]
  },
  {
   "cell_type": "markdown",
   "metadata": {},
   "source": [
    "#Convert the prompt 1 scores to binary"
   ]
  },
  {
   "cell_type": "code",
   "execution_count": 7,
   "metadata": {},
   "outputs": [],
   "source": [
    "#Remove responses which couldn't evaluate to a score\n",
    "anomalies=[]\n",
    "def catch_anomalies(row):\n",
    "   if len(row[\"openai_resp\"])>4:\n",
    "      anomalies.append(row)\n",
    "      \n",
    "   else:\n",
    "      return row  # Returning the row unchanged\n",
    "\n",
    "openai_resp = openai_resp.apply(catch_anomalies, axis=1).dropna()\n",
    "\n",
    "#Convert the score to binary hard classification >=50 implies true\n",
    "def convert_Score(row):\n",
    "    if (int(row[\"openai_resp\"])>=50):\n",
    "      return 1\n",
    "    else:\n",
    "      return 0\n",
    "openai_resp['simple_score'] = openai_resp.apply(convert_Score, axis=1)\n"
   ]
  },
  {
   "cell_type": "code",
   "execution_count": 8,
   "metadata": {},
   "outputs": [
    {
     "name": "stdout",
     "output_type": "stream",
     "text": [
      "[openai_resp                         50\n",
      "index                              999\n",
      "label           partly true/misleading\n",
      "language                            it\n",
      "simple_truth                         0\n",
      "Name: 999, dtype: object, openai_resp                         50\n",
      "index                              999\n",
      "label           partly true/misleading\n",
      "language                            it\n",
      "simple_truth                         0\n",
      "Name: 999, dtype: object, openai_resp                         50\n",
      "index                              999\n",
      "label           partly true/misleading\n",
      "language                            it\n",
      "simple_truth                         0\n",
      "Name: 999, dtype: object, openai_resp                         50\n",
      "index                              999\n",
      "label           partly true/misleading\n",
      "language                            it\n",
      "simple_truth                         0\n",
      "Name: 999, dtype: object, openai_resp                         50\n",
      "index                              999\n",
      "label           partly true/misleading\n",
      "language                            it\n",
      "simple_truth                         0\n",
      "Name: 999, dtype: object, openai_resp                         50\n",
      "index                              999\n",
      "label           partly true/misleading\n",
      "language                            it\n",
      "simple_truth                         0\n",
      "Name: 999, dtype: object, openai_resp                         50\n",
      "index                              999\n",
      "label           partly true/misleading\n",
      "language                            it\n",
      "simple_truth                         0\n",
      "Name: 999, dtype: object, openai_resp                         50\n",
      "index                              999\n",
      "label           partly true/misleading\n",
      "language                            it\n",
      "simple_truth                         0\n",
      "Name: 999, dtype: object, openai_resp                         50\n",
      "index                              999\n",
      "label           partly true/misleading\n",
      "language                            it\n",
      "simple_truth                         0\n",
      "Name: 999, dtype: object, openai_resp                         50\n",
      "index                              999\n",
      "label           partly true/misleading\n",
      "language                            it\n",
      "simple_truth                         0\n",
      "Name: 999, dtype: object]\n"
     ]
    }
   ],
   "source": [
    "print(anomalies)"
   ]
  },
  {
   "cell_type": "code",
   "execution_count": 9,
   "metadata": {},
   "outputs": [
    {
     "data": {
      "text/plain": [
       "10"
      ]
     },
     "execution_count": 9,
     "metadata": {},
     "output_type": "execute_result"
    }
   ],
   "source": [
    "len(anomalies)"
   ]
  },
  {
   "cell_type": "markdown",
   "metadata": {},
   "source": [
    "Hence there are 10 entries where ChatGpt couldn't evaluate a score"
   ]
  },
  {
   "cell_type": "code",
   "execution_count": 10,
   "metadata": {},
   "outputs": [
    {
     "data": {
      "text/html": [
       "<div>\n",
       "<style scoped>\n",
       "    .dataframe tbody tr th:only-of-type {\n",
       "        vertical-align: middle;\n",
       "    }\n",
       "\n",
       "    .dataframe tbody tr th {\n",
       "        vertical-align: top;\n",
       "    }\n",
       "\n",
       "    .dataframe thead th {\n",
       "        text-align: right;\n",
       "    }\n",
       "</style>\n",
       "<table border=\"1\" class=\"dataframe\">\n",
       "  <thead>\n",
       "    <tr style=\"text-align: right;\">\n",
       "      <th></th>\n",
       "      <th>openai_resp</th>\n",
       "      <th>index</th>\n",
       "      <th>label</th>\n",
       "      <th>language</th>\n",
       "      <th>simple_truth</th>\n",
       "      <th>simple_score</th>\n",
       "    </tr>\n",
       "  </thead>\n",
       "  <tbody>\n",
       "    <tr>\n",
       "      <th>0</th>\n",
       "      <td>50</td>\n",
       "      <td>0.0</td>\n",
       "      <td>false</td>\n",
       "      <td>tr</td>\n",
       "      <td>0.0</td>\n",
       "      <td>1</td>\n",
       "    </tr>\n",
       "    <tr>\n",
       "      <th>1</th>\n",
       "      <td>50</td>\n",
       "      <td>1.0</td>\n",
       "      <td>partly true/misleading</td>\n",
       "      <td>ka</td>\n",
       "      <td>0.0</td>\n",
       "      <td>1</td>\n",
       "    </tr>\n",
       "    <tr>\n",
       "      <th>2</th>\n",
       "      <td>50</td>\n",
       "      <td>2.0</td>\n",
       "      <td>partly true/misleading</td>\n",
       "      <td>pt</td>\n",
       "      <td>0.0</td>\n",
       "      <td>1</td>\n",
       "    </tr>\n",
       "    <tr>\n",
       "      <th>3</th>\n",
       "      <td>50</td>\n",
       "      <td>3.0</td>\n",
       "      <td>true</td>\n",
       "      <td>ka</td>\n",
       "      <td>1.0</td>\n",
       "      <td>1</td>\n",
       "    </tr>\n",
       "    <tr>\n",
       "      <th>4</th>\n",
       "      <td>50</td>\n",
       "      <td>4.0</td>\n",
       "      <td>false</td>\n",
       "      <td>id</td>\n",
       "      <td>0.0</td>\n",
       "      <td>1</td>\n",
       "    </tr>\n",
       "    <tr>\n",
       "      <th>...</th>\n",
       "      <td>...</td>\n",
       "      <td>...</td>\n",
       "      <td>...</td>\n",
       "      <td>...</td>\n",
       "      <td>...</td>\n",
       "      <td>...</td>\n",
       "    </tr>\n",
       "    <tr>\n",
       "      <th>994</th>\n",
       "      <td>50</td>\n",
       "      <td>994.0</td>\n",
       "      <td>true</td>\n",
       "      <td>ro</td>\n",
       "      <td>1.0</td>\n",
       "      <td>1</td>\n",
       "    </tr>\n",
       "    <tr>\n",
       "      <th>995</th>\n",
       "      <td>85</td>\n",
       "      <td>995.0</td>\n",
       "      <td>partly true/misleading</td>\n",
       "      <td>ar</td>\n",
       "      <td>0.0</td>\n",
       "      <td>1</td>\n",
       "    </tr>\n",
       "    <tr>\n",
       "      <th>996</th>\n",
       "      <td>0</td>\n",
       "      <td>996.0</td>\n",
       "      <td>partly true/misleading</td>\n",
       "      <td>ta</td>\n",
       "      <td>0.0</td>\n",
       "      <td>0</td>\n",
       "    </tr>\n",
       "    <tr>\n",
       "      <th>997</th>\n",
       "      <td>50</td>\n",
       "      <td>997.0</td>\n",
       "      <td>false</td>\n",
       "      <td>pt</td>\n",
       "      <td>0.0</td>\n",
       "      <td>1</td>\n",
       "    </tr>\n",
       "    <tr>\n",
       "      <th>999</th>\n",
       "      <td>50</td>\n",
       "      <td>999.0</td>\n",
       "      <td>partly true/misleading</td>\n",
       "      <td>it</td>\n",
       "      <td>0.0</td>\n",
       "      <td>1</td>\n",
       "    </tr>\n",
       "  </tbody>\n",
       "</table>\n",
       "<p>943 rows × 6 columns</p>\n",
       "</div>"
      ],
      "text/plain": [
       "    openai_resp  index                   label language  simple_truth  \\\n",
       "0            50    0.0                   false       tr           0.0   \n",
       "1            50    1.0  partly true/misleading       ka           0.0   \n",
       "2            50    2.0  partly true/misleading       pt           0.0   \n",
       "3            50    3.0                    true       ka           1.0   \n",
       "4            50    4.0                   false       id           0.0   \n",
       "..          ...    ...                     ...      ...           ...   \n",
       "994          50  994.0                    true       ro           1.0   \n",
       "995          85  995.0  partly true/misleading       ar           0.0   \n",
       "996           0  996.0  partly true/misleading       ta           0.0   \n",
       "997          50  997.0                   false       pt           0.0   \n",
       "999          50  999.0  partly true/misleading       it           0.0   \n",
       "\n",
       "     simple_score  \n",
       "0               1  \n",
       "1               1  \n",
       "2               1  \n",
       "3               1  \n",
       "4               1  \n",
       "..            ...  \n",
       "994             1  \n",
       "995             1  \n",
       "996             0  \n",
       "997             1  \n",
       "999             1  \n",
       "\n",
       "[943 rows x 6 columns]"
      ]
     },
     "execution_count": 10,
     "metadata": {},
     "output_type": "execute_result"
    }
   ],
   "source": [
    "openai_resp"
   ]
  },
  {
   "cell_type": "markdown",
   "metadata": {},
   "source": [
    "#Overall data accuracy score"
   ]
  },
  {
   "cell_type": "code",
   "execution_count": 11,
   "metadata": {},
   "outputs": [
    {
     "data": {
      "text/plain": [
       "0.38918345705196183"
      ]
     },
     "execution_count": 11,
     "metadata": {},
     "output_type": "execute_result"
    }
   ],
   "source": [
    "from sklearn.metrics import accuracy_score\n",
    "accuracy_score(openai_resp[\"simple_truth\"], openai_resp[\"simple_score\"], normalize=True)"
   ]
  },
  {
   "cell_type": "markdown",
   "metadata": {},
   "source": [
    "#Overall data micro f1 score"
   ]
  },
  {
   "cell_type": "code",
   "execution_count": 12,
   "metadata": {},
   "outputs": [
    {
     "data": {
      "text/plain": [
       "0.38918345705196183"
      ]
     },
     "execution_count": 12,
     "metadata": {},
     "output_type": "execute_result"
    }
   ],
   "source": [
    "from sklearn.metrics import f1_score\n",
    "f1_score(openai_resp[\"simple_truth\"], openai_resp[\"simple_score\"], average='micro')"
   ]
  },
  {
   "cell_type": "code",
   "execution_count": 13,
   "metadata": {},
   "outputs": [],
   "source": [
    "openai_resp_grouped=pd.DataFrame(openai_resp).groupby(\"language\")"
   ]
  },
  {
   "cell_type": "code",
   "execution_count": 14,
   "metadata": {},
   "outputs": [
    {
     "data": {
      "image/png": "[encoded data removed]",
      "text/plain": [
       "<Figure size 1000x600 with 1 Axes>"
      ]
     },
     "metadata": {},
     "output_type": "display_data"
    }
   ],
   "source": [
    "import matplotlib.pyplot as plt\n",
    "group_counts = openai_resp_grouped.size()\n",
    "\n",
    "# Sort the groups based on the counts in ascending order\n",
    "sorted_group_counts = group_counts.sort_values()\n",
    "\n",
    "# Plot the bar chart\n",
    "plt.figure(figsize=(10, 6))\n",
    "sorted_group_counts.plot(kind='bar')\n",
    "plt.xlabel('Language')\n",
    "plt.ylabel('Count')\n",
    "plt.title('Group Counts vs Language (Ascending Order)')\n",
    "plt.show()"
   ]
  },
  {
   "cell_type": "code",
   "execution_count": 15,
   "metadata": {},
   "outputs": [
    {
     "name": "stderr",
     "output_type": "stream",
     "text": [
      "/var/folders/jb/bp2_sgws1t95lzb193lt3s_w0000gn/T/ipykernel_24484/3303902291.py:8: DeprecationWarning: DataFrameGroupBy.apply operated on the grouping columns. This behavior is deprecated, and in a future version of pandas the grouping columns will be excluded from the operation. Either pass `include_groups=False` to exclude the groupings or explicitly select the grouping columns after groupby to silence this warning.\n",
      "  metrics_df = openai_resp_grouped.apply(calculate_metrics).reset_index()\n"
     ]
    }
   ],
   "source": [
    "def calculate_metrics(group):\n",
    "    accuracy = accuracy_score(group[\"simple_truth\"], group[\"simple_score\"],normalize=True)\n",
    "    f1 = f1_score(group[\"simple_truth\"], group[\"simple_score\"],average='micro')\n",
    "    count = len(group)\n",
    "    return pd.Series({'accuracy': accuracy, 'f1': f1, 'count': count})\n",
    "\n",
    "# Apply the custom function to each group and construct a new DataFrame\n",
    "metrics_df = openai_resp_grouped.apply(calculate_metrics).reset_index()"
   ]
  },
  {
   "cell_type": "code",
   "execution_count": 16,
   "metadata": {},
   "outputs": [
    {
     "name": "stdout",
     "output_type": "stream",
     "text": [
      "   language  accuracy        f1  count\n",
      "0        ar  0.195402  0.195402   87.0\n",
      "1        de  0.421053  0.421053   38.0\n",
      "2        hi  0.163636  0.163636   55.0\n",
      "3        id  0.245283  0.245283  106.0\n",
      "4        it  0.490909  0.490909   55.0\n",
      "5        ka  0.543210  0.543210   81.0\n",
      "6        pl  0.652174  0.652174   69.0\n",
      "7        pt  0.426621  0.426621  293.0\n",
      "8        ro  0.250000  0.250000   28.0\n",
      "9        sr  0.133333  0.133333   30.0\n",
      "10       ta  0.457627  0.457627   59.0\n",
      "11       tr  0.476190  0.476190   42.0\n"
     ]
    }
   ],
   "source": [
    "print(metrics_df)"
   ]
  },
  {
   "cell_type": "code",
   "execution_count": 17,
   "metadata": {},
   "outputs": [
    {
     "data": {
      "image/png": "[encoded data removed]",
      "text/plain": [
       "<Figure size 1000x600 with 1 Axes>"
      ]
     },
     "metadata": {},
     "output_type": "display_data"
    }
   ],
   "source": [
    "import matplotlib.pyplot as plt\n",
    "\n",
    "\n",
    "# Sort the data by accuracy in descending order for better visualization\n",
    "data_sorted = metrics_df.sort_values(by='accuracy', ascending=False)\n",
    "\n",
    "# Create the bar plot\n",
    "plt.figure(figsize=(10, 6))\n",
    "plt.bar(data_sorted['language'], data_sorted['accuracy'], color='skyblue')\n",
    "plt.xlabel('Language')\n",
    "plt.ylabel('Accuracy')\n",
    "plt.title('Accuracy by Language')\n",
    "plt.xticks(rotation=45)\n",
    "plt.tight_layout()\n",
    "plt.show()\n"
   ]
  },
  {
   "cell_type": "code",
   "execution_count": 18,
   "metadata": {},
   "outputs": [
    {
     "data": {
      "image/png": "[encoded data removed]",
      "text/plain": [
       "<Figure size 1000x600 with 1 Axes>"
      ]
     },
     "metadata": {},
     "output_type": "display_data"
    }
   ],
   "source": [
    "import matplotlib.pyplot as plt\n",
    "\n",
    "\n",
    "# Sort the data by accuracy in descending order for better visualization\n",
    "data_sorted = metrics_df.sort_values(by='f1', ascending=False)\n",
    "\n",
    "# Create the bar plot\n",
    "plt.figure(figsize=(10, 6))\n",
    "plt.bar(data_sorted['language'], data_sorted['f1'], color='skyblue')\n",
    "plt.xlabel('Language')\n",
    "plt.ylabel('f1')\n",
    "plt.title('F1 micro by Language')\n",
    "plt.xticks(rotation=45)\n",
    "plt.tight_layout()\n",
    "plt.show()"
   ]
  },
  {
   "cell_type": "markdown",
   "metadata": {},
   "source": [
    "European vs non european languages"
   ]
  },
  {
   "cell_type": "code",
   "execution_count": 19,
   "metadata": {},
   "outputs": [],
   "source": [
    "def euro_or_not(lang):\n",
    "    if lang in [\"de\", \"es\", \"fr\", \"it\", \"no\", \"nl\", \"pl\", \"pt\", \"ro\", \"ru\", \"sr\", \"sq\"]:\n",
    "        return \"European\"\n",
    "    else:\n",
    "        return \"Non-european\"\n",
    "\n",
    "# Apply the euro_or_not function to create a new column 'euro_language'\n",
    "openai_resp['euro_language'] = openai_resp['language'].apply(euro_or_not)\n",
    "\n",
    "# Group the DataFrame based on the 'euro_language' column\n",
    "grouped_euro = openai_resp.groupby('euro_language')"
   ]
  },
  {
   "cell_type": "code",
   "execution_count": 20,
   "metadata": {},
   "outputs": [
    {
     "name": "stderr",
     "output_type": "stream",
     "text": [
      "/var/folders/jb/bp2_sgws1t95lzb193lt3s_w0000gn/T/ipykernel_24484/3067288616.py:2: DeprecationWarning: DataFrameGroupBy.apply operated on the grouping columns. This behavior is deprecated, and in a future version of pandas the grouping columns will be excluded from the operation. Either pass `include_groups=False` to exclude the groupings or explicitly select the grouping columns after groupby to silence this warning.\n",
      "  metrics_df_euro = grouped_euro.apply(calculate_metrics).reset_index()\n"
     ]
    }
   ],
   "source": [
    "# Apply the custom function to each group and construct a new DataFrame\n",
    "metrics_df_euro = grouped_euro.apply(calculate_metrics).reset_index()"
   ]
  },
  {
   "cell_type": "code",
   "execution_count": 21,
   "metadata": {},
   "outputs": [
    {
     "data": {
      "image/png": "[encoded data removed]",
      "text/plain": [
       "<Figure size 800x600 with 1 Axes>"
      ]
     },
     "metadata": {},
     "output_type": "display_data"
    }
   ],
   "source": [
    "import matplotlib.pyplot as plt\n",
    "\n",
    "\n",
    "# Create the bar plot\n",
    "plt.figure(figsize=(8, 6))\n",
    "plt.bar(metrics_df_euro['euro_language'], metrics_df_euro['accuracy'], color='skyblue')\n",
    "plt.xlabel('Language')\n",
    "plt.ylabel('Accuracy')\n",
    "plt.title('Accuracy by European vs Non-european language')\n",
    "plt.ylim(0, 1)  \n",
    "plt.xticks(rotation=0)\n",
    "plt.tight_layout()\n",
    "plt.show()"
   ]
  },
  {
   "cell_type": "code",
   "execution_count": 22,
   "metadata": {},
   "outputs": [
    {
     "name": "stdout",
     "output_type": "stream",
     "text": [
      "  euro_language  accuracy        f1  count\n",
      "0      European  0.436647  0.436647  513.0\n",
      "1  Non-european  0.332558  0.332558  430.0\n"
     ]
    }
   ],
   "source": [
    "print(metrics_df_euro)"
   ]
  },
  {
   "cell_type": "markdown",
   "metadata": {},
   "source": [
    "Western vs Non-western languages"
   ]
  },
  {
   "cell_type": "code",
   "execution_count": 23,
   "metadata": {},
   "outputs": [],
   "source": [
    "def western(lang):\n",
    "    if lang in [\"de\", \"es\", \"fr\", \"it\", \"nl\", \"no\", \"pt\"]:\n",
    "        return \"Western\"\n",
    "    else:\n",
    "        return \"Non-western\""
   ]
  },
  {
   "cell_type": "code",
   "execution_count": 24,
   "metadata": {},
   "outputs": [
    {
     "name": "stdout",
     "output_type": "stream",
     "text": [
      "  western_language  accuracy        f1  count\n",
      "0      Non-western  0.357271  0.357271  557.0\n",
      "1          Western  0.435233  0.435233  386.0\n"
     ]
    },
    {
     "name": "stderr",
     "output_type": "stream",
     "text": [
      "/var/folders/jb/bp2_sgws1t95lzb193lt3s_w0000gn/T/ipykernel_24484/2685116895.py:7: DeprecationWarning: DataFrameGroupBy.apply operated on the grouping columns. This behavior is deprecated, and in a future version of pandas the grouping columns will be excluded from the operation. Either pass `include_groups=False` to exclude the groupings or explicitly select the grouping columns after groupby to silence this warning.\n",
      "  metrics_df_western = grouped_western.apply(calculate_metrics).reset_index()\n"
     ]
    }
   ],
   "source": [
    "# Apply the western function to create a new column 'western_language'\n",
    "openai_resp['western_language'] = openai_resp['language'].apply(western)\n",
    "\n",
    "# Group the DataFrame based on the 'western_language' column\n",
    "grouped_western = openai_resp.groupby('western_language')\n",
    "# Apply the custom function to each group and construct a new DataFrame\n",
    "metrics_df_western = grouped_western.apply(calculate_metrics).reset_index()\n",
    "print(metrics_df_western)"
   ]
  },
  {
   "cell_type": "code",
   "execution_count": 25,
   "metadata": {},
   "outputs": [
    {
     "data": {
      "image/png": "[encoded data removed]",
      "text/plain": [
       "<Figure size 800x600 with 1 Axes>"
      ]
     },
     "metadata": {},
     "output_type": "display_data"
    }
   ],
   "source": [
    "import matplotlib.pyplot as plt\n",
    "\n",
    "\n",
    "# Create the bar plot\n",
    "plt.figure(figsize=(8, 6))\n",
    "plt.bar(metrics_df_western['western_language'], metrics_df_western['accuracy'], color='skyblue')\n",
    "plt.xlabel('Language')\n",
    "plt.ylabel('Accuracy')\n",
    "plt.title('Accuracy of western vs non- western language')\n",
    "plt.ylim(0, 1)  \n",
    "plt.xticks(rotation=0)\n",
    "plt.tight_layout()\n",
    "plt.show()"
   ]
  },
  {
   "cell_type": "markdown",
   "metadata": {},
   "source": [
    "Language classification based on number of speakers(Small, Big)"
   ]
  },
  {
   "cell_type": "code",
   "execution_count": 26,
   "metadata": {},
   "outputs": [],
   "source": [
    "#languages by size (https://en.wikipedia.org/wiki/List_of_languages_by_total_number_of_speakers)\n",
    "#<45 m: no, nl, pl, ro, sr, sq, az, ka, si\n",
    "#>45 m: de, es, fr, it, pt, ru, ar, bn, fa, gu, hi, id, mr, pa, ta, tr\n",
    "def small(lang):\n",
    "    if lang in [\"no\", \"nl\", \"pl\", \"ro\", \"sr\", \"sq\", \"az\", \"ka\", \"si\"]:\n",
    "        return \"Small\"\n",
    "    else:\n",
    "        return \"Big\"\n"
   ]
  },
  {
   "cell_type": "code",
   "execution_count": 27,
   "metadata": {},
   "outputs": [
    {
     "name": "stdout",
     "output_type": "stream",
     "text": [
      "  small_language  accuracy        f1  count\n",
      "0            Big  0.363265  0.363265  735.0\n",
      "1          Small  0.480769  0.480769  208.0\n"
     ]
    },
    {
     "name": "stderr",
     "output_type": "stream",
     "text": [
      "/var/folders/jb/bp2_sgws1t95lzb193lt3s_w0000gn/T/ipykernel_24484/1686398616.py:7: DeprecationWarning: DataFrameGroupBy.apply operated on the grouping columns. This behavior is deprecated, and in a future version of pandas the grouping columns will be excluded from the operation. Either pass `include_groups=False` to exclude the groupings or explicitly select the grouping columns after groupby to silence this warning.\n",
      "  metrics_df_small = grouped_small.apply(calculate_metrics).reset_index()\n"
     ]
    }
   ],
   "source": [
    "# Apply the small function to create a new column 'small_language'\n",
    "openai_resp['small_language'] = openai_resp['language'].apply(small)\n",
    "\n",
    "# Group the DataFrame based on the 'small_language' column\n",
    "grouped_small = openai_resp.groupby('small_language')\n",
    "# Apply the custom function to each group and construct a new DataFrame\n",
    "metrics_df_small = grouped_small.apply(calculate_metrics).reset_index()\n",
    "print(metrics_df_small)"
   ]
  },
  {
   "cell_type": "code",
   "execution_count": 28,
   "metadata": {},
   "outputs": [
    {
     "data": {
      "image/png": "[encoded data removed]",
      "text/plain": [
       "<Figure size 800x600 with 1 Axes>"
      ]
     },
     "metadata": {},
     "output_type": "display_data"
    }
   ],
   "source": [
    "import matplotlib.pyplot as plt\n",
    "\n",
    "\n",
    "# Create the bar plot\n",
    "plt.figure(figsize=(8, 6))\n",
    "plt.bar(metrics_df_small['small_language'], metrics_df_small['accuracy'], color='skyblue')\n",
    "plt.xlabel('Language Size')\n",
    "plt.ylabel('Accuracy')\n",
    "plt.title('Accuracy by Language Size')\n",
    "plt.ylim(0, 1)  \n",
    "plt.xticks(rotation=0)\n",
    "plt.tight_layout()\n",
    "plt.show()\n"
   ]
  }
 ],
 "metadata": {
  "kernelspec": {
   "display_name": "Python 3 (ipykernel)",
   "language": "python",
   "name": "python3"
  },
  "language_info": {
   "codemirror_mode": {
    "name": "ipython",
    "version": 3
   },
   "file_extension": ".py",
   "mimetype": "text/x-python",
   "name": "python",
   "nbconvert_exporter": "python",
   "pygments_lexer": "ipython3",
   "version": "3.11.4"
  }
 },
 "nbformat": 4,
 "nbformat_minor": 4
}
